{
 "cells": [
  {
   "cell_type": "code",
   "execution_count": 9,
   "metadata": {},
   "outputs": [
    {
     "name": "stdout",
     "output_type": "stream",
     "text": [
      "['a_m', 'ae_m', 'bieup_b', 'bieup_e', 'chieut_b', 'chieut_e', 'digeut_b', 'digeut_e', 'e_m', 'eo_m', 'eu_m', 'giyeok_b', 'giyeok_e', 'hieut_b', 'hieut_e', 'i_m', 'ieung_b', 'ieung_e', 'jieut_b', 'jieut_e', 'kieuk_b', 'kieuk_e', 'mark_d', 'mieum_b', 'mieum_e', 'nieun_b', 'nieun_e', 'o_m', 'oe_m', 'pieup_b', 'pieup_e', 'rieul_b', 'rieul_e', 'siot_b', 'siot_e', 'siot_cd', 'tieut_b', 'tieut_e', 'u_m', 'ui_m', 'wa_m', 'wae_m', 'we_m', 'wi_m', 'wo_m', 'ya_m', 'yae_m', 'ye_m', 'yeo_m', 'yo_m', 'yu_m']\n"
     ]
    }
   ],
   "source": [
    "# Data Preprocessing - mapping jaso\n",
    "\n",
    "names = ['a_b', 'ae_b', 'bieup_a', 'bieup_c', 'chieut_a', 'chieut_c', 'digeut_a', 'digeut_c', 'e_b', 'eo_b', 'eu_b', \n",
    "         'giyeok_a', 'giyeok_c', 'hieut_a', 'hieut_c', 'i_b', 'ieung_a', 'ieung_c', 'jieut_a', 'jieut_c', \n",
    "         'kieuk_a', 'kieuk_c', 'mark_d', 'mieum_a', 'mieum_c', 'nieun_a', 'nieun_c', 'o_b', 'oe_b', 'pieup_a', \n",
    "         'pieup_c', 'rieul_a', 'rieul_c', 'siot_a', 'siot_c', 'siot_cd', 'tieut_a', 'tieut_c', 'u_b', 'ui_b', \n",
    "         'wa_b', 'wae_b', 'we_b', 'wi_b', 'wo_b', 'ya_b', 'yae_b', 'ye_b', 'yeo_b', 'yo_b', 'yu_b']\n",
    "\n",
    "for i in range(len(names)):\n",
    "    if names[i].endswith('_b'):\n",
    "        names[i] = names[i].replace('_b', '_m')\n",
    "    elif names[i].endswith('_a'):\n",
    "        names[i] = names[i].replace('_a', '_b')\n",
    "    elif names[i].endswith('_c'):\n",
    "        names[i] = names[i].replace('_c', '_e')\n",
    "\n",
    "print(names)"
   ]
  },
  {
   "cell_type": "code",
   "execution_count": 2,
   "metadata": {},
   "outputs": [],
   "source": [
    "names = ['a_m', 'ae_m', 'bieup_b', 'bieup_e', 'chieut_b', 'chieut_e', 'digeut_b', 'digeut_e', 'e_m', 'eo_m', 'eu_m', 'giyeok_b', 'giyeok_e', 'hieut_b', 'hieut_e', 'i_m', 'ieung_b', 'ieung_e', 'jieut_b', 'jieut_e', 'kieuk_b', 'kieuk_e', 'mark_d', 'mieum_b', 'mieum_e', 'nieun_b', 'nieun_e', 'o_m', 'oe_m', 'pieup_b', 'pieup_e', 'rieul_b', 'rieul_e', 'siot_b', 'siot_e', 'siot_cd', 'tieut_b', 'tieut_e', 'u_m', 'ui_m', 'wa_m', 'wae_m', 'we_m', 'wi_m', 'wo_m', 'ya_m', 'yae_m', 'ye_m', 'yeo_m', 'yo_m', 'yu_m']"
   ]
  },
  {
   "cell_type": "code",
   "execution_count": 3,
   "metadata": {},
   "outputs": [],
   "source": [
    "# jaso -> mapping binary - braille_hangle dataset\n",
    "binary_mapping_dict = {\n",
    "  \"a_m\" : \"110001\",\n",
    " \"ae_m\" : \"111010\",\n",
    " \"bieup_b\" : \"000110\",\n",
    " \"bieup_e\" : \"110000\",\n",
    " \"chieut_b\" : \"000011\",\n",
    " \"chieut_e\" : \"011000\",\n",
    " \"digeut_b\" : \"010100\",\n",
    " \"digeut_e\" : \"001010\",\n",
    " \"e_m\" : \"101110\", # ㅔ\n",
    " \"eo_m\" :\"011100\", # ㅓ\n",
    " \"eu_m\" : \"010101\", # ㅡ\n",
    " \"giyeok_b\" : \"000100\",\n",
    " \"giyeok_e\" : \"100000\",\n",
    " \"hieut_b\" : \"010110\",\n",
    " \"hieut_e\" : \"001011\",\n",
    " \"i_m\" : \"101010\",\n",
    " \"ieung_b\" : \"110110\",\n",
    " \"ieung_e\" : \"011011\",\n",
    " \"jieut_b\" : \"000101\",\n",
    " \"jieut_e\" : \"101000\",\n",
    " \"kieuk_b\" : \"110100\",\n",
    " \"kieuk_e\" : \"011010\",\n",
    " \"mark_d\" : \"<double>\",\n",
    " \"mieum_b\" : \"100010\",\n",
    " \"mieum_e\" : \"010001\",\n",
    " \"nieun_b\" : \"100100\",\n",
    " \"nieun_e\" : \"010010\",\n",
    " \"o_m\" : \"101001\",\n",
    " \"oe_m\" : \"101111\", # ㅚ\n",
    " \"pieup_b\" : \"100110\",\n",
    " \"pieup_e\" : \"010011\",\n",
    " \"rieul_b\" : \"000010\",\n",
    " \"rieul_e\" : \"010000\",\n",
    " \"siot_b\" : \"000001\",\n",
    " \"siot_e\" : \"001000\",\n",
    " \"siot_cd\" : \"001100\",\n",
    " \"tieut_b\" : \"110010\",\n",
    " \"tieut_e\" : \"011001\",\n",
    " \"u_m\" : \"101100\", # ㅜ\n",
    " \"ui_m\" : \"010111\", # ㅟ\n",
    " \"wa_m\" : \"111001\", # ㅘ\n",
    " \"wae_m\" : \"111001 111010\", #ㅙ\n",
    " \"we_m\" : \"111100 111010\", #ㅞ\n",
    " \"wi_m\" : \"101100 111010\", #ㅟ\n",
    " \"wo_m\" : \"111100\", # ㅝ\n",
    " \"ya_m\" :\"001110\",\n",
    " \"yae_m\" : \"001110 111010\", # ㅒ\n",
    " \"ye_m\" : \"001100\",\n",
    " \"yeo_m\" : \"100011\",\n",
    " \"yo_m\" : \"001101\",\n",
    " \"yu_m\" : \"100101\"\n",
    "   # 겹자음 패턴추가 \n",
    "}\n",
    "bin_name = []\n",
    "for n in names:\n",
    "    bin_name.append(binary_mapping_dict[n])"
   ]
  },
  {
   "cell_type": "code",
   "execution_count": 4,
   "metadata": {},
   "outputs": [
    {
     "name": "stdout",
     "output_type": "stream",
     "text": [
      "['110001', '111010', '000110', '110000', '000011', '011000', '010100', '001010', '101110', '011100', '010101', '000100', '100000', '010110', '001011', '101010', '110110', '011011', '000101', '101000', '110100', '011010', '<double>', '100010', '010001', '100100', '010010', '101001', '101111', '100110', '010011', '000010', '010000', '000001', '001000', '001100', '110010', '011001', '101100', '010111', '111001', '111001 111010', '111100 111010', '101100 111010', '111100', '001110', '001110 111010', '001100', '100011', '001101', '100101']\n"
     ]
    }
   ],
   "source": [
    "print(bin_name)"
   ]
  },
  {
   "cell_type": "code",
   "execution_count": 18,
   "metadata": {},
   "outputs": [
    {
     "name": "stdout",
     "output_type": "stream",
     "text": [
      "\"a_m\" :\n",
      " \"ae_m\" :\n",
      " \"bieup_b\" :\n",
      " \"bieup_e\" :\n",
      " \"chieut_b\" :\n",
      " \"chieut_e\" :\n",
      " \"digeut_b\" :\n",
      " \"digeut_e\" :\n",
      " \"e_m\" :\n",
      " \"eo_m\" :\n",
      " \"eu_m\" :\n",
      " \"giyeok_b\" :\n",
      " \"giyeok_e\" :\n",
      " \"hieut_b\" :\n",
      " \"hieut_e\" :\n",
      " \"i_m\" :\n",
      " \"ieung_b\" :\n",
      " \"ieung_e\" :\n",
      " \"jieut_b\" :\n",
      " \"jieut_e\" :\n",
      " \"kieuk_b\" :\n",
      " \"kieuk_e\" :\n",
      " \"mark_d\" :\n",
      " \"mieum_b\" :\n",
      " \"mieum_e\" :\n",
      " \"nieun_b\" :\n",
      " \"nieun_e\" :\n",
      " \"o_m\" :\n",
      " \"oe_m\" :\n",
      " \"pieup_b\" :\n",
      " \"pieup_e\" :\n",
      " \"rieul_b\" :\n",
      " \"rieul_e\" :\n",
      " \"siot_b\" :\n",
      " \"siot_e\" :\n",
      " \"siot_cd\" :\n",
      " \"tieut_b\" :\n",
      " \"tieut_e\" :\n",
      " \"u_m\" :\n",
      " \"ui_m\" :\n",
      " \"wa_m\" :\n",
      " \"wae_m\" :\n",
      " \"we_m\" :\n",
      " \"wi_m\" :\n",
      " \"wo_m\" :\n",
      " \"ya_m\" :\n",
      " \"yae_m\" :\n",
      " \"ye_m\" :\n",
      " \"yeo_m\" :\n",
      " \"yo_m\" :\n",
      " \"yu_m\"\n"
     ]
    }
   ],
   "source": [
    "names =\"\"\"'a_m',\n",
    " 'ae_m',\n",
    " 'bieup_b',\n",
    " 'bieup_e',\n",
    " 'chieut_b',\n",
    " 'chieut_e',\n",
    " 'digeut_b',\n",
    " 'digeut_e',\n",
    " 'e_m',\n",
    " 'eo_m',\n",
    " 'eu_m',\n",
    " 'giyeok_b',\n",
    " 'giyeok_e',\n",
    " 'hieut_b',\n",
    " 'hieut_e',\n",
    " 'i_m',\n",
    " 'ieung_b',\n",
    " 'ieung_e',\n",
    " 'jieut_b',\n",
    " 'jieut_e',\n",
    " 'kieuk_b',\n",
    " 'kieuk_e',\n",
    " 'mark_d',\n",
    " 'mieum_b',\n",
    " 'mieum_e',\n",
    " 'nieun_b',\n",
    " 'nieun_e',\n",
    " 'o_m',\n",
    " 'oe_m',\n",
    " 'pieup_b',\n",
    " 'pieup_e',\n",
    " 'rieul_b',\n",
    " 'rieul_e',\n",
    " 'siot_b',\n",
    " 'siot_e',\n",
    " 'siot_cd',\n",
    " 'tieut_b',\n",
    " 'tieut_e',\n",
    " 'u_m',\n",
    " 'ui_m',\n",
    " 'wa_m',\n",
    " 'wae_m',\n",
    " 'we_m',\n",
    " 'wi_m',\n",
    " 'wo_m',\n",
    " 'ya_m',\n",
    " 'yae_m',\n",
    " 'ye_m',\n",
    " 'yeo_m',\n",
    " 'yo_m',\n",
    " 'yu_m'\"\"\"\n",
    "\n",
    "new_names = names.replace(\"'\", '\"').replace(\"\\n\", \"\").replace(\",\",\" :\\n\")\n",
    "print(new_names)"
   ]
  },
  {
   "cell_type": "code",
   "execution_count": null,
   "metadata": {},
   "outputs": [],
   "source": [
    "l = ['a_m', 'ae_m', 'bieup_b', 'bieup_e', 'chieut_b', 'chieut_e', 'digeut_b', 'digeut_e', 'e_m', 'eo_m', 'eu_m', 'giyeok_b', 'giyeok_e', 'hieut_b', 'hieut_e', 'i_m', 'ieung_b', 'ieung_e', 'jieut_b', 'jieut_e', 'kieuk_b', 'kieuk_e', 'mark_d', 'mieum_b', 'mieum_e', 'nieun_b', 'nieun_e', 'o_m', 'oe_m', 'pieup_b', 'pieup_e', 'rieul_b', 'rieul_e', 'siot_b', 'siot_e', 'siot_cd', 'tieut_b', 'tieut_e', 'u_m', 'ui_m', 'wa_m', 'wae_m', 'we_m', 'wi_m', 'wo_m', 'ya_m', 'yae_m', 'ye_m', 'yeo_m', 'yo_m', 'yu_m']"
   ]
  },
  {
   "cell_type": "code",
   "execution_count": 43,
   "metadata": {},
   "outputs": [
    {
     "name": "stdout",
     "output_type": "stream",
     "text": [
      "Value at index: 100011\n"
     ]
    }
   ],
   "source": [
    "# corrected mapping character check\n",
    "\n",
    "import yaml\n",
    "\n",
    "yaml_file_path = '/home2/kimmg/alpha/dataset/testmk2datset/data.yaml'\n",
    "\n",
    "with open(yaml_file_path, 'r') as file:\n",
    "    data = yaml.safe_load(file)\n",
    "\n",
    "try:\n",
    "    name_list = data['names']  \n",
    "    index_2_value = name_list[43]  \n",
    "    print(f\"Value at index: {index_2_value}\")\n",
    "except (KeyError, IndexError) as e:\n",
    "    print(f\"Error accessing name object or index 2: {e}\")"
   ]
  },
  {
   "cell_type": "code",
   "execution_count": 2,
   "metadata": {},
   "outputs": [
    {
     "name": "stdout",
     "output_type": "stream",
     "text": [
      "Ultralytics YOLOv8.2.92 🚀 Python-3.11.9 torch-2.0.1+cu117 CUDA:0 (NVIDIA TITAN Xp, 12196MiB)\n",
      "\u001b[34m\u001b[1mengine/trainer: \u001b[0mtask=detect, mode=train, model=/home2/kimmg/alpha/yolov8n.pt, data=/home2/kimmg/alpha/dataset/testmk2datset/data.yaml, epochs=150, time=None, patience=100, batch=1, imgsz=640, save=True, save_period=-1, cache=False, device=0, workers=4, project=None, name=yolo_braille_hangeul_mkdata_only5, exist_ok=False, pretrained=True, optimizer=auto, verbose=True, seed=0, deterministic=True, single_cls=False, rect=False, cos_lr=False, close_mosaic=10, resume=False, amp=True, fraction=1.0, profile=False, freeze=None, multi_scale=False, overlap_mask=True, mask_ratio=4, dropout=0.0, val=True, split=val, save_json=False, save_hybrid=False, conf=None, iou=0.7, max_det=300, half=False, dnn=False, plots=True, source=None, vid_stride=1, stream_buffer=False, visualize=False, augment=False, agnostic_nms=False, classes=None, retina_masks=False, embed=None, show=False, save_frames=False, save_txt=False, save_conf=False, save_crop=False, show_labels=True, show_conf=True, show_boxes=True, line_width=None, format=torchscript, keras=False, optimize=False, int8=False, dynamic=False, simplify=False, opset=None, workspace=4, nms=False, lr0=0.001, lrf=0.2, momentum=0.937, weight_decay=0.0005, warmup_epochs=3.0, warmup_momentum=0.8, warmup_bias_lr=0.1, box=7.5, cls=0.5, dfl=1.5, pose=12.0, kobj=1.0, label_smoothing=0.0, nbs=64, hsv_h=0.015, hsv_s=0.7, hsv_v=0.4, degrees=0.0, translate=0.1, scale=0.5, shear=0.0, perspective=0.0, flipud=0.0, fliplr=0.5, bgr=0.0, mosaic=1.0, mixup=0.0, copy_paste=0.0, auto_augment=randaugment, erasing=0.4, crop_fraction=1.0, cfg=None, tracker=botsort.yaml, save_dir=runs/detect/yolo_braille_hangeul_mkdata_only5\n",
      "Overriding model.yaml nc=80 with nc=63\n",
      "\n",
      "                   from  n    params  module                                       arguments                     \n",
      "  0                  -1  1       464  ultralytics.nn.modules.conv.Conv             [3, 16, 3, 2]                 \n",
      "  1                  -1  1      4672  ultralytics.nn.modules.conv.Conv             [16, 32, 3, 2]                \n",
      "  2                  -1  1      7360  ultralytics.nn.modules.block.C2f             [32, 32, 1, True]             \n",
      "  3                  -1  1     18560  ultralytics.nn.modules.conv.Conv             [32, 64, 3, 2]                \n",
      "  4                  -1  2     49664  ultralytics.nn.modules.block.C2f             [64, 64, 2, True]             \n",
      "  5                  -1  1     73984  ultralytics.nn.modules.conv.Conv             [64, 128, 3, 2]               \n",
      "  6                  -1  2    197632  ultralytics.nn.modules.block.C2f             [128, 128, 2, True]           \n",
      "  7                  -1  1    295424  ultralytics.nn.modules.conv.Conv             [128, 256, 3, 2]              \n",
      "  8                  -1  1    460288  ultralytics.nn.modules.block.C2f             [256, 256, 1, True]           \n",
      "  9                  -1  1    164608  ultralytics.nn.modules.block.SPPF            [256, 256, 5]                 \n",
      " 10                  -1  1         0  torch.nn.modules.upsampling.Upsample         [None, 2, 'nearest']          \n",
      " 11             [-1, 6]  1         0  ultralytics.nn.modules.conv.Concat           [1]                           \n",
      " 12                  -1  1    148224  ultralytics.nn.modules.block.C2f             [384, 128, 1]                 \n",
      " 13                  -1  1         0  torch.nn.modules.upsampling.Upsample         [None, 2, 'nearest']          \n",
      " 14             [-1, 4]  1         0  ultralytics.nn.modules.conv.Concat           [1]                           \n",
      " 15                  -1  1     37248  ultralytics.nn.modules.block.C2f             [192, 64, 1]                  \n",
      " 16                  -1  1     36992  ultralytics.nn.modules.conv.Conv             [64, 64, 3, 2]                \n",
      " 17            [-1, 12]  1         0  ultralytics.nn.modules.conv.Concat           [1]                           \n",
      " 18                  -1  1    123648  ultralytics.nn.modules.block.C2f             [192, 128, 1]                 \n",
      " 19                  -1  1    147712  ultralytics.nn.modules.conv.Conv             [128, 128, 3, 2]              \n",
      " 20             [-1, 9]  1         0  ultralytics.nn.modules.conv.Concat           [1]                           \n",
      " 21                  -1  1    493056  ultralytics.nn.modules.block.C2f             [384, 256, 1]                 \n",
      " 22        [15, 18, 21]  1    763597  ultralytics.nn.modules.head.Detect           [63, [64, 128, 256]]          \n",
      "Model summary: 225 layers, 3,023,133 parameters, 3,023,117 gradients, 8.3 GFLOPs\n",
      "\n",
      "Transferred 319/355 items from pretrained weights\n",
      "Freezing layer 'model.22.dfl.conv.weight'\n",
      "\u001b[34m\u001b[1mAMP: \u001b[0mrunning Automatic Mixed Precision (AMP) checks with YOLOv8n...\n",
      "\u001b[34m\u001b[1mAMP: \u001b[0mchecks passed ✅\n"
     ]
    },
    {
     "name": "stderr",
     "output_type": "stream",
     "text": [
      "\u001b[34m\u001b[1mtrain: \u001b[0mScanning /home2/kimmg/alpha/dataset/testmk2datset/train/labels.cache... 451 images, 0 backgrounds, 0 corrupt: 100%|██████████| 451/451 [00:00<?, ?it/s]"
     ]
    },
    {
     "name": "stdout",
     "output_type": "stream",
     "text": [
      "\u001b[34m\u001b[1mtrain: \u001b[0mWARNING ⚠️ /home2/kimmg/alpha/dataset/testmk2datset/train/images/137_jpg.rf.a4e9f97f5c506429a126ce151b4592bc.jpg: 1 duplicate labels removed\n"
     ]
    },
    {
     "name": "stderr",
     "output_type": "stream",
     "text": [
      "\n",
      "\u001b[34m\u001b[1mval: \u001b[0mScanning /home2/kimmg/alpha/dataset/testmk2datset/train/labels.cache... 451 images, 0 backgrounds, 0 corrupt: 100%|██████████| 451/451 [00:00<?, ?it/s]"
     ]
    },
    {
     "name": "stdout",
     "output_type": "stream",
     "text": [
      "\u001b[34m\u001b[1mtrain: \u001b[0mWARNING ⚠️ /home2/kimmg/alpha/dataset/testmk2datset/train/images/137_jpg.rf.a4e9f97f5c506429a126ce151b4592bc.jpg: 1 duplicate labels removed\n"
     ]
    },
    {
     "name": "stderr",
     "output_type": "stream",
     "text": [
      "\n"
     ]
    },
    {
     "name": "stdout",
     "output_type": "stream",
     "text": [
      "Plotting labels to runs/detect/yolo_braille_hangeul_mkdata_only5/labels.jpg... \n",
      "\u001b[34m\u001b[1moptimizer:\u001b[0m 'optimizer=auto' found, ignoring 'lr0=0.001' and 'momentum=0.937' and determining best 'optimizer', 'lr0' and 'momentum' automatically... \n",
      "\u001b[34m\u001b[1moptimizer:\u001b[0m AdamW(lr=0.000149, momentum=0.9) with parameter groups 57 weight(decay=0.0), 64 weight(decay=0.0005), 63 bias(decay=0.0)\n",
      "Image sizes 640 train, 640 val\n",
      "Using 4 dataloader workers\n",
      "Logging results to \u001b[1mruns/detect/yolo_braille_hangeul_mkdata_only5\u001b[0m\n",
      "Starting training for 150 epochs...\n",
      "\n",
      "      Epoch    GPU_mem   box_loss   cls_loss   dfl_loss  Instances       Size\n"
     ]
    },
    {
     "name": "stderr",
     "output_type": "stream",
     "text": [
      "      1/150     0.321G      2.265      5.362      1.733         17        640: 100%|██████████| 451/451 [00:30<00:00, 14.57it/s]\n",
      "                 Class     Images  Instances      Box(P          R      mAP50  mAP50-95): 100%|██████████| 226/226 [00:05<00:00, 38.35it/s]\n"
     ]
    },
    {
     "name": "stdout",
     "output_type": "stream",
     "text": [
      "                   all        451       3528    0.00373      0.008    0.00256    0.00106\n",
      "\n",
      "      Epoch    GPU_mem   box_loss   cls_loss   dfl_loss  Instances       Size\n"
     ]
    },
    {
     "name": "stderr",
     "output_type": "stream",
     "text": [
      "      2/150     0.323G      1.853      5.118      1.429         12        640: 100%|██████████| 451/451 [00:29<00:00, 15.49it/s]\n",
      "                 Class     Images  Instances      Box(P          R      mAP50  mAP50-95): 100%|██████████| 226/226 [00:04<00:00, 46.18it/s]\n"
     ]
    },
    {
     "name": "stdout",
     "output_type": "stream",
     "text": [
      "                   all        451       3528    0.00555     0.0695    0.00456     0.0023\n",
      "\n",
      "      Epoch    GPU_mem   box_loss   cls_loss   dfl_loss  Instances       Size\n"
     ]
    },
    {
     "name": "stderr",
     "output_type": "stream",
     "text": [
      "      3/150     0.323G      1.612      4.889        1.3          5        640: 100%|██████████| 451/451 [00:29<00:00, 15.55it/s]\n",
      "                 Class     Images  Instances      Box(P          R      mAP50  mAP50-95): 100%|██████████| 226/226 [00:05<00:00, 43.24it/s]\n"
     ]
    },
    {
     "name": "stdout",
     "output_type": "stream",
     "text": [
      "                   all        451       3528     0.0105       0.23     0.0102    0.00648\n",
      "\n",
      "      Epoch    GPU_mem   box_loss   cls_loss   dfl_loss  Instances       Size\n"
     ]
    },
    {
     "name": "stderr",
     "output_type": "stream",
     "text": [
      "      4/150     0.325G       1.52      4.682      1.249          7        640: 100%|██████████| 451/451 [00:32<00:00, 13.99it/s]\n",
      "                 Class     Images  Instances      Box(P          R      mAP50  mAP50-95): 100%|██████████| 226/226 [00:06<00:00, 36.24it/s]\n"
     ]
    },
    {
     "name": "stdout",
     "output_type": "stream",
     "text": [
      "                   all        451       3528     0.0119      0.281     0.0142    0.00931\n",
      "\n",
      "      Epoch    GPU_mem   box_loss   cls_loss   dfl_loss  Instances       Size\n"
     ]
    },
    {
     "name": "stderr",
     "output_type": "stream",
     "text": [
      "      5/150     0.325G      1.458      4.511      1.204         21        640: 100%|██████████| 451/451 [00:30<00:00, 14.59it/s]\n",
      "                 Class     Images  Instances      Box(P          R      mAP50  mAP50-95): 100%|██████████| 226/226 [00:05<00:00, 45.07it/s]\n"
     ]
    },
    {
     "name": "stdout",
     "output_type": "stream",
     "text": [
      "                   all        451       3528     0.0118      0.305      0.016     0.0107\n",
      "\n",
      "      Epoch    GPU_mem   box_loss   cls_loss   dfl_loss  Instances       Size\n"
     ]
    },
    {
     "name": "stderr",
     "output_type": "stream",
     "text": [
      "      6/150     0.325G      1.421      4.303      1.192          6        640: 100%|██████████| 451/451 [00:29<00:00, 15.09it/s]\n",
      "                 Class     Images  Instances      Box(P          R      mAP50  mAP50-95): 100%|██████████| 226/226 [00:05<00:00, 43.42it/s]\n"
     ]
    },
    {
     "name": "stdout",
     "output_type": "stream",
     "text": [
      "                   all        451       3528      0.279     0.0887     0.0205     0.0141\n",
      "\n",
      "      Epoch    GPU_mem   box_loss   cls_loss   dfl_loss  Instances       Size\n"
     ]
    },
    {
     "name": "stderr",
     "output_type": "stream",
     "text": [
      "      7/150     0.327G      1.358      4.281      1.175          9        640: 100%|██████████| 451/451 [00:30<00:00, 14.63it/s]\n",
      "                 Class     Images  Instances      Box(P          R      mAP50  mAP50-95): 100%|██████████| 226/226 [00:05<00:00, 44.69it/s]\n"
     ]
    },
    {
     "name": "stdout",
     "output_type": "stream",
     "text": [
      "                   all        451       3528      0.245     0.0897      0.025      0.018\n",
      "\n",
      "      Epoch    GPU_mem   box_loss   cls_loss   dfl_loss  Instances       Size\n"
     ]
    },
    {
     "name": "stderr",
     "output_type": "stream",
     "text": [
      "      8/150     0.327G      1.324      4.187       1.15         28        640: 100%|██████████| 451/451 [00:29<00:00, 15.50it/s]\n",
      "                 Class     Images  Instances      Box(P          R      mAP50  mAP50-95): 100%|██████████| 226/226 [00:05<00:00, 43.31it/s]\n"
     ]
    },
    {
     "name": "stdout",
     "output_type": "stream",
     "text": [
      "                   all        451       3528      0.296      0.109     0.0342     0.0242\n",
      "\n",
      "      Epoch    GPU_mem   box_loss   cls_loss   dfl_loss  Instances       Size\n"
     ]
    },
    {
     "name": "stderr",
     "output_type": "stream",
     "text": [
      "      9/150     0.327G      1.274      4.005       1.15         31        640: 100%|██████████| 451/451 [00:27<00:00, 16.15it/s]\n",
      "                 Class     Images  Instances      Box(P          R      mAP50  mAP50-95): 100%|██████████| 226/226 [00:05<00:00, 41.69it/s]\n"
     ]
    },
    {
     "name": "stdout",
     "output_type": "stream",
     "text": [
      "                   all        451       3528      0.258      0.109     0.0422     0.0305\n",
      "\n",
      "      Epoch    GPU_mem   box_loss   cls_loss   dfl_loss  Instances       Size\n"
     ]
    },
    {
     "name": "stderr",
     "output_type": "stream",
     "text": [
      "     10/150     0.327G      1.276      3.973      1.134          8        640: 100%|██████████| 451/451 [00:29<00:00, 15.06it/s]\n",
      "                 Class     Images  Instances      Box(P          R      mAP50  mAP50-95): 100%|██████████| 226/226 [00:05<00:00, 42.04it/s]\n"
     ]
    },
    {
     "name": "stdout",
     "output_type": "stream",
     "text": [
      "                   all        451       3528      0.305      0.112     0.0529     0.0375\n",
      "\n",
      "      Epoch    GPU_mem   box_loss   cls_loss   dfl_loss  Instances       Size\n"
     ]
    },
    {
     "name": "stderr",
     "output_type": "stream",
     "text": [
      "     11/150     0.327G      1.262      3.795      1.141         19        640: 100%|██████████| 451/451 [00:29<00:00, 15.16it/s]\n",
      "                 Class     Images  Instances      Box(P          R      mAP50  mAP50-95): 100%|██████████| 226/226 [00:05<00:00, 43.77it/s]\n"
     ]
    },
    {
     "name": "stdout",
     "output_type": "stream",
     "text": [
      "                   all        451       3528      0.315      0.124     0.0637     0.0461\n",
      "\n",
      "      Epoch    GPU_mem   box_loss   cls_loss   dfl_loss  Instances       Size\n"
     ]
    },
    {
     "name": "stderr",
     "output_type": "stream",
     "text": [
      "     12/150     0.327G      1.268      3.709      1.151         13        640: 100%|██████████| 451/451 [00:30<00:00, 14.91it/s]\n",
      "                 Class     Images  Instances      Box(P          R      mAP50  mAP50-95): 100%|██████████| 226/226 [00:05<00:00, 41.43it/s]\n"
     ]
    },
    {
     "name": "stdout",
     "output_type": "stream",
     "text": [
      "                   all        451       3528      0.305      0.145     0.0737     0.0541\n",
      "\n",
      "      Epoch    GPU_mem   box_loss   cls_loss   dfl_loss  Instances       Size\n"
     ]
    },
    {
     "name": "stderr",
     "output_type": "stream",
     "text": [
      "     13/150     0.327G      1.229      3.679      1.117         18        640: 100%|██████████| 451/451 [00:30<00:00, 14.65it/s]\n",
      "                 Class     Images  Instances      Box(P          R      mAP50  mAP50-95): 100%|██████████| 226/226 [00:05<00:00, 43.46it/s]\n"
     ]
    },
    {
     "name": "stdout",
     "output_type": "stream",
     "text": [
      "                   all        451       3528      0.184      0.165     0.0814     0.0595\n",
      "\n",
      "      Epoch    GPU_mem   box_loss   cls_loss   dfl_loss  Instances       Size\n"
     ]
    },
    {
     "name": "stderr",
     "output_type": "stream",
     "text": [
      "     14/150     0.327G      1.261      3.568      1.141          8        640: 100%|██████████| 451/451 [00:29<00:00, 15.45it/s]\n",
      "                 Class     Images  Instances      Box(P          R      mAP50  mAP50-95): 100%|██████████| 226/226 [00:05<00:00, 43.86it/s]\n"
     ]
    },
    {
     "name": "stdout",
     "output_type": "stream",
     "text": [
      "                   all        451       3528      0.285      0.184     0.0929     0.0682\n",
      "\n",
      "      Epoch    GPU_mem   box_loss   cls_loss   dfl_loss  Instances       Size\n"
     ]
    },
    {
     "name": "stderr",
     "output_type": "stream",
     "text": [
      "     15/150     0.327G      1.215      3.432      1.132          9        640: 100%|██████████| 451/451 [00:30<00:00, 14.59it/s]\n",
      "                 Class     Images  Instances      Box(P          R      mAP50  mAP50-95): 100%|██████████| 226/226 [00:05<00:00, 40.82it/s]\n"
     ]
    },
    {
     "name": "stdout",
     "output_type": "stream",
     "text": [
      "                   all        451       3528      0.265      0.185      0.105     0.0765\n",
      "\n",
      "      Epoch    GPU_mem   box_loss   cls_loss   dfl_loss  Instances       Size\n"
     ]
    },
    {
     "name": "stderr",
     "output_type": "stream",
     "text": [
      "     16/150     0.327G      1.211      3.363       1.13         20        640: 100%|██████████| 451/451 [00:29<00:00, 15.17it/s]\n",
      "                 Class     Images  Instances      Box(P          R      mAP50  mAP50-95): 100%|██████████| 226/226 [00:05<00:00, 43.27it/s]\n"
     ]
    },
    {
     "name": "stdout",
     "output_type": "stream",
     "text": [
      "                   all        451       3528      0.287      0.203      0.126     0.0926\n",
      "\n",
      "      Epoch    GPU_mem   box_loss   cls_loss   dfl_loss  Instances       Size\n"
     ]
    },
    {
     "name": "stderr",
     "output_type": "stream",
     "text": [
      "     17/150     0.327G      1.187      3.339      1.116         13        640: 100%|██████████| 451/451 [00:29<00:00, 15.04it/s]\n",
      "                 Class     Images  Instances      Box(P          R      mAP50  mAP50-95): 100%|██████████| 226/226 [00:05<00:00, 43.14it/s]\n"
     ]
    },
    {
     "name": "stdout",
     "output_type": "stream",
     "text": [
      "                   all        451       3528      0.308      0.224      0.145      0.107\n",
      "\n",
      "      Epoch    GPU_mem   box_loss   cls_loss   dfl_loss  Instances       Size\n"
     ]
    },
    {
     "name": "stderr",
     "output_type": "stream",
     "text": [
      "     18/150     0.327G      1.173      3.299      1.122         16        640: 100%|██████████| 451/451 [00:30<00:00, 14.79it/s]\n",
      "                 Class     Images  Instances      Box(P          R      mAP50  mAP50-95): 100%|██████████| 226/226 [00:05<00:00, 42.45it/s]\n"
     ]
    },
    {
     "name": "stdout",
     "output_type": "stream",
     "text": [
      "                   all        451       3528      0.326      0.236      0.157      0.118\n",
      "\n",
      "      Epoch    GPU_mem   box_loss   cls_loss   dfl_loss  Instances       Size\n"
     ]
    },
    {
     "name": "stderr",
     "output_type": "stream",
     "text": [
      "     19/150     0.327G      1.168      3.196       1.12         68        640: 100%|██████████| 451/451 [00:30<00:00, 14.77it/s]\n",
      "                 Class     Images  Instances      Box(P          R      mAP50  mAP50-95): 100%|██████████| 226/226 [00:05<00:00, 39.57it/s]\n"
     ]
    },
    {
     "name": "stdout",
     "output_type": "stream",
     "text": [
      "                   all        451       3528      0.359      0.274      0.174      0.129\n",
      "\n",
      "      Epoch    GPU_mem   box_loss   cls_loss   dfl_loss  Instances       Size\n"
     ]
    },
    {
     "name": "stderr",
     "output_type": "stream",
     "text": [
      "     20/150     0.327G      1.164      3.087      1.134         16        640: 100%|██████████| 451/451 [00:29<00:00, 15.35it/s]\n",
      "                 Class     Images  Instances      Box(P          R      mAP50  mAP50-95): 100%|██████████| 226/226 [00:05<00:00, 43.65it/s]\n"
     ]
    },
    {
     "name": "stdout",
     "output_type": "stream",
     "text": [
      "                   all        451       3528      0.311      0.293      0.167      0.125\n",
      "\n",
      "      Epoch    GPU_mem   box_loss   cls_loss   dfl_loss  Instances       Size\n"
     ]
    },
    {
     "name": "stderr",
     "output_type": "stream",
     "text": [
      "     21/150     0.327G       1.17      3.133      1.113         12        640: 100%|██████████| 451/451 [00:30<00:00, 14.63it/s]\n",
      "                 Class     Images  Instances      Box(P          R      mAP50  mAP50-95): 100%|██████████| 226/226 [00:05<00:00, 42.93it/s]\n"
     ]
    },
    {
     "name": "stdout",
     "output_type": "stream",
     "text": [
      "                   all        451       3528      0.341      0.291      0.196      0.147\n",
      "\n",
      "      Epoch    GPU_mem   box_loss   cls_loss   dfl_loss  Instances       Size\n"
     ]
    },
    {
     "name": "stderr",
     "output_type": "stream",
     "text": [
      "     22/150     0.327G      1.141       2.98      1.115         19        640: 100%|██████████| 451/451 [00:30<00:00, 14.84it/s]\n",
      "                 Class     Images  Instances      Box(P          R      mAP50  mAP50-95): 100%|██████████| 226/226 [00:05<00:00, 43.22it/s]\n"
     ]
    },
    {
     "name": "stdout",
     "output_type": "stream",
     "text": [
      "                   all        451       3528      0.355      0.302      0.203      0.153\n",
      "\n",
      "      Epoch    GPU_mem   box_loss   cls_loss   dfl_loss  Instances       Size\n"
     ]
    },
    {
     "name": "stderr",
     "output_type": "stream",
     "text": [
      "     23/150     0.327G      1.126      2.865      1.105         14        640: 100%|██████████| 451/451 [00:29<00:00, 15.10it/s]\n",
      "                 Class     Images  Instances      Box(P          R      mAP50  mAP50-95): 100%|██████████| 226/226 [00:05<00:00, 43.62it/s]\n"
     ]
    },
    {
     "name": "stdout",
     "output_type": "stream",
     "text": [
      "                   all        451       3528       0.45      0.325      0.242      0.182\n",
      "\n",
      "      Epoch    GPU_mem   box_loss   cls_loss   dfl_loss  Instances       Size\n"
     ]
    },
    {
     "name": "stderr",
     "output_type": "stream",
     "text": [
      "     24/150     0.327G      1.145      2.956      1.115          8        640: 100%|██████████| 451/451 [00:30<00:00, 14.68it/s]\n",
      "                 Class     Images  Instances      Box(P          R      mAP50  mAP50-95): 100%|██████████| 226/226 [00:05<00:00, 37.84it/s]\n"
     ]
    },
    {
     "name": "stdout",
     "output_type": "stream",
     "text": [
      "                   all        451       3528      0.388      0.335      0.224      0.168\n",
      "\n",
      "      Epoch    GPU_mem   box_loss   cls_loss   dfl_loss  Instances       Size\n"
     ]
    },
    {
     "name": "stderr",
     "output_type": "stream",
     "text": [
      "     25/150     0.327G      1.116      2.898      1.101         18        640: 100%|██████████| 451/451 [00:30<00:00, 14.88it/s]\n",
      "                 Class     Images  Instances      Box(P          R      mAP50  mAP50-95): 100%|██████████| 226/226 [00:05<00:00, 43.19it/s]\n"
     ]
    },
    {
     "name": "stdout",
     "output_type": "stream",
     "text": [
      "                   all        451       3528      0.337      0.351      0.216      0.162\n",
      "\n",
      "      Epoch    GPU_mem   box_loss   cls_loss   dfl_loss  Instances       Size\n"
     ]
    },
    {
     "name": "stderr",
     "output_type": "stream",
     "text": [
      "     26/150     0.327G      1.105       2.94      1.096          8        640: 100%|██████████| 451/451 [00:27<00:00, 16.55it/s]\n",
      "                 Class     Images  Instances      Box(P          R      mAP50  mAP50-95): 100%|██████████| 226/226 [00:05<00:00, 43.94it/s]\n"
     ]
    },
    {
     "name": "stdout",
     "output_type": "stream",
     "text": [
      "                   all        451       3528      0.355      0.348       0.25      0.187\n",
      "\n",
      "      Epoch    GPU_mem   box_loss   cls_loss   dfl_loss  Instances       Size\n"
     ]
    },
    {
     "name": "stderr",
     "output_type": "stream",
     "text": [
      "     27/150     0.327G      1.126      2.798      1.116          7        640: 100%|██████████| 451/451 [00:27<00:00, 16.34it/s]\n",
      "                 Class     Images  Instances      Box(P          R      mAP50  mAP50-95): 100%|██████████| 226/226 [00:05<00:00, 42.70it/s]\n"
     ]
    },
    {
     "name": "stdout",
     "output_type": "stream",
     "text": [
      "                   all        451       3528      0.413      0.359      0.283      0.214\n",
      "\n",
      "      Epoch    GPU_mem   box_loss   cls_loss   dfl_loss  Instances       Size\n"
     ]
    },
    {
     "name": "stderr",
     "output_type": "stream",
     "text": [
      "     28/150     0.327G      1.106      2.718      1.096         25        640: 100%|██████████| 451/451 [00:30<00:00, 14.82it/s]\n",
      "                 Class     Images  Instances      Box(P          R      mAP50  mAP50-95): 100%|██████████| 226/226 [00:05<00:00, 43.85it/s]\n"
     ]
    },
    {
     "name": "stdout",
     "output_type": "stream",
     "text": [
      "                   all        451       3528      0.409       0.37      0.283      0.215\n",
      "\n",
      "      Epoch    GPU_mem   box_loss   cls_loss   dfl_loss  Instances       Size\n"
     ]
    },
    {
     "name": "stderr",
     "output_type": "stream",
     "text": [
      "     29/150     0.327G      1.102      2.813      1.089         16        640: 100%|██████████| 451/451 [00:29<00:00, 15.14it/s]\n",
      "                 Class     Images  Instances      Box(P          R      mAP50  mAP50-95): 100%|██████████| 226/226 [00:05<00:00, 43.74it/s]\n"
     ]
    },
    {
     "name": "stdout",
     "output_type": "stream",
     "text": [
      "                   all        451       3528      0.425      0.366      0.302      0.228\n",
      "\n",
      "      Epoch    GPU_mem   box_loss   cls_loss   dfl_loss  Instances       Size\n"
     ]
    },
    {
     "name": "stderr",
     "output_type": "stream",
     "text": [
      "     30/150     0.327G       1.09      2.648      1.101         16        640: 100%|██████████| 451/451 [00:28<00:00, 15.91it/s]\n",
      "                 Class     Images  Instances      Box(P          R      mAP50  mAP50-95): 100%|██████████| 226/226 [00:05<00:00, 39.54it/s]\n"
     ]
    },
    {
     "name": "stdout",
     "output_type": "stream",
     "text": [
      "                   all        451       3528      0.357      0.395      0.274      0.207\n",
      "\n",
      "      Epoch    GPU_mem   box_loss   cls_loss   dfl_loss  Instances       Size\n"
     ]
    },
    {
     "name": "stderr",
     "output_type": "stream",
     "text": [
      "     31/150     0.327G      1.081      2.603      1.081          9        640: 100%|██████████| 451/451 [00:30<00:00, 14.93it/s]\n",
      "                 Class     Images  Instances      Box(P          R      mAP50  mAP50-95): 100%|██████████| 226/226 [00:05<00:00, 42.98it/s]\n"
     ]
    },
    {
     "name": "stdout",
     "output_type": "stream",
     "text": [
      "                   all        451       3528      0.406      0.412      0.308      0.233\n",
      "\n",
      "      Epoch    GPU_mem   box_loss   cls_loss   dfl_loss  Instances       Size\n"
     ]
    },
    {
     "name": "stderr",
     "output_type": "stream",
     "text": [
      "     32/150     0.327G      1.072      2.604      1.096         30        640: 100%|██████████| 451/451 [00:30<00:00, 14.75it/s]\n",
      "                 Class     Images  Instances      Box(P          R      mAP50  mAP50-95): 100%|██████████| 226/226 [00:05<00:00, 43.06it/s]\n"
     ]
    },
    {
     "name": "stdout",
     "output_type": "stream",
     "text": [
      "                   all        451       3528      0.456      0.396      0.328       0.25\n",
      "\n",
      "      Epoch    GPU_mem   box_loss   cls_loss   dfl_loss  Instances       Size\n"
     ]
    },
    {
     "name": "stderr",
     "output_type": "stream",
     "text": [
      "     33/150     0.327G      1.089      2.617      1.093         21        640: 100%|██████████| 451/451 [00:29<00:00, 15.38it/s]\n",
      "                 Class     Images  Instances      Box(P          R      mAP50  mAP50-95): 100%|██████████| 226/226 [00:05<00:00, 43.14it/s]\n"
     ]
    },
    {
     "name": "stdout",
     "output_type": "stream",
     "text": [
      "                   all        451       3528      0.457      0.429      0.353      0.269\n",
      "\n",
      "      Epoch    GPU_mem   box_loss   cls_loss   dfl_loss  Instances       Size\n"
     ]
    },
    {
     "name": "stderr",
     "output_type": "stream",
     "text": [
      "     34/150     0.327G      1.094      2.578      1.087         22        640: 100%|██████████| 451/451 [00:30<00:00, 14.99it/s]\n",
      "                 Class     Images  Instances      Box(P          R      mAP50  mAP50-95): 100%|██████████| 226/226 [00:05<00:00, 43.81it/s]\n"
     ]
    },
    {
     "name": "stdout",
     "output_type": "stream",
     "text": [
      "                   all        451       3528       0.44      0.445       0.35      0.266\n",
      "\n",
      "      Epoch    GPU_mem   box_loss   cls_loss   dfl_loss  Instances       Size\n"
     ]
    },
    {
     "name": "stderr",
     "output_type": "stream",
     "text": [
      "     35/150     0.327G       1.08      2.532      1.094         11        640: 100%|██████████| 451/451 [00:29<00:00, 15.15it/s]\n",
      "                 Class     Images  Instances      Box(P          R      mAP50  mAP50-95): 100%|██████████| 226/226 [00:05<00:00, 43.41it/s]\n"
     ]
    },
    {
     "name": "stdout",
     "output_type": "stream",
     "text": [
      "                   all        451       3528      0.432      0.453      0.352       0.27\n",
      "\n",
      "      Epoch    GPU_mem   box_loss   cls_loss   dfl_loss  Instances       Size\n"
     ]
    },
    {
     "name": "stderr",
     "output_type": "stream",
     "text": [
      "     36/150     0.327G      1.054      2.534      1.084          5        640: 100%|██████████| 451/451 [00:30<00:00, 15.00it/s]\n",
      "                 Class     Images  Instances      Box(P          R      mAP50  mAP50-95): 100%|██████████| 226/226 [00:05<00:00, 39.90it/s]\n"
     ]
    },
    {
     "name": "stdout",
     "output_type": "stream",
     "text": [
      "                   all        451       3528      0.405       0.46      0.363      0.279\n",
      "\n",
      "      Epoch    GPU_mem   box_loss   cls_loss   dfl_loss  Instances       Size\n"
     ]
    },
    {
     "name": "stderr",
     "output_type": "stream",
     "text": [
      "     37/150     0.327G      1.059      2.396       1.09         12        640: 100%|██████████| 451/451 [00:30<00:00, 14.90it/s]\n",
      "                 Class     Images  Instances      Box(P          R      mAP50  mAP50-95): 100%|██████████| 226/226 [00:05<00:00, 43.81it/s]\n"
     ]
    },
    {
     "name": "stdout",
     "output_type": "stream",
     "text": [
      "                   all        451       3528      0.434      0.488      0.391      0.301\n",
      "\n",
      "      Epoch    GPU_mem   box_loss   cls_loss   dfl_loss  Instances       Size\n"
     ]
    },
    {
     "name": "stderr",
     "output_type": "stream",
     "text": [
      "     38/150     0.327G      1.067      2.459      1.093         19        640: 100%|██████████| 451/451 [00:31<00:00, 14.39it/s]\n",
      "                 Class     Images  Instances      Box(P          R      mAP50  mAP50-95): 100%|██████████| 226/226 [00:05<00:00, 42.84it/s]\n"
     ]
    },
    {
     "name": "stdout",
     "output_type": "stream",
     "text": [
      "                   all        451       3528      0.448      0.465      0.389      0.298\n",
      "\n",
      "      Epoch    GPU_mem   box_loss   cls_loss   dfl_loss  Instances       Size\n"
     ]
    },
    {
     "name": "stderr",
     "output_type": "stream",
     "text": [
      "     39/150     0.327G      1.063      2.428      1.087         15        640: 100%|██████████| 451/451 [00:30<00:00, 14.68it/s]\n",
      "                 Class     Images  Instances      Box(P          R      mAP50  mAP50-95): 100%|██████████| 226/226 [00:05<00:00, 41.85it/s]\n"
     ]
    },
    {
     "name": "stdout",
     "output_type": "stream",
     "text": [
      "                   all        451       3528      0.402      0.489      0.384      0.296\n",
      "\n",
      "      Epoch    GPU_mem   box_loss   cls_loss   dfl_loss  Instances       Size\n"
     ]
    },
    {
     "name": "stderr",
     "output_type": "stream",
     "text": [
      "     40/150     0.327G      1.053      2.428      1.068          9        640: 100%|██████████| 451/451 [00:29<00:00, 15.39it/s]\n",
      "                 Class     Images  Instances      Box(P          R      mAP50  mAP50-95): 100%|██████████| 226/226 [00:06<00:00, 37.57it/s]\n"
     ]
    },
    {
     "name": "stdout",
     "output_type": "stream",
     "text": [
      "                   all        451       3528       0.44        0.5      0.377      0.289\n",
      "\n",
      "      Epoch    GPU_mem   box_loss   cls_loss   dfl_loss  Instances       Size\n"
     ]
    },
    {
     "name": "stderr",
     "output_type": "stream",
     "text": [
      "     41/150     0.327G      1.044      2.464       1.07         27        640: 100%|██████████| 451/451 [00:29<00:00, 15.08it/s]\n",
      "                 Class     Images  Instances      Box(P          R      mAP50  mAP50-95): 100%|██████████| 226/226 [00:05<00:00, 43.64it/s]\n"
     ]
    },
    {
     "name": "stdout",
     "output_type": "stream",
     "text": [
      "                   all        451       3528       0.45      0.498      0.395      0.305\n",
      "\n",
      "      Epoch    GPU_mem   box_loss   cls_loss   dfl_loss  Instances       Size\n"
     ]
    },
    {
     "name": "stderr",
     "output_type": "stream",
     "text": [
      "     42/150     0.325G      1.044      2.388      1.075         19        640: 100%|██████████| 451/451 [00:29<00:00, 15.09it/s]\n",
      "                 Class     Images  Instances      Box(P          R      mAP50  mAP50-95): 100%|██████████| 226/226 [00:05<00:00, 40.80it/s]\n"
     ]
    },
    {
     "name": "stdout",
     "output_type": "stream",
     "text": [
      "                   all        451       3528      0.421      0.526      0.402      0.312\n",
      "\n",
      "      Epoch    GPU_mem   box_loss   cls_loss   dfl_loss  Instances       Size\n"
     ]
    },
    {
     "name": "stderr",
     "output_type": "stream",
     "text": [
      "     43/150     0.327G      1.022      2.342      1.068         10        640: 100%|██████████| 451/451 [00:29<00:00, 15.08it/s]\n",
      "                 Class     Images  Instances      Box(P          R      mAP50  mAP50-95): 100%|██████████| 226/226 [00:05<00:00, 43.10it/s]\n"
     ]
    },
    {
     "name": "stdout",
     "output_type": "stream",
     "text": [
      "                   all        451       3528      0.419      0.531      0.407      0.313\n",
      "\n",
      "      Epoch    GPU_mem   box_loss   cls_loss   dfl_loss  Instances       Size\n"
     ]
    },
    {
     "name": "stderr",
     "output_type": "stream",
     "text": [
      "     44/150     0.327G      1.052      2.351      1.079         46        640: 100%|██████████| 451/451 [00:29<00:00, 15.43it/s]\n",
      "                 Class     Images  Instances      Box(P          R      mAP50  mAP50-95): 100%|██████████| 226/226 [00:05<00:00, 43.45it/s]\n"
     ]
    },
    {
     "name": "stdout",
     "output_type": "stream",
     "text": [
      "                   all        451       3528      0.417      0.527      0.401      0.307\n",
      "\n",
      "      Epoch    GPU_mem   box_loss   cls_loss   dfl_loss  Instances       Size\n"
     ]
    },
    {
     "name": "stderr",
     "output_type": "stream",
     "text": [
      "     45/150     0.327G      1.044      2.258      1.082         22        640: 100%|██████████| 451/451 [00:29<00:00, 15.04it/s]\n",
      "                 Class     Images  Instances      Box(P          R      mAP50  mAP50-95): 100%|██████████| 226/226 [00:05<00:00, 44.13it/s]\n"
     ]
    },
    {
     "name": "stdout",
     "output_type": "stream",
     "text": [
      "                   all        451       3528      0.418      0.553       0.42      0.325\n",
      "\n",
      "      Epoch    GPU_mem   box_loss   cls_loss   dfl_loss  Instances       Size\n"
     ]
    },
    {
     "name": "stderr",
     "output_type": "stream",
     "text": [
      "     46/150     0.327G      1.005      2.299      1.058         21        640: 100%|██████████| 451/451 [00:29<00:00, 15.25it/s]\n",
      "                 Class     Images  Instances      Box(P          R      mAP50  mAP50-95): 100%|██████████| 226/226 [00:05<00:00, 44.31it/s]\n"
     ]
    },
    {
     "name": "stdout",
     "output_type": "stream",
     "text": [
      "                   all        451       3528      0.462      0.538      0.431      0.332\n",
      "\n",
      "      Epoch    GPU_mem   box_loss   cls_loss   dfl_loss  Instances       Size\n"
     ]
    },
    {
     "name": "stderr",
     "output_type": "stream",
     "text": [
      "     47/150     0.325G      1.026      2.308      1.073          6        640: 100%|██████████| 451/451 [00:30<00:00, 14.97it/s]\n",
      "                 Class     Images  Instances      Box(P          R      mAP50  mAP50-95): 100%|██████████| 226/226 [00:05<00:00, 43.30it/s]\n"
     ]
    },
    {
     "name": "stdout",
     "output_type": "stream",
     "text": [
      "                   all        451       3528      0.466      0.547      0.443      0.341\n",
      "\n",
      "      Epoch    GPU_mem   box_loss   cls_loss   dfl_loss  Instances       Size\n"
     ]
    },
    {
     "name": "stderr",
     "output_type": "stream",
     "text": [
      "     48/150     0.327G      1.048      2.316      1.075         22        640: 100%|██████████| 451/451 [00:30<00:00, 15.02it/s]\n",
      "                 Class     Images  Instances      Box(P          R      mAP50  mAP50-95): 100%|██████████| 226/226 [00:05<00:00, 43.92it/s]\n"
     ]
    },
    {
     "name": "stdout",
     "output_type": "stream",
     "text": [
      "                   all        451       3528       0.45      0.549      0.437      0.338\n",
      "\n",
      "      Epoch    GPU_mem   box_loss   cls_loss   dfl_loss  Instances       Size\n"
     ]
    },
    {
     "name": "stderr",
     "output_type": "stream",
     "text": [
      "     49/150     0.327G      1.017      2.197       1.06         19        640: 100%|██████████| 451/451 [00:29<00:00, 15.06it/s]\n",
      "                 Class     Images  Instances      Box(P          R      mAP50  mAP50-95): 100%|██████████| 226/226 [00:05<00:00, 41.12it/s]\n"
     ]
    },
    {
     "name": "stdout",
     "output_type": "stream",
     "text": [
      "                   all        451       3528       0.42      0.582      0.431      0.332\n",
      "\n",
      "      Epoch    GPU_mem   box_loss   cls_loss   dfl_loss  Instances       Size\n"
     ]
    },
    {
     "name": "stderr",
     "output_type": "stream",
     "text": [
      "     50/150     0.327G      1.058      2.232      1.085          4        640: 100%|██████████| 451/451 [00:30<00:00, 14.85it/s]\n",
      "                 Class     Images  Instances      Box(P          R      mAP50  mAP50-95): 100%|██████████| 226/226 [00:05<00:00, 42.48it/s]"
     ]
    },
    {
     "name": "stdout",
     "output_type": "stream",
     "text": [
      "                   all        451       3528      0.426      0.566      0.438      0.341\n"
     ]
    },
    {
     "name": "stderr",
     "output_type": "stream",
     "text": [
      "\n"
     ]
    },
    {
     "name": "stdout",
     "output_type": "stream",
     "text": [
      "\n",
      "      Epoch    GPU_mem   box_loss   cls_loss   dfl_loss  Instances       Size\n"
     ]
    },
    {
     "name": "stderr",
     "output_type": "stream",
     "text": [
      "     51/150     0.327G      1.027      2.217       1.06          4        640: 100%|██████████| 451/451 [00:31<00:00, 14.39it/s]\n",
      "                 Class     Images  Instances      Box(P          R      mAP50  mAP50-95): 100%|██████████| 226/226 [00:05<00:00, 44.14it/s]\n"
     ]
    },
    {
     "name": "stdout",
     "output_type": "stream",
     "text": [
      "                   all        451       3528      0.453      0.577      0.465      0.363\n",
      "\n",
      "      Epoch    GPU_mem   box_loss   cls_loss   dfl_loss  Instances       Size\n"
     ]
    },
    {
     "name": "stderr",
     "output_type": "stream",
     "text": [
      "     52/150     0.327G     0.9977      2.168      1.062          6        640: 100%|██████████| 451/451 [00:28<00:00, 15.73it/s]\n",
      "                 Class     Images  Instances      Box(P          R      mAP50  mAP50-95): 100%|██████████| 226/226 [00:05<00:00, 43.50it/s]\n"
     ]
    },
    {
     "name": "stdout",
     "output_type": "stream",
     "text": [
      "                   all        451       3528      0.475      0.581      0.474      0.369\n",
      "\n",
      "      Epoch    GPU_mem   box_loss   cls_loss   dfl_loss  Instances       Size\n"
     ]
    },
    {
     "name": "stderr",
     "output_type": "stream",
     "text": [
      "     53/150     0.325G      0.986      2.284      1.043         28        640: 100%|██████████| 451/451 [00:29<00:00, 15.09it/s]\n",
      "                 Class     Images  Instances      Box(P          R      mAP50  mAP50-95): 100%|██████████| 226/226 [00:05<00:00, 38.57it/s]"
     ]
    },
    {
     "name": "stdout",
     "output_type": "stream",
     "text": [
      "                   all        451       3528      0.455      0.594      0.471      0.366\n"
     ]
    },
    {
     "name": "stderr",
     "output_type": "stream",
     "text": [
      "\n"
     ]
    },
    {
     "name": "stdout",
     "output_type": "stream",
     "text": [
      "\n",
      "      Epoch    GPU_mem   box_loss   cls_loss   dfl_loss  Instances       Size\n"
     ]
    },
    {
     "name": "stderr",
     "output_type": "stream",
     "text": [
      "     54/150     0.325G      1.028      2.163      1.073         33        640: 100%|██████████| 451/451 [00:30<00:00, 14.61it/s]\n",
      "                 Class     Images  Instances      Box(P          R      mAP50  mAP50-95): 100%|██████████| 226/226 [00:05<00:00, 40.87it/s]\n"
     ]
    },
    {
     "name": "stdout",
     "output_type": "stream",
     "text": [
      "                   all        451       3528      0.474      0.595      0.491      0.383\n",
      "\n",
      "      Epoch    GPU_mem   box_loss   cls_loss   dfl_loss  Instances       Size\n"
     ]
    },
    {
     "name": "stderr",
     "output_type": "stream",
     "text": [
      "     55/150     0.327G      1.026      2.139      1.069         16        640: 100%|██████████| 451/451 [00:29<00:00, 15.05it/s]\n",
      "                 Class     Images  Instances      Box(P          R      mAP50  mAP50-95): 100%|██████████| 226/226 [00:05<00:00, 44.41it/s]\n"
     ]
    },
    {
     "name": "stdout",
     "output_type": "stream",
     "text": [
      "                   all        451       3528      0.481      0.609      0.496      0.385\n",
      "\n",
      "      Epoch    GPU_mem   box_loss   cls_loss   dfl_loss  Instances       Size\n"
     ]
    },
    {
     "name": "stderr",
     "output_type": "stream",
     "text": [
      "     56/150     0.327G      0.989      2.063      1.069         26        640: 100%|██████████| 451/451 [00:29<00:00, 15.06it/s]\n",
      "                 Class     Images  Instances      Box(P          R      mAP50  mAP50-95): 100%|██████████| 226/226 [00:05<00:00, 42.91it/s]\n"
     ]
    },
    {
     "name": "stdout",
     "output_type": "stream",
     "text": [
      "                   all        451       3528       0.46      0.594      0.485      0.376\n",
      "\n",
      "      Epoch    GPU_mem   box_loss   cls_loss   dfl_loss  Instances       Size\n"
     ]
    },
    {
     "name": "stderr",
     "output_type": "stream",
     "text": [
      "     57/150     0.327G     0.9939      2.128      1.061         12        640: 100%|██████████| 451/451 [00:30<00:00, 14.78it/s]\n",
      "                 Class     Images  Instances      Box(P          R      mAP50  mAP50-95): 100%|██████████| 226/226 [00:05<00:00, 39.20it/s]\n"
     ]
    },
    {
     "name": "stdout",
     "output_type": "stream",
     "text": [
      "                   all        451       3528      0.466      0.617      0.493      0.385\n",
      "\n",
      "      Epoch    GPU_mem   box_loss   cls_loss   dfl_loss  Instances       Size\n"
     ]
    },
    {
     "name": "stderr",
     "output_type": "stream",
     "text": [
      "     58/150     0.327G     0.9757       2.07       1.04         24        640: 100%|██████████| 451/451 [00:29<00:00, 15.12it/s]\n",
      "                 Class     Images  Instances      Box(P          R      mAP50  mAP50-95): 100%|██████████| 226/226 [00:05<00:00, 43.73it/s]\n"
     ]
    },
    {
     "name": "stdout",
     "output_type": "stream",
     "text": [
      "                   all        451       3528      0.482      0.615       0.51      0.399\n",
      "\n",
      "      Epoch    GPU_mem   box_loss   cls_loss   dfl_loss  Instances       Size\n"
     ]
    },
    {
     "name": "stderr",
     "output_type": "stream",
     "text": [
      "     59/150     0.327G     0.9966      2.073      1.058          2        640: 100%|██████████| 451/451 [00:30<00:00, 14.61it/s]\n",
      "                 Class     Images  Instances      Box(P          R      mAP50  mAP50-95): 100%|██████████| 226/226 [00:05<00:00, 43.40it/s]\n"
     ]
    },
    {
     "name": "stdout",
     "output_type": "stream",
     "text": [
      "                   all        451       3528      0.452      0.622      0.503      0.394\n",
      "\n",
      "      Epoch    GPU_mem   box_loss   cls_loss   dfl_loss  Instances       Size\n"
     ]
    },
    {
     "name": "stderr",
     "output_type": "stream",
     "text": [
      "     60/150     0.327G     0.9935      2.025      1.059         18        640: 100%|██████████| 451/451 [00:27<00:00, 16.35it/s]\n",
      "                 Class     Images  Instances      Box(P          R      mAP50  mAP50-95): 100%|██████████| 226/226 [00:05<00:00, 43.15it/s]\n"
     ]
    },
    {
     "name": "stdout",
     "output_type": "stream",
     "text": [
      "                   all        451       3528      0.451      0.625      0.497      0.388\n",
      "\n",
      "      Epoch    GPU_mem   box_loss   cls_loss   dfl_loss  Instances       Size\n"
     ]
    },
    {
     "name": "stderr",
     "output_type": "stream",
     "text": [
      "     61/150     0.327G          1      2.063       1.06          6        640: 100%|██████████| 451/451 [00:30<00:00, 14.96it/s]\n",
      "                 Class     Images  Instances      Box(P          R      mAP50  mAP50-95): 100%|██████████| 226/226 [00:05<00:00, 43.52it/s]\n"
     ]
    },
    {
     "name": "stdout",
     "output_type": "stream",
     "text": [
      "                   all        451       3528      0.488      0.634      0.516        0.4\n",
      "\n",
      "      Epoch    GPU_mem   box_loss   cls_loss   dfl_loss  Instances       Size\n"
     ]
    },
    {
     "name": "stderr",
     "output_type": "stream",
     "text": [
      "     62/150     0.327G     0.9765      2.032      1.045         15        640: 100%|██████████| 451/451 [00:30<00:00, 14.94it/s]\n",
      "                 Class     Images  Instances      Box(P          R      mAP50  mAP50-95): 100%|██████████| 226/226 [00:05<00:00, 43.05it/s]\n"
     ]
    },
    {
     "name": "stdout",
     "output_type": "stream",
     "text": [
      "                   all        451       3528      0.476      0.624      0.512      0.401\n",
      "\n",
      "      Epoch    GPU_mem   box_loss   cls_loss   dfl_loss  Instances       Size\n"
     ]
    },
    {
     "name": "stderr",
     "output_type": "stream",
     "text": [
      "     63/150     0.327G     0.9823      1.989      1.057         24        640: 100%|██████████| 451/451 [00:30<00:00, 14.81it/s]\n",
      "                 Class     Images  Instances      Box(P          R      mAP50  mAP50-95): 100%|██████████| 226/226 [00:05<00:00, 43.70it/s]\n"
     ]
    },
    {
     "name": "stdout",
     "output_type": "stream",
     "text": [
      "                   all        451       3528      0.474      0.629      0.525      0.409\n",
      "\n",
      "      Epoch    GPU_mem   box_loss   cls_loss   dfl_loss  Instances       Size\n"
     ]
    },
    {
     "name": "stderr",
     "output_type": "stream",
     "text": [
      "     64/150     0.327G     0.9765      2.019      1.034          0        640: 100%|██████████| 451/451 [00:28<00:00, 15.73it/s]\n",
      "                 Class     Images  Instances      Box(P          R      mAP50  mAP50-95): 100%|██████████| 226/226 [00:05<00:00, 44.07it/s]\n"
     ]
    },
    {
     "name": "stdout",
     "output_type": "stream",
     "text": [
      "                   all        451       3528      0.465      0.651      0.525      0.413\n",
      "\n",
      "      Epoch    GPU_mem   box_loss   cls_loss   dfl_loss  Instances       Size\n"
     ]
    },
    {
     "name": "stderr",
     "output_type": "stream",
     "text": [
      "     65/150     0.325G     0.9925      2.064      1.042         14        640: 100%|██████████| 451/451 [00:29<00:00, 15.05it/s]\n",
      "                 Class     Images  Instances      Box(P          R      mAP50  mAP50-95): 100%|██████████| 226/226 [00:05<00:00, 43.70it/s]\n"
     ]
    },
    {
     "name": "stdout",
     "output_type": "stream",
     "text": [
      "                   all        451       3528      0.466      0.618      0.511        0.4\n",
      "\n",
      "      Epoch    GPU_mem   box_loss   cls_loss   dfl_loss  Instances       Size\n"
     ]
    },
    {
     "name": "stderr",
     "output_type": "stream",
     "text": [
      "     66/150     0.325G     0.9986          2      1.052         18        640: 100%|██████████| 451/451 [00:29<00:00, 15.09it/s]\n",
      "                 Class     Images  Instances      Box(P          R      mAP50  mAP50-95): 100%|██████████| 226/226 [00:05<00:00, 43.93it/s]\n"
     ]
    },
    {
     "name": "stdout",
     "output_type": "stream",
     "text": [
      "                   all        451       3528      0.465      0.656      0.526      0.414\n",
      "\n",
      "      Epoch    GPU_mem   box_loss   cls_loss   dfl_loss  Instances       Size\n"
     ]
    },
    {
     "name": "stderr",
     "output_type": "stream",
     "text": [
      "     67/150     0.325G      0.964       1.92      1.036         12        640: 100%|██████████| 451/451 [00:31<00:00, 14.18it/s]\n",
      "                 Class     Images  Instances      Box(P          R      mAP50  mAP50-95): 100%|██████████| 226/226 [00:05<00:00, 44.28it/s]\n"
     ]
    },
    {
     "name": "stdout",
     "output_type": "stream",
     "text": [
      "                   all        451       3528      0.476      0.641      0.522      0.412\n",
      "\n",
      "      Epoch    GPU_mem   box_loss   cls_loss   dfl_loss  Instances       Size\n"
     ]
    },
    {
     "name": "stderr",
     "output_type": "stream",
     "text": [
      "     68/150     0.327G     0.9825      2.018      1.037         23        640: 100%|██████████| 451/451 [00:29<00:00, 15.19it/s]\n",
      "                 Class     Images  Instances      Box(P          R      mAP50  mAP50-95): 100%|██████████| 226/226 [00:05<00:00, 43.77it/s]\n"
     ]
    },
    {
     "name": "stdout",
     "output_type": "stream",
     "text": [
      "                   all        451       3528      0.488      0.652      0.543      0.427\n",
      "\n",
      "      Epoch    GPU_mem   box_loss   cls_loss   dfl_loss  Instances       Size\n"
     ]
    },
    {
     "name": "stderr",
     "output_type": "stream",
     "text": [
      "     69/150     0.325G     0.9819       1.99      1.043         27        640: 100%|██████████| 451/451 [00:29<00:00, 15.04it/s]\n",
      "                 Class     Images  Instances      Box(P          R      mAP50  mAP50-95): 100%|██████████| 226/226 [00:05<00:00, 44.04it/s]\n"
     ]
    },
    {
     "name": "stdout",
     "output_type": "stream",
     "text": [
      "                   all        451       3528      0.494      0.629      0.546      0.429\n",
      "\n",
      "      Epoch    GPU_mem   box_loss   cls_loss   dfl_loss  Instances       Size\n"
     ]
    },
    {
     "name": "stderr",
     "output_type": "stream",
     "text": [
      "     70/150     0.325G      0.961      1.962      1.024          2        640: 100%|██████████| 451/451 [00:31<00:00, 14.20it/s]\n",
      "                 Class     Images  Instances      Box(P          R      mAP50  mAP50-95): 100%|██████████| 226/226 [00:05<00:00, 41.04it/s]\n"
     ]
    },
    {
     "name": "stdout",
     "output_type": "stream",
     "text": [
      "                   all        451       3528      0.466      0.669      0.552      0.433\n",
      "\n",
      "      Epoch    GPU_mem   box_loss   cls_loss   dfl_loss  Instances       Size\n"
     ]
    },
    {
     "name": "stderr",
     "output_type": "stream",
     "text": [
      "     71/150     0.327G     0.9631      2.033      1.045         10        640: 100%|██████████| 451/451 [00:29<00:00, 15.48it/s]\n",
      "                 Class     Images  Instances      Box(P          R      mAP50  mAP50-95): 100%|██████████| 226/226 [00:05<00:00, 42.36it/s]\n"
     ]
    },
    {
     "name": "stdout",
     "output_type": "stream",
     "text": [
      "                   all        451       3528      0.476      0.653       0.55      0.432\n",
      "\n",
      "      Epoch    GPU_mem   box_loss   cls_loss   dfl_loss  Instances       Size\n"
     ]
    },
    {
     "name": "stderr",
     "output_type": "stream",
     "text": [
      "     72/150     0.327G     0.9775      1.973      1.047         10        640: 100%|██████████| 451/451 [00:30<00:00, 14.96it/s]\n",
      "                 Class     Images  Instances      Box(P          R      mAP50  mAP50-95): 100%|██████████| 226/226 [00:05<00:00, 43.60it/s]\n"
     ]
    },
    {
     "name": "stdout",
     "output_type": "stream",
     "text": [
      "                   all        451       3528      0.454      0.684      0.547       0.43\n",
      "\n",
      "      Epoch    GPU_mem   box_loss   cls_loss   dfl_loss  Instances       Size\n"
     ]
    },
    {
     "name": "stderr",
     "output_type": "stream",
     "text": [
      "     73/150     0.327G     0.9725      1.966      1.047         16        640: 100%|██████████| 451/451 [00:29<00:00, 15.33it/s]\n",
      "                 Class     Images  Instances      Box(P          R      mAP50  mAP50-95): 100%|██████████| 226/226 [00:05<00:00, 43.77it/s]\n"
     ]
    },
    {
     "name": "stdout",
     "output_type": "stream",
     "text": [
      "                   all        451       3528      0.481      0.679      0.568      0.446\n",
      "\n",
      "      Epoch    GPU_mem   box_loss   cls_loss   dfl_loss  Instances       Size\n"
     ]
    },
    {
     "name": "stderr",
     "output_type": "stream",
     "text": [
      "     74/150     0.325G     0.9792      1.939      1.056         19        640: 100%|██████████| 451/451 [00:29<00:00, 15.08it/s]\n",
      "                 Class     Images  Instances      Box(P          R      mAP50  mAP50-95): 100%|██████████| 226/226 [00:05<00:00, 43.79it/s]\n"
     ]
    },
    {
     "name": "stdout",
     "output_type": "stream",
     "text": [
      "                   all        451       3528      0.505      0.675      0.568      0.445\n",
      "\n",
      "      Epoch    GPU_mem   box_loss   cls_loss   dfl_loss  Instances       Size\n"
     ]
    },
    {
     "name": "stderr",
     "output_type": "stream",
     "text": [
      "     75/150     0.327G     0.9716      1.903      1.049         10        640: 100%|██████████| 451/451 [00:30<00:00, 14.71it/s]\n",
      "                 Class     Images  Instances      Box(P          R      mAP50  mAP50-95): 100%|██████████| 226/226 [00:05<00:00, 44.27it/s]\n"
     ]
    },
    {
     "name": "stdout",
     "output_type": "stream",
     "text": [
      "                   all        451       3528      0.463      0.671      0.543      0.428\n",
      "\n",
      "      Epoch    GPU_mem   box_loss   cls_loss   dfl_loss  Instances       Size\n"
     ]
    },
    {
     "name": "stderr",
     "output_type": "stream",
     "text": [
      "     76/150     0.327G     0.9499      1.901      1.036          6        640: 100%|██████████| 451/451 [00:30<00:00, 14.67it/s]\n",
      "                 Class     Images  Instances      Box(P          R      mAP50  mAP50-95): 100%|██████████| 226/226 [00:05<00:00, 41.08it/s]\n"
     ]
    },
    {
     "name": "stdout",
     "output_type": "stream",
     "text": [
      "                   all        451       3528      0.463      0.717      0.566      0.447\n",
      "\n",
      "      Epoch    GPU_mem   box_loss   cls_loss   dfl_loss  Instances       Size\n"
     ]
    },
    {
     "name": "stderr",
     "output_type": "stream",
     "text": [
      "     77/150     0.325G     0.9668      1.916      1.054         25        640: 100%|██████████| 451/451 [00:29<00:00, 15.49it/s]\n",
      "                 Class     Images  Instances      Box(P          R      mAP50  mAP50-95): 100%|██████████| 226/226 [00:05<00:00, 44.11it/s]\n"
     ]
    },
    {
     "name": "stdout",
     "output_type": "stream",
     "text": [
      "                   all        451       3528      0.453      0.713      0.563      0.445\n",
      "\n",
      "      Epoch    GPU_mem   box_loss   cls_loss   dfl_loss  Instances       Size\n"
     ]
    },
    {
     "name": "stderr",
     "output_type": "stream",
     "text": [
      "     78/150     0.325G     0.9672      1.881      1.036          2        640: 100%|██████████| 451/451 [00:30<00:00, 14.97it/s]\n",
      "                 Class     Images  Instances      Box(P          R      mAP50  mAP50-95): 100%|██████████| 226/226 [00:05<00:00, 43.38it/s]\n"
     ]
    },
    {
     "name": "stdout",
     "output_type": "stream",
     "text": [
      "                   all        451       3528      0.481      0.681      0.548      0.433\n",
      "\n",
      "      Epoch    GPU_mem   box_loss   cls_loss   dfl_loss  Instances       Size\n"
     ]
    },
    {
     "name": "stderr",
     "output_type": "stream",
     "text": [
      "     79/150     0.327G     0.9446       1.91      1.021         30        640: 100%|██████████| 451/451 [00:30<00:00, 14.87it/s]\n",
      "                 Class     Images  Instances      Box(P          R      mAP50  mAP50-95): 100%|██████████| 226/226 [00:05<00:00, 43.04it/s]"
     ]
    },
    {
     "name": "stdout",
     "output_type": "stream",
     "text": [
      "                   all        451       3528      0.472      0.697      0.553      0.437\n"
     ]
    },
    {
     "name": "stderr",
     "output_type": "stream",
     "text": [
      "\n"
     ]
    },
    {
     "name": "stdout",
     "output_type": "stream",
     "text": [
      "\n",
      "      Epoch    GPU_mem   box_loss   cls_loss   dfl_loss  Instances       Size\n"
     ]
    },
    {
     "name": "stderr",
     "output_type": "stream",
     "text": [
      "     80/150     0.327G     0.9568      1.907      1.034         37        640: 100%|██████████| 451/451 [00:30<00:00, 14.78it/s]\n",
      "                 Class     Images  Instances      Box(P          R      mAP50  mAP50-95): 100%|██████████| 226/226 [00:05<00:00, 44.39it/s]\n"
     ]
    },
    {
     "name": "stdout",
     "output_type": "stream",
     "text": [
      "                   all        451       3528      0.474      0.705      0.573      0.454\n",
      "\n",
      "      Epoch    GPU_mem   box_loss   cls_loss   dfl_loss  Instances       Size\n"
     ]
    },
    {
     "name": "stderr",
     "output_type": "stream",
     "text": [
      "     81/150     0.325G     0.9586      1.873      1.035          9        640: 100%|██████████| 451/451 [00:29<00:00, 15.06it/s]\n",
      "                 Class     Images  Instances      Box(P          R      mAP50  mAP50-95): 100%|██████████| 226/226 [00:05<00:00, 44.05it/s]\n"
     ]
    },
    {
     "name": "stdout",
     "output_type": "stream",
     "text": [
      "                   all        451       3528      0.481      0.699      0.558      0.441\n",
      "\n",
      "      Epoch    GPU_mem   box_loss   cls_loss   dfl_loss  Instances       Size\n"
     ]
    },
    {
     "name": "stderr",
     "output_type": "stream",
     "text": [
      "     82/150     0.327G     0.9586      1.846       1.03          9        640: 100%|██████████| 451/451 [00:30<00:00, 14.90it/s]\n",
      "                 Class     Images  Instances      Box(P          R      mAP50  mAP50-95): 100%|██████████| 226/226 [00:06<00:00, 35.71it/s]\n"
     ]
    },
    {
     "name": "stdout",
     "output_type": "stream",
     "text": [
      "                   all        451       3528      0.481      0.705      0.555      0.436\n",
      "\n",
      "      Epoch    GPU_mem   box_loss   cls_loss   dfl_loss  Instances       Size\n"
     ]
    },
    {
     "name": "stderr",
     "output_type": "stream",
     "text": [
      "     83/150     0.327G     0.9563      1.876       1.03         12        640: 100%|██████████| 451/451 [00:29<00:00, 15.06it/s]\n",
      "                 Class     Images  Instances      Box(P          R      mAP50  mAP50-95): 100%|██████████| 226/226 [00:05<00:00, 43.98it/s]\n"
     ]
    },
    {
     "name": "stdout",
     "output_type": "stream",
     "text": [
      "                   all        451       3528      0.466      0.712      0.557      0.439\n",
      "\n",
      "      Epoch    GPU_mem   box_loss   cls_loss   dfl_loss  Instances       Size\n"
     ]
    },
    {
     "name": "stderr",
     "output_type": "stream",
     "text": [
      "     84/150     0.327G     0.9393      1.881       1.03          4        640: 100%|██████████| 451/451 [00:30<00:00, 14.80it/s]\n",
      "                 Class     Images  Instances      Box(P          R      mAP50  mAP50-95): 100%|██████████| 226/226 [00:05<00:00, 44.31it/s]\n"
     ]
    },
    {
     "name": "stdout",
     "output_type": "stream",
     "text": [
      "                   all        451       3528      0.464      0.709      0.548      0.433\n",
      "\n",
      "      Epoch    GPU_mem   box_loss   cls_loss   dfl_loss  Instances       Size\n"
     ]
    },
    {
     "name": "stderr",
     "output_type": "stream",
     "text": [
      "     85/150     0.327G     0.9274      1.836      1.017         24        640: 100%|██████████| 451/451 [00:29<00:00, 15.14it/s]\n",
      "                 Class     Images  Instances      Box(P          R      mAP50  mAP50-95): 100%|██████████| 226/226 [00:05<00:00, 43.57it/s]\n"
     ]
    },
    {
     "name": "stdout",
     "output_type": "stream",
     "text": [
      "                   all        451       3528       0.49      0.691      0.555      0.437\n",
      "\n",
      "      Epoch    GPU_mem   box_loss   cls_loss   dfl_loss  Instances       Size\n"
     ]
    },
    {
     "name": "stderr",
     "output_type": "stream",
     "text": [
      "     86/150     0.327G     0.9448      1.859       1.04          7        640: 100%|██████████| 451/451 [00:29<00:00, 15.10it/s]\n",
      "                 Class     Images  Instances      Box(P          R      mAP50  mAP50-95): 100%|██████████| 226/226 [00:05<00:00, 43.89it/s]\n"
     ]
    },
    {
     "name": "stdout",
     "output_type": "stream",
     "text": [
      "                   all        451       3528        0.5      0.701      0.569      0.451\n",
      "\n",
      "      Epoch    GPU_mem   box_loss   cls_loss   dfl_loss  Instances       Size\n"
     ]
    },
    {
     "name": "stderr",
     "output_type": "stream",
     "text": [
      "     87/150     0.325G     0.9737      1.872      1.037          5        640: 100%|██████████| 451/451 [00:30<00:00, 14.86it/s]\n",
      "                 Class     Images  Instances      Box(P          R      mAP50  mAP50-95): 100%|██████████| 226/226 [00:05<00:00, 43.65it/s]"
     ]
    },
    {
     "name": "stdout",
     "output_type": "stream",
     "text": [
      "                   all        451       3528      0.464      0.718      0.562      0.444\n"
     ]
    },
    {
     "name": "stderr",
     "output_type": "stream",
     "text": [
      "\n"
     ]
    },
    {
     "name": "stdout",
     "output_type": "stream",
     "text": [
      "\n",
      "      Epoch    GPU_mem   box_loss   cls_loss   dfl_loss  Instances       Size\n"
     ]
    },
    {
     "name": "stderr",
     "output_type": "stream",
     "text": [
      "     88/150     0.325G     0.9472       1.82      1.034         21        640: 100%|██████████| 451/451 [00:29<00:00, 15.15it/s]\n",
      "                 Class     Images  Instances      Box(P          R      mAP50  mAP50-95): 100%|██████████| 226/226 [00:05<00:00, 42.96it/s]\n"
     ]
    },
    {
     "name": "stdout",
     "output_type": "stream",
     "text": [
      "                   all        451       3528      0.485       0.72      0.568       0.45\n",
      "\n",
      "      Epoch    GPU_mem   box_loss   cls_loss   dfl_loss  Instances       Size\n"
     ]
    },
    {
     "name": "stderr",
     "output_type": "stream",
     "text": [
      "     89/150     0.327G     0.9335      1.893      1.022          5        640: 100%|██████████| 451/451 [00:27<00:00, 16.16it/s]\n",
      "                 Class     Images  Instances      Box(P          R      mAP50  mAP50-95): 100%|██████████| 226/226 [00:05<00:00, 43.30it/s]\n"
     ]
    },
    {
     "name": "stdout",
     "output_type": "stream",
     "text": [
      "                   all        451       3528      0.508       0.72      0.575      0.456\n",
      "\n",
      "      Epoch    GPU_mem   box_loss   cls_loss   dfl_loss  Instances       Size\n"
     ]
    },
    {
     "name": "stderr",
     "output_type": "stream",
     "text": [
      "     90/150     0.325G     0.9504      1.796       1.03         32        640: 100%|██████████| 451/451 [00:29<00:00, 15.54it/s]\n",
      "                 Class     Images  Instances      Box(P          R      mAP50  mAP50-95): 100%|██████████| 226/226 [00:05<00:00, 41.45it/s]\n"
     ]
    },
    {
     "name": "stdout",
     "output_type": "stream",
     "text": [
      "                   all        451       3528      0.508      0.717      0.578      0.457\n",
      "\n",
      "      Epoch    GPU_mem   box_loss   cls_loss   dfl_loss  Instances       Size\n"
     ]
    },
    {
     "name": "stderr",
     "output_type": "stream",
     "text": [
      "     91/150     0.327G     0.9391      1.813      1.022         34        640: 100%|██████████| 451/451 [00:29<00:00, 15.07it/s]\n",
      "                 Class     Images  Instances      Box(P          R      mAP50  mAP50-95): 100%|██████████| 226/226 [00:05<00:00, 43.82it/s]\n"
     ]
    },
    {
     "name": "stdout",
     "output_type": "stream",
     "text": [
      "                   all        451       3528      0.474      0.747      0.568      0.449\n",
      "\n",
      "      Epoch    GPU_mem   box_loss   cls_loss   dfl_loss  Instances       Size\n"
     ]
    },
    {
     "name": "stderr",
     "output_type": "stream",
     "text": [
      "     92/150     0.325G       0.92      1.789      1.031         25        640: 100%|██████████| 451/451 [00:28<00:00, 15.81it/s]\n",
      "                 Class     Images  Instances      Box(P          R      mAP50  mAP50-95): 100%|██████████| 226/226 [00:05<00:00, 41.94it/s]\n"
     ]
    },
    {
     "name": "stdout",
     "output_type": "stream",
     "text": [
      "                   all        451       3528      0.503      0.735      0.579      0.459\n",
      "\n",
      "      Epoch    GPU_mem   box_loss   cls_loss   dfl_loss  Instances       Size\n"
     ]
    },
    {
     "name": "stderr",
     "output_type": "stream",
     "text": [
      "     93/150     0.325G     0.9381      1.849      1.036         28        640: 100%|██████████| 451/451 [00:28<00:00, 15.92it/s]\n",
      "                 Class     Images  Instances      Box(P          R      mAP50  mAP50-95): 100%|██████████| 226/226 [00:05<00:00, 43.59it/s]\n"
     ]
    },
    {
     "name": "stdout",
     "output_type": "stream",
     "text": [
      "                   all        451       3528      0.494      0.734      0.585      0.465\n",
      "\n",
      "      Epoch    GPU_mem   box_loss   cls_loss   dfl_loss  Instances       Size\n"
     ]
    },
    {
     "name": "stderr",
     "output_type": "stream",
     "text": [
      "     94/150     0.325G     0.9311      1.833      1.017          5        640: 100%|██████████| 451/451 [00:30<00:00, 14.65it/s]\n",
      "                 Class     Images  Instances      Box(P          R      mAP50  mAP50-95): 100%|██████████| 226/226 [00:05<00:00, 44.00it/s]\n"
     ]
    },
    {
     "name": "stdout",
     "output_type": "stream",
     "text": [
      "                   all        451       3528      0.469      0.741      0.572      0.454\n",
      "\n",
      "      Epoch    GPU_mem   box_loss   cls_loss   dfl_loss  Instances       Size\n"
     ]
    },
    {
     "name": "stderr",
     "output_type": "stream",
     "text": [
      "     95/150     0.325G     0.9207      1.811      1.013         23        640: 100%|██████████| 451/451 [00:29<00:00, 15.45it/s]\n",
      "                 Class     Images  Instances      Box(P          R      mAP50  mAP50-95): 100%|██████████| 226/226 [00:05<00:00, 43.85it/s]\n"
     ]
    },
    {
     "name": "stdout",
     "output_type": "stream",
     "text": [
      "                   all        451       3528      0.506       0.73      0.595      0.474\n",
      "\n",
      "      Epoch    GPU_mem   box_loss   cls_loss   dfl_loss  Instances       Size\n"
     ]
    },
    {
     "name": "stderr",
     "output_type": "stream",
     "text": [
      "     96/150     0.325G     0.9208      1.785      1.016         18        640: 100%|██████████| 451/451 [00:27<00:00, 16.28it/s]\n",
      "                 Class     Images  Instances      Box(P          R      mAP50  mAP50-95): 100%|██████████| 226/226 [00:05<00:00, 44.47it/s]\n"
     ]
    },
    {
     "name": "stdout",
     "output_type": "stream",
     "text": [
      "                   all        451       3528      0.492      0.732      0.587      0.466\n",
      "\n",
      "      Epoch    GPU_mem   box_loss   cls_loss   dfl_loss  Instances       Size\n"
     ]
    },
    {
     "name": "stderr",
     "output_type": "stream",
     "text": [
      "     97/150     0.325G      0.937      1.797      1.025         14        640: 100%|██████████| 451/451 [00:27<00:00, 16.41it/s]\n",
      "                 Class     Images  Instances      Box(P          R      mAP50  mAP50-95): 100%|██████████| 226/226 [00:05<00:00, 44.66it/s]\n"
     ]
    },
    {
     "name": "stdout",
     "output_type": "stream",
     "text": [
      "                   all        451       3528      0.499       0.74       0.59      0.468\n",
      "\n",
      "      Epoch    GPU_mem   box_loss   cls_loss   dfl_loss  Instances       Size\n"
     ]
    },
    {
     "name": "stderr",
     "output_type": "stream",
     "text": [
      "     98/150     0.325G     0.9009      1.728      1.022         17        640: 100%|██████████| 451/451 [00:30<00:00, 14.87it/s]\n",
      "                 Class     Images  Instances      Box(P          R      mAP50  mAP50-95): 100%|██████████| 226/226 [00:05<00:00, 43.41it/s]\n"
     ]
    },
    {
     "name": "stdout",
     "output_type": "stream",
     "text": [
      "                   all        451       3528      0.493      0.754      0.588      0.467\n",
      "\n",
      "      Epoch    GPU_mem   box_loss   cls_loss   dfl_loss  Instances       Size\n"
     ]
    },
    {
     "name": "stderr",
     "output_type": "stream",
     "text": [
      "     99/150     0.325G     0.9173      1.763      1.011         27        640: 100%|██████████| 451/451 [00:30<00:00, 14.78it/s]\n",
      "                 Class     Images  Instances      Box(P          R      mAP50  mAP50-95): 100%|██████████| 226/226 [00:05<00:00, 43.44it/s]\n"
     ]
    },
    {
     "name": "stdout",
     "output_type": "stream",
     "text": [
      "                   all        451       3528      0.492      0.758      0.587      0.466\n",
      "\n",
      "      Epoch    GPU_mem   box_loss   cls_loss   dfl_loss  Instances       Size\n"
     ]
    },
    {
     "name": "stderr",
     "output_type": "stream",
     "text": [
      "    100/150     0.325G     0.9538      1.765      1.028          9        640: 100%|██████████| 451/451 [00:30<00:00, 15.01it/s]\n",
      "                 Class     Images  Instances      Box(P          R      mAP50  mAP50-95): 100%|██████████| 226/226 [00:05<00:00, 44.23it/s]\n"
     ]
    },
    {
     "name": "stdout",
     "output_type": "stream",
     "text": [
      "                   all        451       3528      0.475      0.758      0.575      0.456\n",
      "\n",
      "      Epoch    GPU_mem   box_loss   cls_loss   dfl_loss  Instances       Size\n"
     ]
    },
    {
     "name": "stderr",
     "output_type": "stream",
     "text": [
      "    101/150     0.327G     0.9225      1.767      1.024         14        640: 100%|██████████| 451/451 [00:29<00:00, 15.26it/s]\n",
      "                 Class     Images  Instances      Box(P          R      mAP50  mAP50-95): 100%|██████████| 226/226 [00:05<00:00, 43.76it/s]\n"
     ]
    },
    {
     "name": "stdout",
     "output_type": "stream",
     "text": [
      "                   all        451       3528      0.506      0.742      0.586      0.468\n",
      "\n",
      "      Epoch    GPU_mem   box_loss   cls_loss   dfl_loss  Instances       Size\n"
     ]
    },
    {
     "name": "stderr",
     "output_type": "stream",
     "text": [
      "    102/150     0.325G     0.9199      1.704       1.02          7        640: 100%|██████████| 451/451 [00:29<00:00, 15.25it/s]\n",
      "                 Class     Images  Instances      Box(P          R      mAP50  mAP50-95): 100%|██████████| 226/226 [00:05<00:00, 41.53it/s]\n"
     ]
    },
    {
     "name": "stdout",
     "output_type": "stream",
     "text": [
      "                   all        451       3528      0.502      0.735      0.584      0.462\n",
      "\n",
      "      Epoch    GPU_mem   box_loss   cls_loss   dfl_loss  Instances       Size\n"
     ]
    },
    {
     "name": "stderr",
     "output_type": "stream",
     "text": [
      "    103/150     0.327G     0.9293        1.8       1.04         16        640: 100%|██████████| 451/451 [00:30<00:00, 14.86it/s]\n",
      "                 Class     Images  Instances      Box(P          R      mAP50  mAP50-95): 100%|██████████| 226/226 [00:05<00:00, 44.48it/s]\n"
     ]
    },
    {
     "name": "stdout",
     "output_type": "stream",
     "text": [
      "                   all        451       3528      0.494      0.747        0.6      0.478\n",
      "\n",
      "      Epoch    GPU_mem   box_loss   cls_loss   dfl_loss  Instances       Size\n"
     ]
    },
    {
     "name": "stderr",
     "output_type": "stream",
     "text": [
      "    104/150     0.325G     0.9242      1.733      1.021         45        640: 100%|██████████| 451/451 [00:27<00:00, 16.15it/s]\n",
      "                 Class     Images  Instances      Box(P          R      mAP50  mAP50-95): 100%|██████████| 226/226 [00:05<00:00, 44.58it/s]\n"
     ]
    },
    {
     "name": "stdout",
     "output_type": "stream",
     "text": [
      "                   all        451       3528      0.482      0.753      0.594      0.474\n",
      "\n",
      "      Epoch    GPU_mem   box_loss   cls_loss   dfl_loss  Instances       Size\n"
     ]
    },
    {
     "name": "stderr",
     "output_type": "stream",
     "text": [
      "    105/150     0.325G     0.9255      1.748      1.021          8        640: 100%|██████████| 451/451 [00:32<00:00, 13.80it/s]\n",
      "                 Class     Images  Instances      Box(P          R      mAP50  mAP50-95): 100%|██████████| 226/226 [00:05<00:00, 44.33it/s]\n"
     ]
    },
    {
     "name": "stdout",
     "output_type": "stream",
     "text": [
      "                   all        451       3528      0.526      0.721      0.591      0.469\n",
      "\n",
      "      Epoch    GPU_mem   box_loss   cls_loss   dfl_loss  Instances       Size\n"
     ]
    },
    {
     "name": "stderr",
     "output_type": "stream",
     "text": [
      "    106/150     0.325G     0.9287      1.738      1.013          5        640: 100%|██████████| 451/451 [00:27<00:00, 16.33it/s]\n",
      "                 Class     Images  Instances      Box(P          R      mAP50  mAP50-95): 100%|██████████| 226/226 [00:05<00:00, 44.48it/s]\n"
     ]
    },
    {
     "name": "stdout",
     "output_type": "stream",
     "text": [
      "                   all        451       3528       0.49      0.762      0.596      0.474\n",
      "\n",
      "      Epoch    GPU_mem   box_loss   cls_loss   dfl_loss  Instances       Size\n"
     ]
    },
    {
     "name": "stderr",
     "output_type": "stream",
     "text": [
      "    107/150     0.325G     0.9351       1.76      1.006         30        640: 100%|██████████| 451/451 [00:28<00:00, 15.97it/s]\n",
      "                 Class     Images  Instances      Box(P          R      mAP50  mAP50-95): 100%|██████████| 226/226 [00:05<00:00, 44.25it/s]\n"
     ]
    },
    {
     "name": "stdout",
     "output_type": "stream",
     "text": [
      "                   all        451       3528      0.538      0.739      0.601      0.476\n",
      "\n",
      "      Epoch    GPU_mem   box_loss   cls_loss   dfl_loss  Instances       Size\n"
     ]
    },
    {
     "name": "stderr",
     "output_type": "stream",
     "text": [
      "    108/150     0.325G     0.9295      1.739       1.03         15        640: 100%|██████████| 451/451 [00:29<00:00, 15.45it/s]\n",
      "                 Class     Images  Instances      Box(P          R      mAP50  mAP50-95): 100%|██████████| 226/226 [00:05<00:00, 43.01it/s]\n"
     ]
    },
    {
     "name": "stdout",
     "output_type": "stream",
     "text": [
      "                   all        451       3528      0.491      0.769      0.598      0.478\n",
      "\n",
      "      Epoch    GPU_mem   box_loss   cls_loss   dfl_loss  Instances       Size\n"
     ]
    },
    {
     "name": "stderr",
     "output_type": "stream",
     "text": [
      "    109/150     0.325G     0.9209      1.744      1.021         15        640: 100%|██████████| 451/451 [00:31<00:00, 14.42it/s]\n",
      "                 Class     Images  Instances      Box(P          R      mAP50  mAP50-95): 100%|██████████| 226/226 [00:05<00:00, 42.65it/s]\n"
     ]
    },
    {
     "name": "stdout",
     "output_type": "stream",
     "text": [
      "                   all        451       3528       0.52       0.74      0.602      0.481\n",
      "\n",
      "      Epoch    GPU_mem   box_loss   cls_loss   dfl_loss  Instances       Size\n"
     ]
    },
    {
     "name": "stderr",
     "output_type": "stream",
     "text": [
      "    110/150     0.325G     0.9316      1.773      1.023         22        640: 100%|██████████| 451/451 [00:30<00:00, 14.75it/s]\n",
      "                 Class     Images  Instances      Box(P          R      mAP50  mAP50-95): 100%|██████████| 226/226 [00:05<00:00, 44.40it/s]\n"
     ]
    },
    {
     "name": "stdout",
     "output_type": "stream",
     "text": [
      "                   all        451       3528       0.48      0.782       0.59      0.471\n",
      "\n",
      "      Epoch    GPU_mem   box_loss   cls_loss   dfl_loss  Instances       Size\n"
     ]
    },
    {
     "name": "stderr",
     "output_type": "stream",
     "text": [
      "    111/150     0.325G     0.9242      1.711       1.03         18        640: 100%|██████████| 451/451 [00:28<00:00, 15.92it/s]\n",
      "                 Class     Images  Instances      Box(P          R      mAP50  mAP50-95): 100%|██████████| 226/226 [00:05<00:00, 44.55it/s]\n"
     ]
    },
    {
     "name": "stdout",
     "output_type": "stream",
     "text": [
      "                   all        451       3528      0.492      0.779      0.595      0.475\n",
      "\n",
      "      Epoch    GPU_mem   box_loss   cls_loss   dfl_loss  Instances       Size\n"
     ]
    },
    {
     "name": "stderr",
     "output_type": "stream",
     "text": [
      "    112/150     0.325G     0.9063      1.754      1.006         11        640: 100%|██████████| 451/451 [00:28<00:00, 15.62it/s]\n",
      "                 Class     Images  Instances      Box(P          R      mAP50  mAP50-95): 100%|██████████| 226/226 [00:05<00:00, 44.02it/s]\n"
     ]
    },
    {
     "name": "stdout",
     "output_type": "stream",
     "text": [
      "                   all        451       3528      0.534      0.742      0.607      0.484\n",
      "\n",
      "      Epoch    GPU_mem   box_loss   cls_loss   dfl_loss  Instances       Size\n"
     ]
    },
    {
     "name": "stderr",
     "output_type": "stream",
     "text": [
      "    113/150     0.325G     0.9204       1.76      1.021          9        640: 100%|██████████| 451/451 [00:29<00:00, 15.32it/s]\n",
      "                 Class     Images  Instances      Box(P          R      mAP50  mAP50-95): 100%|██████████| 226/226 [00:05<00:00, 42.31it/s]\n"
     ]
    },
    {
     "name": "stdout",
     "output_type": "stream",
     "text": [
      "                   all        451       3528      0.489      0.757      0.604      0.483\n",
      "\n",
      "      Epoch    GPU_mem   box_loss   cls_loss   dfl_loss  Instances       Size\n"
     ]
    },
    {
     "name": "stderr",
     "output_type": "stream",
     "text": [
      "    114/150     0.325G     0.9095      1.815     0.9983          9        640: 100%|██████████| 451/451 [00:30<00:00, 15.02it/s]\n",
      "                 Class     Images  Instances      Box(P          R      mAP50  mAP50-95): 100%|██████████| 226/226 [00:05<00:00, 42.67it/s]\n"
     ]
    },
    {
     "name": "stdout",
     "output_type": "stream",
     "text": [
      "                   all        451       3528      0.485      0.746      0.599      0.479\n",
      "\n",
      "      Epoch    GPU_mem   box_loss   cls_loss   dfl_loss  Instances       Size\n"
     ]
    },
    {
     "name": "stderr",
     "output_type": "stream",
     "text": [
      "    115/150     0.325G     0.8967      1.692      1.006          2        640: 100%|██████████| 451/451 [00:30<00:00, 14.92it/s]\n",
      "                 Class     Images  Instances      Box(P          R      mAP50  mAP50-95): 100%|██████████| 226/226 [00:05<00:00, 44.31it/s]\n"
     ]
    },
    {
     "name": "stdout",
     "output_type": "stream",
     "text": [
      "                   all        451       3528      0.484      0.753      0.595      0.475\n",
      "\n",
      "      Epoch    GPU_mem   box_loss   cls_loss   dfl_loss  Instances       Size\n"
     ]
    },
    {
     "name": "stderr",
     "output_type": "stream",
     "text": [
      "    116/150     0.325G     0.9133      1.757      1.006          6        640: 100%|██████████| 451/451 [00:27<00:00, 16.37it/s]\n",
      "                 Class     Images  Instances      Box(P          R      mAP50  mAP50-95): 100%|██████████| 226/226 [00:05<00:00, 43.51it/s]\n"
     ]
    },
    {
     "name": "stdout",
     "output_type": "stream",
     "text": [
      "                   all        451       3528      0.493      0.747      0.601      0.481\n",
      "\n",
      "      Epoch    GPU_mem   box_loss   cls_loss   dfl_loss  Instances       Size\n"
     ]
    },
    {
     "name": "stderr",
     "output_type": "stream",
     "text": [
      "    117/150     0.325G     0.9211       1.74       1.02         19        640: 100%|██████████| 451/451 [00:30<00:00, 15.02it/s]\n",
      "                 Class     Images  Instances      Box(P          R      mAP50  mAP50-95): 100%|██████████| 226/226 [00:05<00:00, 43.61it/s]\n"
     ]
    },
    {
     "name": "stdout",
     "output_type": "stream",
     "text": [
      "                   all        451       3528       0.49      0.749        0.6      0.481\n",
      "\n",
      "      Epoch    GPU_mem   box_loss   cls_loss   dfl_loss  Instances       Size\n"
     ]
    },
    {
     "name": "stderr",
     "output_type": "stream",
     "text": [
      "    118/150     0.325G     0.8933      1.617      1.022          6        640: 100%|██████████| 451/451 [00:30<00:00, 14.91it/s]\n",
      "                 Class     Images  Instances      Box(P          R      mAP50  mAP50-95): 100%|██████████| 226/226 [00:05<00:00, 43.31it/s]\n"
     ]
    },
    {
     "name": "stdout",
     "output_type": "stream",
     "text": [
      "                   all        451       3528      0.496       0.75      0.594      0.477\n",
      "\n",
      "      Epoch    GPU_mem   box_loss   cls_loss   dfl_loss  Instances       Size\n"
     ]
    },
    {
     "name": "stderr",
     "output_type": "stream",
     "text": [
      "    119/150     0.325G     0.8807      1.701      1.012         13        640: 100%|██████████| 451/451 [00:27<00:00, 16.22it/s]\n",
      "                 Class     Images  Instances      Box(P          R      mAP50  mAP50-95): 100%|██████████| 226/226 [00:05<00:00, 43.30it/s]\n"
     ]
    },
    {
     "name": "stdout",
     "output_type": "stream",
     "text": [
      "                   all        451       3528       0.49      0.744      0.596      0.477\n",
      "\n",
      "      Epoch    GPU_mem   box_loss   cls_loss   dfl_loss  Instances       Size\n"
     ]
    },
    {
     "name": "stderr",
     "output_type": "stream",
     "text": [
      "    120/150     0.325G     0.9027      1.675       1.01         13        640: 100%|██████████| 451/451 [00:30<00:00, 14.99it/s]\n",
      "                 Class     Images  Instances      Box(P          R      mAP50  mAP50-95): 100%|██████████| 226/226 [00:05<00:00, 43.09it/s]"
     ]
    },
    {
     "name": "stdout",
     "output_type": "stream",
     "text": [
      "                   all        451       3528      0.483      0.778      0.599      0.478\n"
     ]
    },
    {
     "name": "stderr",
     "output_type": "stream",
     "text": [
      "\n"
     ]
    },
    {
     "name": "stdout",
     "output_type": "stream",
     "text": [
      "\n",
      "      Epoch    GPU_mem   box_loss   cls_loss   dfl_loss  Instances       Size\n"
     ]
    },
    {
     "name": "stderr",
     "output_type": "stream",
     "text": [
      "    121/150     0.325G      0.925      1.719      1.014         28        640: 100%|██████████| 451/451 [00:29<00:00, 15.40it/s]\n",
      "                 Class     Images  Instances      Box(P          R      mAP50  mAP50-95): 100%|██████████| 226/226 [00:05<00:00, 44.45it/s]\n"
     ]
    },
    {
     "name": "stdout",
     "output_type": "stream",
     "text": [
      "                   all        451       3528      0.499      0.767      0.597      0.476\n",
      "\n",
      "      Epoch    GPU_mem   box_loss   cls_loss   dfl_loss  Instances       Size\n"
     ]
    },
    {
     "name": "stderr",
     "output_type": "stream",
     "text": [
      "    122/150     0.325G     0.9081      1.632      1.006          9        640: 100%|██████████| 451/451 [00:28<00:00, 15.65it/s]\n",
      "                 Class     Images  Instances      Box(P          R      mAP50  mAP50-95): 100%|██████████| 226/226 [00:05<00:00, 43.71it/s]\n"
     ]
    },
    {
     "name": "stdout",
     "output_type": "stream",
     "text": [
      "                   all        451       3528      0.494      0.739      0.598      0.479\n",
      "\n",
      "      Epoch    GPU_mem   box_loss   cls_loss   dfl_loss  Instances       Size\n"
     ]
    },
    {
     "name": "stderr",
     "output_type": "stream",
     "text": [
      "    123/150     0.325G     0.9269      1.722      1.014         56        640: 100%|██████████| 451/451 [00:29<00:00, 15.04it/s]\n",
      "                 Class     Images  Instances      Box(P          R      mAP50  mAP50-95): 100%|██████████| 226/226 [00:05<00:00, 42.92it/s]\n"
     ]
    },
    {
     "name": "stdout",
     "output_type": "stream",
     "text": [
      "                   all        451       3528      0.507      0.748      0.604      0.482\n",
      "\n",
      "      Epoch    GPU_mem   box_loss   cls_loss   dfl_loss  Instances       Size\n"
     ]
    },
    {
     "name": "stderr",
     "output_type": "stream",
     "text": [
      "    124/150     0.325G        0.9      1.622      1.013         23        640: 100%|██████████| 451/451 [00:28<00:00, 15.90it/s]\n",
      "                 Class     Images  Instances      Box(P          R      mAP50  mAP50-95): 100%|██████████| 226/226 [00:05<00:00, 43.93it/s]"
     ]
    },
    {
     "name": "stdout",
     "output_type": "stream",
     "text": [
      "                   all        451       3528      0.502      0.743      0.602      0.484\n"
     ]
    },
    {
     "name": "stderr",
     "output_type": "stream",
     "text": [
      "\n"
     ]
    },
    {
     "name": "stdout",
     "output_type": "stream",
     "text": [
      "\n",
      "      Epoch    GPU_mem   box_loss   cls_loss   dfl_loss  Instances       Size\n"
     ]
    },
    {
     "name": "stderr",
     "output_type": "stream",
     "text": [
      "    125/150     0.325G     0.8989      1.647     0.9976          9        640: 100%|██████████| 451/451 [00:28<00:00, 16.07it/s]\n",
      "                 Class     Images  Instances      Box(P          R      mAP50  mAP50-95): 100%|██████████| 226/226 [00:06<00:00, 35.80it/s]\n"
     ]
    },
    {
     "name": "stdout",
     "output_type": "stream",
     "text": [
      "                   all        451       3528      0.522      0.741      0.607      0.486\n",
      "\n",
      "      Epoch    GPU_mem   box_loss   cls_loss   dfl_loss  Instances       Size\n"
     ]
    },
    {
     "name": "stderr",
     "output_type": "stream",
     "text": [
      "    126/150     0.325G     0.9053      1.612      1.014         14        640: 100%|██████████| 451/451 [00:31<00:00, 14.26it/s]\n",
      "                 Class     Images  Instances      Box(P          R      mAP50  mAP50-95): 100%|██████████| 226/226 [00:05<00:00, 44.33it/s]\n"
     ]
    },
    {
     "name": "stdout",
     "output_type": "stream",
     "text": [
      "                   all        451       3528      0.482      0.795      0.598      0.479\n",
      "\n",
      "      Epoch    GPU_mem   box_loss   cls_loss   dfl_loss  Instances       Size\n"
     ]
    },
    {
     "name": "stderr",
     "output_type": "stream",
     "text": [
      "    127/150     0.325G     0.8988      1.694      1.005         18        640: 100%|██████████| 451/451 [00:30<00:00, 14.66it/s]\n",
      "                 Class     Images  Instances      Box(P          R      mAP50  mAP50-95): 100%|██████████| 226/226 [00:05<00:00, 43.46it/s]\n"
     ]
    },
    {
     "name": "stdout",
     "output_type": "stream",
     "text": [
      "                   all        451       3528       0.51      0.763        0.6       0.48\n",
      "\n",
      "      Epoch    GPU_mem   box_loss   cls_loss   dfl_loss  Instances       Size\n"
     ]
    },
    {
     "name": "stderr",
     "output_type": "stream",
     "text": [
      "    128/150     0.325G     0.8791      1.643      0.989          7        640: 100%|██████████| 451/451 [00:28<00:00, 15.58it/s]\n",
      "                 Class     Images  Instances      Box(P          R      mAP50  mAP50-95): 100%|██████████| 226/226 [00:05<00:00, 43.33it/s]\n"
     ]
    },
    {
     "name": "stdout",
     "output_type": "stream",
     "text": [
      "                   all        451       3528      0.491      0.778       0.61       0.49\n",
      "\n",
      "      Epoch    GPU_mem   box_loss   cls_loss   dfl_loss  Instances       Size\n"
     ]
    },
    {
     "name": "stderr",
     "output_type": "stream",
     "text": [
      "    129/150     0.325G     0.8665      1.693     0.9892         21        640: 100%|██████████| 451/451 [00:29<00:00, 15.08it/s]\n",
      "                 Class     Images  Instances      Box(P          R      mAP50  mAP50-95): 100%|██████████| 226/226 [00:05<00:00, 44.44it/s]\n"
     ]
    },
    {
     "name": "stdout",
     "output_type": "stream",
     "text": [
      "                   all        451       3528      0.493      0.781      0.611      0.491\n",
      "\n",
      "      Epoch    GPU_mem   box_loss   cls_loss   dfl_loss  Instances       Size\n"
     ]
    },
    {
     "name": "stderr",
     "output_type": "stream",
     "text": [
      "    130/150     0.325G     0.9017      1.644      1.008          8        640: 100%|██████████| 451/451 [00:31<00:00, 14.54it/s]\n",
      "                 Class     Images  Instances      Box(P          R      mAP50  mAP50-95): 100%|██████████| 226/226 [00:05<00:00, 44.09it/s]\n"
     ]
    },
    {
     "name": "stdout",
     "output_type": "stream",
     "text": [
      "                   all        451       3528       0.47      0.798      0.606      0.487\n",
      "\n",
      "      Epoch    GPU_mem   box_loss   cls_loss   dfl_loss  Instances       Size\n"
     ]
    },
    {
     "name": "stderr",
     "output_type": "stream",
     "text": [
      "    131/150     0.325G     0.9075      1.652      1.013          6        640: 100%|██████████| 451/451 [00:29<00:00, 15.25it/s]\n",
      "                 Class     Images  Instances      Box(P          R      mAP50  mAP50-95): 100%|██████████| 226/226 [00:05<00:00, 44.46it/s]\n"
     ]
    },
    {
     "name": "stdout",
     "output_type": "stream",
     "text": [
      "                   all        451       3528      0.493      0.782      0.604      0.485\n",
      "\n",
      "      Epoch    GPU_mem   box_loss   cls_loss   dfl_loss  Instances       Size\n"
     ]
    },
    {
     "name": "stderr",
     "output_type": "stream",
     "text": [
      "    132/150     0.325G     0.8956      1.615          1         22        640: 100%|██████████| 451/451 [00:30<00:00, 15.02it/s]\n",
      "                 Class     Images  Instances      Box(P          R      mAP50  mAP50-95): 100%|██████████| 226/226 [00:05<00:00, 42.84it/s]\n"
     ]
    },
    {
     "name": "stdout",
     "output_type": "stream",
     "text": [
      "                   all        451       3528      0.483      0.806      0.613      0.493\n",
      "\n",
      "      Epoch    GPU_mem   box_loss   cls_loss   dfl_loss  Instances       Size\n"
     ]
    },
    {
     "name": "stderr",
     "output_type": "stream",
     "text": [
      "    133/150     0.325G     0.8877       1.61     0.9932         32        640: 100%|██████████| 451/451 [00:29<00:00, 15.15it/s]\n",
      "                 Class     Images  Instances      Box(P          R      mAP50  mAP50-95): 100%|██████████| 226/226 [00:05<00:00, 44.12it/s]\n"
     ]
    },
    {
     "name": "stdout",
     "output_type": "stream",
     "text": [
      "                   all        451       3528      0.466      0.794      0.603      0.483\n",
      "\n",
      "      Epoch    GPU_mem   box_loss   cls_loss   dfl_loss  Instances       Size\n"
     ]
    },
    {
     "name": "stderr",
     "output_type": "stream",
     "text": [
      "    134/150     0.325G     0.8883      1.639      1.005          5        640: 100%|██████████| 451/451 [00:29<00:00, 15.27it/s]\n",
      "                 Class     Images  Instances      Box(P          R      mAP50  mAP50-95): 100%|██████████| 226/226 [00:06<00:00, 36.07it/s]\n"
     ]
    },
    {
     "name": "stdout",
     "output_type": "stream",
     "text": [
      "                   all        451       3528      0.471      0.788      0.599      0.482\n",
      "\n",
      "      Epoch    GPU_mem   box_loss   cls_loss   dfl_loss  Instances       Size\n"
     ]
    },
    {
     "name": "stderr",
     "output_type": "stream",
     "text": [
      "    135/150     0.325G     0.9056      1.634      1.009         22        640: 100%|██████████| 451/451 [00:30<00:00, 15.00it/s]\n",
      "                 Class     Images  Instances      Box(P          R      mAP50  mAP50-95): 100%|██████████| 226/226 [00:05<00:00, 43.78it/s]\n"
     ]
    },
    {
     "name": "stdout",
     "output_type": "stream",
     "text": [
      "                   all        451       3528      0.496       0.76        0.6      0.481\n",
      "\n",
      "      Epoch    GPU_mem   box_loss   cls_loss   dfl_loss  Instances       Size\n"
     ]
    },
    {
     "name": "stderr",
     "output_type": "stream",
     "text": [
      "    136/150     0.325G     0.8926      1.644      1.003         12        640: 100%|██████████| 451/451 [00:30<00:00, 14.77it/s]\n",
      "                 Class     Images  Instances      Box(P          R      mAP50  mAP50-95): 100%|██████████| 226/226 [00:05<00:00, 43.73it/s]\n"
     ]
    },
    {
     "name": "stdout",
     "output_type": "stream",
     "text": [
      "                   all        451       3528      0.502      0.765       0.61      0.492\n",
      "\n",
      "      Epoch    GPU_mem   box_loss   cls_loss   dfl_loss  Instances       Size\n"
     ]
    },
    {
     "name": "stderr",
     "output_type": "stream",
     "text": [
      "    137/150     0.325G     0.8945      1.604      1.004         11        640: 100%|██████████| 451/451 [00:29<00:00, 15.11it/s]\n",
      "                 Class     Images  Instances      Box(P          R      mAP50  mAP50-95): 100%|██████████| 226/226 [00:05<00:00, 44.65it/s]\n"
     ]
    },
    {
     "name": "stdout",
     "output_type": "stream",
     "text": [
      "                   all        451       3528      0.496      0.774      0.596      0.478\n",
      "\n",
      "      Epoch    GPU_mem   box_loss   cls_loss   dfl_loss  Instances       Size\n"
     ]
    },
    {
     "name": "stderr",
     "output_type": "stream",
     "text": [
      "    138/150     0.325G     0.8822      1.633      0.994         31        640: 100%|██████████| 451/451 [00:29<00:00, 15.30it/s]\n",
      "                 Class     Images  Instances      Box(P          R      mAP50  mAP50-95): 100%|██████████| 226/226 [00:05<00:00, 44.40it/s]\n"
     ]
    },
    {
     "name": "stdout",
     "output_type": "stream",
     "text": [
      "                   all        451       3528      0.523      0.755        0.6      0.484\n",
      "\n",
      "      Epoch    GPU_mem   box_loss   cls_loss   dfl_loss  Instances       Size\n"
     ]
    },
    {
     "name": "stderr",
     "output_type": "stream",
     "text": [
      "    139/150     0.325G     0.8999      1.692      1.009         19        640: 100%|██████████| 451/451 [00:27<00:00, 16.24it/s]\n",
      "                 Class     Images  Instances      Box(P          R      mAP50  mAP50-95): 100%|██████████| 226/226 [00:05<00:00, 45.00it/s]\n"
     ]
    },
    {
     "name": "stdout",
     "output_type": "stream",
     "text": [
      "                   all        451       3528      0.526      0.749      0.602      0.483\n",
      "\n",
      "      Epoch    GPU_mem   box_loss   cls_loss   dfl_loss  Instances       Size\n"
     ]
    },
    {
     "name": "stderr",
     "output_type": "stream",
     "text": [
      "    140/150     0.325G     0.8769      1.634      0.997         17        640: 100%|██████████| 451/451 [00:30<00:00, 14.84it/s]\n",
      "                 Class     Images  Instances      Box(P          R      mAP50  mAP50-95): 100%|██████████| 226/226 [00:05<00:00, 44.14it/s]\n"
     ]
    },
    {
     "name": "stdout",
     "output_type": "stream",
     "text": [
      "                   all        451       3528      0.519      0.778      0.609       0.49\n",
      "Closing dataloader mosaic\n",
      "\n",
      "      Epoch    GPU_mem   box_loss   cls_loss   dfl_loss  Instances       Size\n"
     ]
    },
    {
     "name": "stderr",
     "output_type": "stream",
     "text": [
      "    141/150     0.325G     0.8395      1.483      1.002          4        640: 100%|██████████| 451/451 [00:29<00:00, 15.30it/s]\n",
      "                 Class     Images  Instances      Box(P          R      mAP50  mAP50-95): 100%|██████████| 226/226 [00:05<00:00, 42.53it/s]\n"
     ]
    },
    {
     "name": "stdout",
     "output_type": "stream",
     "text": [
      "                   all        451       3528      0.495      0.755      0.594      0.473\n",
      "\n",
      "      Epoch    GPU_mem   box_loss   cls_loss   dfl_loss  Instances       Size\n"
     ]
    },
    {
     "name": "stderr",
     "output_type": "stream",
     "text": [
      "    142/150     0.325G     0.8308      1.481      1.004          3        640: 100%|██████████| 451/451 [00:29<00:00, 15.35it/s]\n",
      "                 Class     Images  Instances      Box(P          R      mAP50  mAP50-95): 100%|██████████| 226/226 [00:05<00:00, 41.92it/s]\n"
     ]
    },
    {
     "name": "stdout",
     "output_type": "stream",
     "text": [
      "                   all        451       3528      0.511      0.756      0.595      0.471\n",
      "\n",
      "      Epoch    GPU_mem   box_loss   cls_loss   dfl_loss  Instances       Size\n"
     ]
    },
    {
     "name": "stderr",
     "output_type": "stream",
     "text": [
      "    143/150     0.325G     0.8097      1.436      0.994         16        640: 100%|██████████| 451/451 [00:27<00:00, 16.56it/s]\n",
      "                 Class     Images  Instances      Box(P          R      mAP50  mAP50-95): 100%|██████████| 226/226 [00:05<00:00, 43.29it/s]\n"
     ]
    },
    {
     "name": "stdout",
     "output_type": "stream",
     "text": [
      "                   all        451       3528       0.48      0.799      0.598      0.478\n",
      "\n",
      "      Epoch    GPU_mem   box_loss   cls_loss   dfl_loss  Instances       Size\n"
     ]
    },
    {
     "name": "stderr",
     "output_type": "stream",
     "text": [
      "    144/150     0.325G     0.8116      1.409     0.9922          2        640: 100%|██████████| 451/451 [00:30<00:00, 14.95it/s]\n",
      "                 Class     Images  Instances      Box(P          R      mAP50  mAP50-95): 100%|██████████| 226/226 [00:05<00:00, 42.70it/s]"
     ]
    },
    {
     "name": "stdout",
     "output_type": "stream",
     "text": [
      "                   all        451       3528      0.491      0.776      0.596      0.474\n"
     ]
    },
    {
     "name": "stderr",
     "output_type": "stream",
     "text": [
      "\n"
     ]
    },
    {
     "name": "stdout",
     "output_type": "stream",
     "text": [
      "\n",
      "      Epoch    GPU_mem   box_loss   cls_loss   dfl_loss  Instances       Size\n"
     ]
    },
    {
     "name": "stderr",
     "output_type": "stream",
     "text": [
      "    145/150     0.325G     0.8127       1.41     0.9955         16        640: 100%|██████████| 451/451 [00:30<00:00, 14.87it/s]\n",
      "                 Class     Images  Instances      Box(P          R      mAP50  mAP50-95): 100%|██████████| 226/226 [00:05<00:00, 43.64it/s]"
     ]
    },
    {
     "name": "stdout",
     "output_type": "stream",
     "text": [
      "                   all        451       3528      0.495      0.776      0.598      0.477\n"
     ]
    },
    {
     "name": "stderr",
     "output_type": "stream",
     "text": [
      "\n"
     ]
    },
    {
     "name": "stdout",
     "output_type": "stream",
     "text": [
      "\n",
      "      Epoch    GPU_mem   box_loss   cls_loss   dfl_loss  Instances       Size\n"
     ]
    },
    {
     "name": "stderr",
     "output_type": "stream",
     "text": [
      "    146/150     0.325G      0.797      1.386     0.9879          3        640: 100%|██████████| 451/451 [00:29<00:00, 15.19it/s]\n",
      "                 Class     Images  Instances      Box(P          R      mAP50  mAP50-95): 100%|██████████| 226/226 [00:05<00:00, 44.27it/s]\n"
     ]
    },
    {
     "name": "stdout",
     "output_type": "stream",
     "text": [
      "                   all        451       3528      0.483      0.792      0.598      0.478\n",
      "\n",
      "      Epoch    GPU_mem   box_loss   cls_loss   dfl_loss  Instances       Size\n"
     ]
    },
    {
     "name": "stderr",
     "output_type": "stream",
     "text": [
      "    147/150     0.325G     0.8077      1.412     0.9935          1        640: 100%|██████████| 451/451 [00:29<00:00, 15.41it/s]\n",
      "                 Class     Images  Instances      Box(P          R      mAP50  mAP50-95): 100%|██████████| 226/226 [00:06<00:00, 36.12it/s]\n"
     ]
    },
    {
     "name": "stdout",
     "output_type": "stream",
     "text": [
      "                   all        451       3528      0.473      0.797      0.596      0.477\n",
      "\n",
      "      Epoch    GPU_mem   box_loss   cls_loss   dfl_loss  Instances       Size\n"
     ]
    },
    {
     "name": "stderr",
     "output_type": "stream",
     "text": [
      "    148/150     0.325G     0.8111       1.39      1.002         13        640: 100%|██████████| 451/451 [00:30<00:00, 15.01it/s]\n",
      "                 Class     Images  Instances      Box(P          R      mAP50  mAP50-95): 100%|██████████| 226/226 [00:05<00:00, 44.18it/s]\n"
     ]
    },
    {
     "name": "stdout",
     "output_type": "stream",
     "text": [
      "                   all        451       3528       0.49       0.78      0.597      0.477\n",
      "\n",
      "      Epoch    GPU_mem   box_loss   cls_loss   dfl_loss  Instances       Size\n"
     ]
    },
    {
     "name": "stderr",
     "output_type": "stream",
     "text": [
      "    149/150     0.325G      0.791      1.358      0.985          3        640: 100%|██████████| 451/451 [00:29<00:00, 15.44it/s]\n",
      "                 Class     Images  Instances      Box(P          R      mAP50  mAP50-95): 100%|██████████| 226/226 [00:05<00:00, 44.00it/s]\n"
     ]
    },
    {
     "name": "stdout",
     "output_type": "stream",
     "text": [
      "                   all        451       3528      0.501      0.787      0.608      0.487\n",
      "\n",
      "      Epoch    GPU_mem   box_loss   cls_loss   dfl_loss  Instances       Size\n"
     ]
    },
    {
     "name": "stderr",
     "output_type": "stream",
     "text": [
      "    150/150     0.325G     0.7941      1.375     0.9825          2        640: 100%|██████████| 451/451 [00:30<00:00, 14.79it/s]\n",
      "                 Class     Images  Instances      Box(P          R      mAP50  mAP50-95): 100%|██████████| 226/226 [00:06<00:00, 37.37it/s]\n"
     ]
    },
    {
     "name": "stdout",
     "output_type": "stream",
     "text": [
      "                   all        451       3528      0.488      0.776       0.61      0.488\n",
      "\n",
      "150 epochs completed in 1.485 hours.\n",
      "Optimizer stripped from runs/detect/yolo_braille_hangeul_mkdata_only5/weights/last.pt, 6.3MB\n",
      "Optimizer stripped from runs/detect/yolo_braille_hangeul_mkdata_only5/weights/best.pt, 6.3MB\n",
      "\n",
      "Validating runs/detect/yolo_braille_hangeul_mkdata_only5/weights/best.pt...\n",
      "Ultralytics YOLOv8.2.92 🚀 Python-3.11.9 torch-2.0.1+cu117 CUDA:0 (NVIDIA TITAN Xp, 12196MiB)\n",
      "Model summary (fused): 168 layers, 3,017,933 parameters, 0 gradients, 8.2 GFLOPs\n"
     ]
    },
    {
     "name": "stderr",
     "output_type": "stream",
     "text": [
      "                 Class     Images  Instances      Box(P          R      mAP50  mAP50-95): 100%|██████████| 226/226 [00:03<00:00, 57.02it/s]\n"
     ]
    },
    {
     "name": "stdout",
     "output_type": "stream",
     "text": [
      "                   all        451       3528      0.483      0.804      0.611      0.491\n",
      "                100000         53         58      0.423      0.845      0.558      0.407\n",
      "                010100         50         55      0.656      0.964      0.863      0.684\n",
      "                110100        101        121      0.806          1      0.979      0.803\n",
      "                001100         11         11      0.171      0.182      0.261      0.218\n",
      "                101100          8          8      0.369      0.625       0.43      0.355\n",
      "                011100         55         72      0.483      0.986      0.679      0.562\n",
      "                111100         29         32       0.39      0.875      0.825      0.659\n",
      "                000010        116        188      0.487       0.92      0.608      0.467\n",
      "                100010         18         20      0.274       0.65      0.281      0.217\n",
      "                010010        120        187      0.913          1      0.995      0.813\n",
      "                110010         50         57       0.77      0.912       0.83      0.661\n",
      "                010000        116        188      0.487      0.915      0.564      0.436\n",
      "                001010         46         51      0.568       0.98      0.817      0.684\n",
      "                101010         88        107      0.457      0.959       0.49      0.407\n",
      "                011010         11         11      0.311      0.534      0.338      0.261\n",
      "                111010         38         41      0.406      0.756      0.389      0.316\n",
      "                000110         15         16      0.245      0.125      0.172      0.146\n",
      "                100110         12         13      0.126      0.231      0.157      0.125\n",
      "                010110         13         13      0.101     0.0465      0.242      0.186\n",
      "                110110         38         48      0.769          1      0.991      0.781\n",
      "                001110         50         67      0.467      0.985      0.676      0.537\n",
      "                101110         52         59      0.583      0.949      0.656      0.543\n",
      "                110000        100        128      0.616      0.969      0.853      0.646\n",
      "                011110         95        105      0.442      0.933      0.544      0.437\n",
      "                111110         50         53      0.569          1      0.654      0.528\n",
      "                000001         47         51      0.409      0.706      0.446      0.323\n",
      "                100001         98        106      0.744      0.991      0.909      0.745\n",
      "                010001         16         18      0.275      0.822      0.287      0.228\n",
      "                110001         69         83      0.588       0.98      0.714      0.573\n",
      "                001001         14         15      0.414          1      0.605      0.497\n",
      "                101001         65         66      0.597          1      0.799      0.659\n",
      "                011001         10         11          0          0      0.128       0.11\n",
      "                111001         50         58      0.617      0.983       0.73      0.587\n",
      "                001000         46         50      0.493       0.88      0.693      0.503\n",
      "                000101         20         21      0.392      0.762      0.502       0.39\n",
      "                100101         65         66      0.694          1      0.901       0.75\n",
      "                010101         84        103      0.435      0.932      0.453      0.369\n",
      "                110101         32         33      0.376      0.909      0.498      0.396\n",
      "                001101          9          9      0.515      0.111      0.435      0.356\n",
      "                101101         30         30      0.429          1      0.866      0.726\n",
      "                011101         53         61      0.642      0.918      0.724      0.604\n",
      "                111101         34         35      0.417       0.94      0.458       0.39\n",
      "                000011         92        115      0.654      0.983      0.882      0.682\n",
      "                100011         72         86      0.574      0.977      0.706      0.576\n",
      "                101000         21         22      0.225      0.364      0.336      0.241\n",
      "                010011         44         50      0.794      0.999      0.914      0.727\n",
      "                110011        112        124      0.473      0.919      0.575      0.468\n",
      "                001011        100        120      0.795      0.992      0.944      0.782\n",
      "                101011         32         33      0.414      0.667      0.448      0.367\n",
      "                011011         34         44      0.731          1      0.971      0.777\n",
      "                111011         21         24      0.336      0.792      0.387      0.312\n",
      "                000111         15         16      0.433       0.75      0.656      0.487\n",
      "                100111         50         59      0.619      0.966      0.845      0.679\n",
      "                010111         39         42      0.393      0.738      0.454      0.377\n",
      "                110111         21         25      0.339       0.84      0.415      0.348\n",
      "                011000         15         16       0.21      0.233      0.207      0.165\n",
      "                001111         30         33      0.431      0.874       0.76      0.626\n",
      "                101111         32         33      0.379      0.848      0.427      0.351\n",
      "                011111         49         52      0.566      0.981      0.689      0.572\n",
      "                111111         22         24      0.657          1      0.903      0.765\n",
      "                111000         18         20      0.497       0.65      0.527      0.409\n",
      "                000100         46         49      0.479      0.939      0.637      0.484\n",
      "                100100         15         16      0.481      0.875      0.792      0.668\n",
      "Speed: 0.2ms preprocess, 4.2ms inference, 0.0ms loss, 0.8ms postprocess per image\n",
      "Results saved to \u001b[1mruns/detect/yolo_braille_hangeul_mkdata_only5\u001b[0m\n"
     ]
    }
   ],
   "source": [
    "import os\n",
    "import cv2\n",
    "import torch\n",
    "from ultralytics import YOLO\n",
    "\n",
    "model = YOLO('yolov8n.pt')\n",
    "data_yaml = \"dataset/testmk2datset/data.yaml\"\n",
    "\n",
    "results = model.train(\n",
    "    data=data_yaml,          # 데이터셋 경로 및 설정이 담긴 YAML 파일 경로\n",
    "    epochs=150,               # 학습 횟수 (epochs)\n",
    "    imgsz=640,               # 이미지 크기 (YOLO에서 추천하는 기본 크기)\n",
    "    batch=1,                # 배치 크기\n",
    "    workers=4,               # 데이터 로딩에 사용할 CPU 코어 수\n",
    "    device=0,     \n",
    "    lr0=0.001,\n",
    "    lrf=0.2,         \n",
    "    name=\"yolo_braille_hangeul_mkdata_only\"  # 학습 결과 저장 폴더 이름\n",
    ")"
   ]
  },
  {
   "cell_type": "code",
   "execution_count": 3,
   "metadata": {},
   "outputs": [
    {
     "name": "stdout",
     "output_type": "stream",
     "text": [
      "Ultralytics YOLOv8.2.92 🚀 Python-3.11.9 torch-2.0.1+cu117 CUDA:0 (NVIDIA TITAN Xp, 12196MiB)\n"
     ]
    },
    {
     "name": "stdout",
     "output_type": "stream",
     "text": [
      "Model summary (fused): 168 layers, 3,017,933 parameters, 0 gradients, 8.2 GFLOPs\n"
     ]
    },
    {
     "name": "stderr",
     "output_type": "stream",
     "text": [
      "\u001b[34m\u001b[1mval: \u001b[0mScanning /home2/kimmg/alpha/dataset/testmk2datset/train/labels.cache... 451 images, 0 backgrounds, 0 corrupt: 100%|██████████| 451/451 [00:00<?, ?it/s]"
     ]
    },
    {
     "name": "stdout",
     "output_type": "stream",
     "text": [
      "\u001b[34m\u001b[1mtrain: \u001b[0mWARNING ⚠️ /home2/kimmg/alpha/dataset/testmk2datset/train/images/137_jpg.rf.a4e9f97f5c506429a126ce151b4592bc.jpg: 1 duplicate labels removed\n"
     ]
    },
    {
     "name": "stderr",
     "output_type": "stream",
     "text": [
      "\n",
      "                 Class     Images  Instances      Box(P          R      mAP50  mAP50-95): 100%|██████████| 29/29 [00:05<00:00,  5.12it/s]\n"
     ]
    },
    {
     "name": "stdout",
     "output_type": "stream",
     "text": [
      "                   all        451       3528      0.482      0.809      0.612      0.493\n",
      "                100000         53         58      0.423      0.845      0.542      0.394\n",
      "                010100         50         55      0.667      0.964      0.866      0.686\n",
      "                110100        101        121      0.811          1      0.978      0.797\n",
      "                001100         11         11      0.174      0.182      0.218      0.183\n",
      "                101100          8          8       0.33      0.625      0.482      0.398\n",
      "                011100         55         72      0.482      0.986      0.677      0.557\n",
      "                111100         29         32      0.389      0.875       0.82       0.66\n",
      "                000010        116        188      0.486      0.926      0.608      0.471\n",
      "                100010         18         20      0.256       0.65      0.249      0.195\n",
      "                010010        120        187      0.904          1      0.995      0.812\n",
      "                110010         50         57       0.77      0.912       0.83      0.668\n",
      "                010000        116        188      0.483      0.915      0.572      0.445\n",
      "                001010         46         51       0.57       0.98      0.806      0.676\n",
      "                101010         88        107      0.454      0.953      0.488      0.407\n",
      "                011010         11         11      0.342      0.614      0.384      0.293\n",
      "                111010         38         41        0.4      0.756      0.382      0.313\n",
      "                000110         15         16      0.242      0.125      0.172      0.148\n",
      "                100110         12         13      0.155      0.308      0.158      0.129\n",
      "                010110         13         13      0.142     0.0769      0.242      0.187\n",
      "                110110         38         48      0.776          1       0.99      0.774\n",
      "                001110         50         67      0.463      0.985      0.677      0.539\n",
      "                101110         52         59      0.564      0.944      0.639      0.532\n",
      "                110000        100        128      0.617      0.969      0.851      0.647\n",
      "                011110         95        105      0.443      0.933      0.539      0.433\n",
      "                111110         50         53      0.569          1      0.672      0.545\n",
      "                000001         47         51      0.412      0.706      0.447      0.322\n",
      "                100001         98        106      0.746      0.991      0.912      0.749\n",
      "                010001         16         18      0.277      0.832      0.283      0.219\n",
      "                110001         69         83      0.588      0.981      0.724      0.584\n",
      "                001001         14         15      0.394          1      0.652      0.558\n",
      "                101001         65         66      0.588          1      0.803       0.67\n",
      "                011001         10         11          0          0      0.129      0.108\n",
      "                111001         50         58      0.605      0.983      0.722      0.579\n",
      "                001000         46         50      0.487       0.88      0.695      0.509\n",
      "                000101         20         21      0.383      0.762      0.502      0.384\n",
      "                100101         65         66      0.685          1      0.903      0.758\n",
      "                010101         84        103      0.435      0.932       0.46      0.373\n",
      "                110101         32         33      0.362      0.909      0.498      0.398\n",
      "                001101          9          9      0.522      0.126      0.442      0.362\n",
      "                101101         30         30       0.41          1      0.879      0.736\n",
      "                011101         53         61       0.64      0.918      0.731      0.615\n",
      "                111101         34         35      0.412      0.943      0.462      0.386\n",
      "                000011         92        115       0.66      0.983      0.879      0.687\n",
      "                100011         72         86      0.574      0.977      0.701       0.57\n",
      "                101000         21         22      0.224      0.364       0.33      0.237\n",
      "                010011         44         50      0.793      0.998      0.912       0.73\n",
      "                110011        112        124      0.481      0.944      0.566      0.461\n",
      "                001011        100        120      0.788      0.992      0.945      0.783\n",
      "                101011         32         33      0.408      0.667       0.45      0.364\n",
      "                011011         34         44       0.74          1      0.972      0.774\n",
      "                111011         21         24      0.324       0.76      0.412      0.332\n",
      "                000111         15         16      0.449      0.812       0.66       0.49\n",
      "                100111         50         59      0.618      0.966       0.84      0.676\n",
      "                010111         39         42      0.386      0.738       0.45      0.372\n",
      "                110111         21         25      0.338       0.84       0.42      0.351\n",
      "                011000         15         16      0.218      0.244      0.209       0.17\n",
      "                001111         30         33      0.426      0.876      0.766       0.63\n",
      "                101111         32         33      0.386      0.875      0.426      0.354\n",
      "                011111         49         52      0.565      0.981      0.691      0.574\n",
      "                111111         22         24       0.69          1      0.896      0.763\n",
      "                111000         18         20      0.494       0.65      0.527      0.406\n",
      "                000100         46         49      0.476      0.939       0.65      0.488\n",
      "                100100         15         16      0.447      0.875      0.747       0.63\n",
      "Speed: 0.3ms preprocess, 6.8ms inference, 0.0ms loss, 1.6ms postprocess per image\n",
      "Results saved to \u001b[1mruns/detect/val4\u001b[0m\n",
      "Validation Results: ultralytics.utils.metrics.DetMetrics object with attributes:\n",
      "\n",
      "ap_class_index: array([ 0,  1,  2,  3,  4,  5,  6,  7,  8,  9, 10, 11, 12, 13, 14, 15, 16, 17, 18, 19, 20, 21, 22, 23, 24, 25, 26, 27, 28, 29, 30, 31, 32, 33, 34, 35, 36, 37, 38, 39, 40, 41, 42, 43, 44, 45, 46, 47, 48, 49, 50, 51, 52, 53, 54, 55, 56, 57, 58, 59, 60, 61, 62])\n",
      "box: ultralytics.utils.metrics.Metric object\n",
      "confusion_matrix: <ultralytics.utils.metrics.ConfusionMatrix object at 0x7fc63d239450>\n",
      "curves: ['Precision-Recall(B)', 'F1-Confidence(B)', 'Precision-Confidence(B)', 'Recall-Confidence(B)']\n",
      "curves_results: [[array([          0,    0.001001,    0.002002,    0.003003,    0.004004,    0.005005,    0.006006,    0.007007,    0.008008,    0.009009,     0.01001,    0.011011,    0.012012,    0.013013,    0.014014,    0.015015,    0.016016,    0.017017,    0.018018,    0.019019,     0.02002,    0.021021,    0.022022,    0.023023,\n",
      "          0.024024,    0.025025,    0.026026,    0.027027,    0.028028,    0.029029,     0.03003,    0.031031,    0.032032,    0.033033,    0.034034,    0.035035,    0.036036,    0.037037,    0.038038,    0.039039,     0.04004,    0.041041,    0.042042,    0.043043,    0.044044,    0.045045,    0.046046,    0.047047,\n",
      "          0.048048,    0.049049,     0.05005,    0.051051,    0.052052,    0.053053,    0.054054,    0.055055,    0.056056,    0.057057,    0.058058,    0.059059,     0.06006,    0.061061,    0.062062,    0.063063,    0.064064,    0.065065,    0.066066,    0.067067,    0.068068,    0.069069,     0.07007,    0.071071,\n",
      "          0.072072,    0.073073,    0.074074,    0.075075,    0.076076,    0.077077,    0.078078,    0.079079,     0.08008,    0.081081,    0.082082,    0.083083,    0.084084,    0.085085,    0.086086,    0.087087,    0.088088,    0.089089,     0.09009,    0.091091,    0.092092,    0.093093,    0.094094,    0.095095,\n",
      "          0.096096,    0.097097,    0.098098,    0.099099,      0.1001,      0.1011,      0.1021,      0.1031,      0.1041,     0.10511,     0.10611,     0.10711,     0.10811,     0.10911,     0.11011,     0.11111,     0.11211,     0.11311,     0.11411,     0.11512,     0.11612,     0.11712,     0.11812,     0.11912,\n",
      "           0.12012,     0.12112,     0.12212,     0.12312,     0.12412,     0.12513,     0.12613,     0.12713,     0.12813,     0.12913,     0.13013,     0.13113,     0.13213,     0.13313,     0.13413,     0.13514,     0.13614,     0.13714,     0.13814,     0.13914,     0.14014,     0.14114,     0.14214,     0.14314,\n",
      "           0.14414,     0.14515,     0.14615,     0.14715,     0.14815,     0.14915,     0.15015,     0.15115,     0.15215,     0.15315,     0.15415,     0.15516,     0.15616,     0.15716,     0.15816,     0.15916,     0.16016,     0.16116,     0.16216,     0.16316,     0.16416,     0.16517,     0.16617,     0.16717,\n",
      "           0.16817,     0.16917,     0.17017,     0.17117,     0.17217,     0.17317,     0.17417,     0.17518,     0.17618,     0.17718,     0.17818,     0.17918,     0.18018,     0.18118,     0.18218,     0.18318,     0.18418,     0.18519,     0.18619,     0.18719,     0.18819,     0.18919,     0.19019,     0.19119,\n",
      "           0.19219,     0.19319,     0.19419,      0.1952,      0.1962,      0.1972,      0.1982,      0.1992,      0.2002,      0.2012,      0.2022,      0.2032,      0.2042,     0.20521,     0.20621,     0.20721,     0.20821,     0.20921,     0.21021,     0.21121,     0.21221,     0.21321,     0.21421,     0.21522,\n",
      "           0.21622,     0.21722,     0.21822,     0.21922,     0.22022,     0.22122,     0.22222,     0.22322,     0.22422,     0.22523,     0.22623,     0.22723,     0.22823,     0.22923,     0.23023,     0.23123,     0.23223,     0.23323,     0.23423,     0.23524,     0.23624,     0.23724,     0.23824,     0.23924,\n",
      "           0.24024,     0.24124,     0.24224,     0.24324,     0.24424,     0.24525,     0.24625,     0.24725,     0.24825,     0.24925,     0.25025,     0.25125,     0.25225,     0.25325,     0.25425,     0.25526,     0.25626,     0.25726,     0.25826,     0.25926,     0.26026,     0.26126,     0.26226,     0.26326,\n",
      "           0.26426,     0.26527,     0.26627,     0.26727,     0.26827,     0.26927,     0.27027,     0.27127,     0.27227,     0.27327,     0.27427,     0.27528,     0.27628,     0.27728,     0.27828,     0.27928,     0.28028,     0.28128,     0.28228,     0.28328,     0.28428,     0.28529,     0.28629,     0.28729,\n",
      "           0.28829,     0.28929,     0.29029,     0.29129,     0.29229,     0.29329,     0.29429,      0.2953,      0.2963,      0.2973,      0.2983,      0.2993,      0.3003,      0.3013,      0.3023,      0.3033,      0.3043,     0.30531,     0.30631,     0.30731,     0.30831,     0.30931,     0.31031,     0.31131,\n",
      "           0.31231,     0.31331,     0.31431,     0.31532,     0.31632,     0.31732,     0.31832,     0.31932,     0.32032,     0.32132,     0.32232,     0.32332,     0.32432,     0.32533,     0.32633,     0.32733,     0.32833,     0.32933,     0.33033,     0.33133,     0.33233,     0.33333,     0.33433,     0.33534,\n",
      "           0.33634,     0.33734,     0.33834,     0.33934,     0.34034,     0.34134,     0.34234,     0.34334,     0.34434,     0.34535,     0.34635,     0.34735,     0.34835,     0.34935,     0.35035,     0.35135,     0.35235,     0.35335,     0.35435,     0.35536,     0.35636,     0.35736,     0.35836,     0.35936,\n",
      "           0.36036,     0.36136,     0.36236,     0.36336,     0.36436,     0.36537,     0.36637,     0.36737,     0.36837,     0.36937,     0.37037,     0.37137,     0.37237,     0.37337,     0.37437,     0.37538,     0.37638,     0.37738,     0.37838,     0.37938,     0.38038,     0.38138,     0.38238,     0.38338,\n",
      "           0.38438,     0.38539,     0.38639,     0.38739,     0.38839,     0.38939,     0.39039,     0.39139,     0.39239,     0.39339,     0.39439,      0.3954,      0.3964,      0.3974,      0.3984,      0.3994,      0.4004,      0.4014,      0.4024,      0.4034,      0.4044,     0.40541,     0.40641,     0.40741,\n",
      "           0.40841,     0.40941,     0.41041,     0.41141,     0.41241,     0.41341,     0.41441,     0.41542,     0.41642,     0.41742,     0.41842,     0.41942,     0.42042,     0.42142,     0.42242,     0.42342,     0.42442,     0.42543,     0.42643,     0.42743,     0.42843,     0.42943,     0.43043,     0.43143,\n",
      "           0.43243,     0.43343,     0.43443,     0.43544,     0.43644,     0.43744,     0.43844,     0.43944,     0.44044,     0.44144,     0.44244,     0.44344,     0.44444,     0.44545,     0.44645,     0.44745,     0.44845,     0.44945,     0.45045,     0.45145,     0.45245,     0.45345,     0.45445,     0.45546,\n",
      "           0.45646,     0.45746,     0.45846,     0.45946,     0.46046,     0.46146,     0.46246,     0.46346,     0.46446,     0.46547,     0.46647,     0.46747,     0.46847,     0.46947,     0.47047,     0.47147,     0.47247,     0.47347,     0.47447,     0.47548,     0.47648,     0.47748,     0.47848,     0.47948,\n",
      "           0.48048,     0.48148,     0.48248,     0.48348,     0.48448,     0.48549,     0.48649,     0.48749,     0.48849,     0.48949,     0.49049,     0.49149,     0.49249,     0.49349,     0.49449,      0.4955,      0.4965,      0.4975,      0.4985,      0.4995,      0.5005,      0.5015,      0.5025,      0.5035,\n",
      "            0.5045,     0.50551,     0.50651,     0.50751,     0.50851,     0.50951,     0.51051,     0.51151,     0.51251,     0.51351,     0.51451,     0.51552,     0.51652,     0.51752,     0.51852,     0.51952,     0.52052,     0.52152,     0.52252,     0.52352,     0.52452,     0.52553,     0.52653,     0.52753,\n",
      "           0.52853,     0.52953,     0.53053,     0.53153,     0.53253,     0.53353,     0.53453,     0.53554,     0.53654,     0.53754,     0.53854,     0.53954,     0.54054,     0.54154,     0.54254,     0.54354,     0.54454,     0.54555,     0.54655,     0.54755,     0.54855,     0.54955,     0.55055,     0.55155,\n",
      "           0.55255,     0.55355,     0.55455,     0.55556,     0.55656,     0.55756,     0.55856,     0.55956,     0.56056,     0.56156,     0.56256,     0.56356,     0.56456,     0.56557,     0.56657,     0.56757,     0.56857,     0.56957,     0.57057,     0.57157,     0.57257,     0.57357,     0.57457,     0.57558,\n",
      "           0.57658,     0.57758,     0.57858,     0.57958,     0.58058,     0.58158,     0.58258,     0.58358,     0.58458,     0.58559,     0.58659,     0.58759,     0.58859,     0.58959,     0.59059,     0.59159,     0.59259,     0.59359,     0.59459,      0.5956,      0.5966,      0.5976,      0.5986,      0.5996,\n",
      "            0.6006,      0.6016,      0.6026,      0.6036,      0.6046,     0.60561,     0.60661,     0.60761,     0.60861,     0.60961,     0.61061,     0.61161,     0.61261,     0.61361,     0.61461,     0.61562,     0.61662,     0.61762,     0.61862,     0.61962,     0.62062,     0.62162,     0.62262,     0.62362,\n",
      "           0.62462,     0.62563,     0.62663,     0.62763,     0.62863,     0.62963,     0.63063,     0.63163,     0.63263,     0.63363,     0.63463,     0.63564,     0.63664,     0.63764,     0.63864,     0.63964,     0.64064,     0.64164,     0.64264,     0.64364,     0.64464,     0.64565,     0.64665,     0.64765,\n",
      "           0.64865,     0.64965,     0.65065,     0.65165,     0.65265,     0.65365,     0.65465,     0.65566,     0.65666,     0.65766,     0.65866,     0.65966,     0.66066,     0.66166,     0.66266,     0.66366,     0.66466,     0.66567,     0.66667,     0.66767,     0.66867,     0.66967,     0.67067,     0.67167,\n",
      "           0.67267,     0.67367,     0.67467,     0.67568,     0.67668,     0.67768,     0.67868,     0.67968,     0.68068,     0.68168,     0.68268,     0.68368,     0.68468,     0.68569,     0.68669,     0.68769,     0.68869,     0.68969,     0.69069,     0.69169,     0.69269,     0.69369,     0.69469,      0.6957,\n",
      "            0.6967,      0.6977,      0.6987,      0.6997,      0.7007,      0.7017,      0.7027,      0.7037,      0.7047,     0.70571,     0.70671,     0.70771,     0.70871,     0.70971,     0.71071,     0.71171,     0.71271,     0.71371,     0.71471,     0.71572,     0.71672,     0.71772,     0.71872,     0.71972,\n",
      "           0.72072,     0.72172,     0.72272,     0.72372,     0.72472,     0.72573,     0.72673,     0.72773,     0.72873,     0.72973,     0.73073,     0.73173,     0.73273,     0.73373,     0.73473,     0.73574,     0.73674,     0.73774,     0.73874,     0.73974,     0.74074,     0.74174,     0.74274,     0.74374,\n",
      "           0.74474,     0.74575,     0.74675,     0.74775,     0.74875,     0.74975,     0.75075,     0.75175,     0.75275,     0.75375,     0.75475,     0.75576,     0.75676,     0.75776,     0.75876,     0.75976,     0.76076,     0.76176,     0.76276,     0.76376,     0.76476,     0.76577,     0.76677,     0.76777,\n",
      "           0.76877,     0.76977,     0.77077,     0.77177,     0.77277,     0.77377,     0.77477,     0.77578,     0.77678,     0.77778,     0.77878,     0.77978,     0.78078,     0.78178,     0.78278,     0.78378,     0.78478,     0.78579,     0.78679,     0.78779,     0.78879,     0.78979,     0.79079,     0.79179,\n",
      "           0.79279,     0.79379,     0.79479,      0.7958,      0.7968,      0.7978,      0.7988,      0.7998,      0.8008,      0.8018,      0.8028,      0.8038,      0.8048,     0.80581,     0.80681,     0.80781,     0.80881,     0.80981,     0.81081,     0.81181,     0.81281,     0.81381,     0.81481,     0.81582,\n",
      "           0.81682,     0.81782,     0.81882,     0.81982,     0.82082,     0.82182,     0.82282,     0.82382,     0.82482,     0.82583,     0.82683,     0.82783,     0.82883,     0.82983,     0.83083,     0.83183,     0.83283,     0.83383,     0.83483,     0.83584,     0.83684,     0.83784,     0.83884,     0.83984,\n",
      "           0.84084,     0.84184,     0.84284,     0.84384,     0.84484,     0.84585,     0.84685,     0.84785,     0.84885,     0.84985,     0.85085,     0.85185,     0.85285,     0.85385,     0.85485,     0.85586,     0.85686,     0.85786,     0.85886,     0.85986,     0.86086,     0.86186,     0.86286,     0.86386,\n",
      "           0.86486,     0.86587,     0.86687,     0.86787,     0.86887,     0.86987,     0.87087,     0.87187,     0.87287,     0.87387,     0.87487,     0.87588,     0.87688,     0.87788,     0.87888,     0.87988,     0.88088,     0.88188,     0.88288,     0.88388,     0.88488,     0.88589,     0.88689,     0.88789,\n",
      "           0.88889,     0.88989,     0.89089,     0.89189,     0.89289,     0.89389,     0.89489,      0.8959,      0.8969,      0.8979,      0.8989,      0.8999,      0.9009,      0.9019,      0.9029,      0.9039,      0.9049,     0.90591,     0.90691,     0.90791,     0.90891,     0.90991,     0.91091,     0.91191,\n",
      "           0.91291,     0.91391,     0.91491,     0.91592,     0.91692,     0.91792,     0.91892,     0.91992,     0.92092,     0.92192,     0.92292,     0.92392,     0.92492,     0.92593,     0.92693,     0.92793,     0.92893,     0.92993,     0.93093,     0.93193,     0.93293,     0.93393,     0.93493,     0.93594,\n",
      "           0.93694,     0.93794,     0.93894,     0.93994,     0.94094,     0.94194,     0.94294,     0.94394,     0.94494,     0.94595,     0.94695,     0.94795,     0.94895,     0.94995,     0.95095,     0.95195,     0.95295,     0.95395,     0.95495,     0.95596,     0.95696,     0.95796,     0.95896,     0.95996,\n",
      "           0.96096,     0.96196,     0.96296,     0.96396,     0.96496,     0.96597,     0.96697,     0.96797,     0.96897,     0.96997,     0.97097,     0.97197,     0.97297,     0.97397,     0.97497,     0.97598,     0.97698,     0.97798,     0.97898,     0.97998,     0.98098,     0.98198,     0.98298,     0.98398,\n",
      "           0.98498,     0.98599,     0.98699,     0.98799,     0.98899,     0.98999,     0.99099,     0.99199,     0.99299,     0.99399,     0.99499,       0.996,       0.997,       0.998,       0.999,           1]), array([[          1,           1,           1, ...,     0.13976,     0.13976,           0],\n",
      "       [          1,           1,           1, ...,    0.044571,    0.044571,           0],\n",
      "       [          1,           1,           1, ...,     0.88971,     0.88971,           0],\n",
      "       ...,\n",
      "       [    0.66667,     0.66667,     0.66667, ...,     0.30769,     0.30769,           0],\n",
      "       [          1,           1,           1, ...,     0.39516,     0.39516,           0],\n",
      "       [          1,           1,           1, ...,     0.39024,     0.39024,           0]]), 'Recall', 'Precision'], [array([          0,    0.001001,    0.002002,    0.003003,    0.004004,    0.005005,    0.006006,    0.007007,    0.008008,    0.009009,     0.01001,    0.011011,    0.012012,    0.013013,    0.014014,    0.015015,    0.016016,    0.017017,    0.018018,    0.019019,     0.02002,    0.021021,    0.022022,    0.023023,\n",
      "          0.024024,    0.025025,    0.026026,    0.027027,    0.028028,    0.029029,     0.03003,    0.031031,    0.032032,    0.033033,    0.034034,    0.035035,    0.036036,    0.037037,    0.038038,    0.039039,     0.04004,    0.041041,    0.042042,    0.043043,    0.044044,    0.045045,    0.046046,    0.047047,\n",
      "          0.048048,    0.049049,     0.05005,    0.051051,    0.052052,    0.053053,    0.054054,    0.055055,    0.056056,    0.057057,    0.058058,    0.059059,     0.06006,    0.061061,    0.062062,    0.063063,    0.064064,    0.065065,    0.066066,    0.067067,    0.068068,    0.069069,     0.07007,    0.071071,\n",
      "          0.072072,    0.073073,    0.074074,    0.075075,    0.076076,    0.077077,    0.078078,    0.079079,     0.08008,    0.081081,    0.082082,    0.083083,    0.084084,    0.085085,    0.086086,    0.087087,    0.088088,    0.089089,     0.09009,    0.091091,    0.092092,    0.093093,    0.094094,    0.095095,\n",
      "          0.096096,    0.097097,    0.098098,    0.099099,      0.1001,      0.1011,      0.1021,      0.1031,      0.1041,     0.10511,     0.10611,     0.10711,     0.10811,     0.10911,     0.11011,     0.11111,     0.11211,     0.11311,     0.11411,     0.11512,     0.11612,     0.11712,     0.11812,     0.11912,\n",
      "           0.12012,     0.12112,     0.12212,     0.12312,     0.12412,     0.12513,     0.12613,     0.12713,     0.12813,     0.12913,     0.13013,     0.13113,     0.13213,     0.13313,     0.13413,     0.13514,     0.13614,     0.13714,     0.13814,     0.13914,     0.14014,     0.14114,     0.14214,     0.14314,\n",
      "           0.14414,     0.14515,     0.14615,     0.14715,     0.14815,     0.14915,     0.15015,     0.15115,     0.15215,     0.15315,     0.15415,     0.15516,     0.15616,     0.15716,     0.15816,     0.15916,     0.16016,     0.16116,     0.16216,     0.16316,     0.16416,     0.16517,     0.16617,     0.16717,\n",
      "           0.16817,     0.16917,     0.17017,     0.17117,     0.17217,     0.17317,     0.17417,     0.17518,     0.17618,     0.17718,     0.17818,     0.17918,     0.18018,     0.18118,     0.18218,     0.18318,     0.18418,     0.18519,     0.18619,     0.18719,     0.18819,     0.18919,     0.19019,     0.19119,\n",
      "           0.19219,     0.19319,     0.19419,      0.1952,      0.1962,      0.1972,      0.1982,      0.1992,      0.2002,      0.2012,      0.2022,      0.2032,      0.2042,     0.20521,     0.20621,     0.20721,     0.20821,     0.20921,     0.21021,     0.21121,     0.21221,     0.21321,     0.21421,     0.21522,\n",
      "           0.21622,     0.21722,     0.21822,     0.21922,     0.22022,     0.22122,     0.22222,     0.22322,     0.22422,     0.22523,     0.22623,     0.22723,     0.22823,     0.22923,     0.23023,     0.23123,     0.23223,     0.23323,     0.23423,     0.23524,     0.23624,     0.23724,     0.23824,     0.23924,\n",
      "           0.24024,     0.24124,     0.24224,     0.24324,     0.24424,     0.24525,     0.24625,     0.24725,     0.24825,     0.24925,     0.25025,     0.25125,     0.25225,     0.25325,     0.25425,     0.25526,     0.25626,     0.25726,     0.25826,     0.25926,     0.26026,     0.26126,     0.26226,     0.26326,\n",
      "           0.26426,     0.26527,     0.26627,     0.26727,     0.26827,     0.26927,     0.27027,     0.27127,     0.27227,     0.27327,     0.27427,     0.27528,     0.27628,     0.27728,     0.27828,     0.27928,     0.28028,     0.28128,     0.28228,     0.28328,     0.28428,     0.28529,     0.28629,     0.28729,\n",
      "           0.28829,     0.28929,     0.29029,     0.29129,     0.29229,     0.29329,     0.29429,      0.2953,      0.2963,      0.2973,      0.2983,      0.2993,      0.3003,      0.3013,      0.3023,      0.3033,      0.3043,     0.30531,     0.30631,     0.30731,     0.30831,     0.30931,     0.31031,     0.31131,\n",
      "           0.31231,     0.31331,     0.31431,     0.31532,     0.31632,     0.31732,     0.31832,     0.31932,     0.32032,     0.32132,     0.32232,     0.32332,     0.32432,     0.32533,     0.32633,     0.32733,     0.32833,     0.32933,     0.33033,     0.33133,     0.33233,     0.33333,     0.33433,     0.33534,\n",
      "           0.33634,     0.33734,     0.33834,     0.33934,     0.34034,     0.34134,     0.34234,     0.34334,     0.34434,     0.34535,     0.34635,     0.34735,     0.34835,     0.34935,     0.35035,     0.35135,     0.35235,     0.35335,     0.35435,     0.35536,     0.35636,     0.35736,     0.35836,     0.35936,\n",
      "           0.36036,     0.36136,     0.36236,     0.36336,     0.36436,     0.36537,     0.36637,     0.36737,     0.36837,     0.36937,     0.37037,     0.37137,     0.37237,     0.37337,     0.37437,     0.37538,     0.37638,     0.37738,     0.37838,     0.37938,     0.38038,     0.38138,     0.38238,     0.38338,\n",
      "           0.38438,     0.38539,     0.38639,     0.38739,     0.38839,     0.38939,     0.39039,     0.39139,     0.39239,     0.39339,     0.39439,      0.3954,      0.3964,      0.3974,      0.3984,      0.3994,      0.4004,      0.4014,      0.4024,      0.4034,      0.4044,     0.40541,     0.40641,     0.40741,\n",
      "           0.40841,     0.40941,     0.41041,     0.41141,     0.41241,     0.41341,     0.41441,     0.41542,     0.41642,     0.41742,     0.41842,     0.41942,     0.42042,     0.42142,     0.42242,     0.42342,     0.42442,     0.42543,     0.42643,     0.42743,     0.42843,     0.42943,     0.43043,     0.43143,\n",
      "           0.43243,     0.43343,     0.43443,     0.43544,     0.43644,     0.43744,     0.43844,     0.43944,     0.44044,     0.44144,     0.44244,     0.44344,     0.44444,     0.44545,     0.44645,     0.44745,     0.44845,     0.44945,     0.45045,     0.45145,     0.45245,     0.45345,     0.45445,     0.45546,\n",
      "           0.45646,     0.45746,     0.45846,     0.45946,     0.46046,     0.46146,     0.46246,     0.46346,     0.46446,     0.46547,     0.46647,     0.46747,     0.46847,     0.46947,     0.47047,     0.47147,     0.47247,     0.47347,     0.47447,     0.47548,     0.47648,     0.47748,     0.47848,     0.47948,\n",
      "           0.48048,     0.48148,     0.48248,     0.48348,     0.48448,     0.48549,     0.48649,     0.48749,     0.48849,     0.48949,     0.49049,     0.49149,     0.49249,     0.49349,     0.49449,      0.4955,      0.4965,      0.4975,      0.4985,      0.4995,      0.5005,      0.5015,      0.5025,      0.5035,\n",
      "            0.5045,     0.50551,     0.50651,     0.50751,     0.50851,     0.50951,     0.51051,     0.51151,     0.51251,     0.51351,     0.51451,     0.51552,     0.51652,     0.51752,     0.51852,     0.51952,     0.52052,     0.52152,     0.52252,     0.52352,     0.52452,     0.52553,     0.52653,     0.52753,\n",
      "           0.52853,     0.52953,     0.53053,     0.53153,     0.53253,     0.53353,     0.53453,     0.53554,     0.53654,     0.53754,     0.53854,     0.53954,     0.54054,     0.54154,     0.54254,     0.54354,     0.54454,     0.54555,     0.54655,     0.54755,     0.54855,     0.54955,     0.55055,     0.55155,\n",
      "           0.55255,     0.55355,     0.55455,     0.55556,     0.55656,     0.55756,     0.55856,     0.55956,     0.56056,     0.56156,     0.56256,     0.56356,     0.56456,     0.56557,     0.56657,     0.56757,     0.56857,     0.56957,     0.57057,     0.57157,     0.57257,     0.57357,     0.57457,     0.57558,\n",
      "           0.57658,     0.57758,     0.57858,     0.57958,     0.58058,     0.58158,     0.58258,     0.58358,     0.58458,     0.58559,     0.58659,     0.58759,     0.58859,     0.58959,     0.59059,     0.59159,     0.59259,     0.59359,     0.59459,      0.5956,      0.5966,      0.5976,      0.5986,      0.5996,\n",
      "            0.6006,      0.6016,      0.6026,      0.6036,      0.6046,     0.60561,     0.60661,     0.60761,     0.60861,     0.60961,     0.61061,     0.61161,     0.61261,     0.61361,     0.61461,     0.61562,     0.61662,     0.61762,     0.61862,     0.61962,     0.62062,     0.62162,     0.62262,     0.62362,\n",
      "           0.62462,     0.62563,     0.62663,     0.62763,     0.62863,     0.62963,     0.63063,     0.63163,     0.63263,     0.63363,     0.63463,     0.63564,     0.63664,     0.63764,     0.63864,     0.63964,     0.64064,     0.64164,     0.64264,     0.64364,     0.64464,     0.64565,     0.64665,     0.64765,\n",
      "           0.64865,     0.64965,     0.65065,     0.65165,     0.65265,     0.65365,     0.65465,     0.65566,     0.65666,     0.65766,     0.65866,     0.65966,     0.66066,     0.66166,     0.66266,     0.66366,     0.66466,     0.66567,     0.66667,     0.66767,     0.66867,     0.66967,     0.67067,     0.67167,\n",
      "           0.67267,     0.67367,     0.67467,     0.67568,     0.67668,     0.67768,     0.67868,     0.67968,     0.68068,     0.68168,     0.68268,     0.68368,     0.68468,     0.68569,     0.68669,     0.68769,     0.68869,     0.68969,     0.69069,     0.69169,     0.69269,     0.69369,     0.69469,      0.6957,\n",
      "            0.6967,      0.6977,      0.6987,      0.6997,      0.7007,      0.7017,      0.7027,      0.7037,      0.7047,     0.70571,     0.70671,     0.70771,     0.70871,     0.70971,     0.71071,     0.71171,     0.71271,     0.71371,     0.71471,     0.71572,     0.71672,     0.71772,     0.71872,     0.71972,\n",
      "           0.72072,     0.72172,     0.72272,     0.72372,     0.72472,     0.72573,     0.72673,     0.72773,     0.72873,     0.72973,     0.73073,     0.73173,     0.73273,     0.73373,     0.73473,     0.73574,     0.73674,     0.73774,     0.73874,     0.73974,     0.74074,     0.74174,     0.74274,     0.74374,\n",
      "           0.74474,     0.74575,     0.74675,     0.74775,     0.74875,     0.74975,     0.75075,     0.75175,     0.75275,     0.75375,     0.75475,     0.75576,     0.75676,     0.75776,     0.75876,     0.75976,     0.76076,     0.76176,     0.76276,     0.76376,     0.76476,     0.76577,     0.76677,     0.76777,\n",
      "           0.76877,     0.76977,     0.77077,     0.77177,     0.77277,     0.77377,     0.77477,     0.77578,     0.77678,     0.77778,     0.77878,     0.77978,     0.78078,     0.78178,     0.78278,     0.78378,     0.78478,     0.78579,     0.78679,     0.78779,     0.78879,     0.78979,     0.79079,     0.79179,\n",
      "           0.79279,     0.79379,     0.79479,      0.7958,      0.7968,      0.7978,      0.7988,      0.7998,      0.8008,      0.8018,      0.8028,      0.8038,      0.8048,     0.80581,     0.80681,     0.80781,     0.80881,     0.80981,     0.81081,     0.81181,     0.81281,     0.81381,     0.81481,     0.81582,\n",
      "           0.81682,     0.81782,     0.81882,     0.81982,     0.82082,     0.82182,     0.82282,     0.82382,     0.82482,     0.82583,     0.82683,     0.82783,     0.82883,     0.82983,     0.83083,     0.83183,     0.83283,     0.83383,     0.83483,     0.83584,     0.83684,     0.83784,     0.83884,     0.83984,\n",
      "           0.84084,     0.84184,     0.84284,     0.84384,     0.84484,     0.84585,     0.84685,     0.84785,     0.84885,     0.84985,     0.85085,     0.85185,     0.85285,     0.85385,     0.85485,     0.85586,     0.85686,     0.85786,     0.85886,     0.85986,     0.86086,     0.86186,     0.86286,     0.86386,\n",
      "           0.86486,     0.86587,     0.86687,     0.86787,     0.86887,     0.86987,     0.87087,     0.87187,     0.87287,     0.87387,     0.87487,     0.87588,     0.87688,     0.87788,     0.87888,     0.87988,     0.88088,     0.88188,     0.88288,     0.88388,     0.88488,     0.88589,     0.88689,     0.88789,\n",
      "           0.88889,     0.88989,     0.89089,     0.89189,     0.89289,     0.89389,     0.89489,      0.8959,      0.8969,      0.8979,      0.8989,      0.8999,      0.9009,      0.9019,      0.9029,      0.9039,      0.9049,     0.90591,     0.90691,     0.90791,     0.90891,     0.90991,     0.91091,     0.91191,\n",
      "           0.91291,     0.91391,     0.91491,     0.91592,     0.91692,     0.91792,     0.91892,     0.91992,     0.92092,     0.92192,     0.92292,     0.92392,     0.92492,     0.92593,     0.92693,     0.92793,     0.92893,     0.92993,     0.93093,     0.93193,     0.93293,     0.93393,     0.93493,     0.93594,\n",
      "           0.93694,     0.93794,     0.93894,     0.93994,     0.94094,     0.94194,     0.94294,     0.94394,     0.94494,     0.94595,     0.94695,     0.94795,     0.94895,     0.94995,     0.95095,     0.95195,     0.95295,     0.95395,     0.95495,     0.95596,     0.95696,     0.95796,     0.95896,     0.95996,\n",
      "           0.96096,     0.96196,     0.96296,     0.96396,     0.96496,     0.96597,     0.96697,     0.96797,     0.96897,     0.96997,     0.97097,     0.97197,     0.97297,     0.97397,     0.97497,     0.97598,     0.97698,     0.97798,     0.97898,     0.97998,     0.98098,     0.98198,     0.98298,     0.98398,\n",
      "           0.98498,     0.98599,     0.98699,     0.98799,     0.98899,     0.98999,     0.99099,     0.99199,     0.99299,     0.99399,     0.99499,       0.996,       0.997,       0.998,       0.999,           1]), array([[   0.060988,    0.061009,     0.07791, ...,           0,           0,           0],\n",
      "       [   0.053089,    0.053089,    0.064697, ...,     0.14746,     0.11231,           0],\n",
      "       [    0.14219,     0.14219,     0.17575, ...,     0.33498,     0.29613,           0],\n",
      "       ...,\n",
      "       [   0.039254,    0.039254,     0.05261, ...,           0,           0,           0],\n",
      "       [   0.062341,    0.062356,    0.080611, ...,           0,           0,           0],\n",
      "       [    0.04129,     0.04129,    0.057057, ...,     0.54149,     0.54355,           0]]), 'Confidence', 'F1'], [array([          0,    0.001001,    0.002002,    0.003003,    0.004004,    0.005005,    0.006006,    0.007007,    0.008008,    0.009009,     0.01001,    0.011011,    0.012012,    0.013013,    0.014014,    0.015015,    0.016016,    0.017017,    0.018018,    0.019019,     0.02002,    0.021021,    0.022022,    0.023023,\n",
      "          0.024024,    0.025025,    0.026026,    0.027027,    0.028028,    0.029029,     0.03003,    0.031031,    0.032032,    0.033033,    0.034034,    0.035035,    0.036036,    0.037037,    0.038038,    0.039039,     0.04004,    0.041041,    0.042042,    0.043043,    0.044044,    0.045045,    0.046046,    0.047047,\n",
      "          0.048048,    0.049049,     0.05005,    0.051051,    0.052052,    0.053053,    0.054054,    0.055055,    0.056056,    0.057057,    0.058058,    0.059059,     0.06006,    0.061061,    0.062062,    0.063063,    0.064064,    0.065065,    0.066066,    0.067067,    0.068068,    0.069069,     0.07007,    0.071071,\n",
      "          0.072072,    0.073073,    0.074074,    0.075075,    0.076076,    0.077077,    0.078078,    0.079079,     0.08008,    0.081081,    0.082082,    0.083083,    0.084084,    0.085085,    0.086086,    0.087087,    0.088088,    0.089089,     0.09009,    0.091091,    0.092092,    0.093093,    0.094094,    0.095095,\n",
      "          0.096096,    0.097097,    0.098098,    0.099099,      0.1001,      0.1011,      0.1021,      0.1031,      0.1041,     0.10511,     0.10611,     0.10711,     0.10811,     0.10911,     0.11011,     0.11111,     0.11211,     0.11311,     0.11411,     0.11512,     0.11612,     0.11712,     0.11812,     0.11912,\n",
      "           0.12012,     0.12112,     0.12212,     0.12312,     0.12412,     0.12513,     0.12613,     0.12713,     0.12813,     0.12913,     0.13013,     0.13113,     0.13213,     0.13313,     0.13413,     0.13514,     0.13614,     0.13714,     0.13814,     0.13914,     0.14014,     0.14114,     0.14214,     0.14314,\n",
      "           0.14414,     0.14515,     0.14615,     0.14715,     0.14815,     0.14915,     0.15015,     0.15115,     0.15215,     0.15315,     0.15415,     0.15516,     0.15616,     0.15716,     0.15816,     0.15916,     0.16016,     0.16116,     0.16216,     0.16316,     0.16416,     0.16517,     0.16617,     0.16717,\n",
      "           0.16817,     0.16917,     0.17017,     0.17117,     0.17217,     0.17317,     0.17417,     0.17518,     0.17618,     0.17718,     0.17818,     0.17918,     0.18018,     0.18118,     0.18218,     0.18318,     0.18418,     0.18519,     0.18619,     0.18719,     0.18819,     0.18919,     0.19019,     0.19119,\n",
      "           0.19219,     0.19319,     0.19419,      0.1952,      0.1962,      0.1972,      0.1982,      0.1992,      0.2002,      0.2012,      0.2022,      0.2032,      0.2042,     0.20521,     0.20621,     0.20721,     0.20821,     0.20921,     0.21021,     0.21121,     0.21221,     0.21321,     0.21421,     0.21522,\n",
      "           0.21622,     0.21722,     0.21822,     0.21922,     0.22022,     0.22122,     0.22222,     0.22322,     0.22422,     0.22523,     0.22623,     0.22723,     0.22823,     0.22923,     0.23023,     0.23123,     0.23223,     0.23323,     0.23423,     0.23524,     0.23624,     0.23724,     0.23824,     0.23924,\n",
      "           0.24024,     0.24124,     0.24224,     0.24324,     0.24424,     0.24525,     0.24625,     0.24725,     0.24825,     0.24925,     0.25025,     0.25125,     0.25225,     0.25325,     0.25425,     0.25526,     0.25626,     0.25726,     0.25826,     0.25926,     0.26026,     0.26126,     0.26226,     0.26326,\n",
      "           0.26426,     0.26527,     0.26627,     0.26727,     0.26827,     0.26927,     0.27027,     0.27127,     0.27227,     0.27327,     0.27427,     0.27528,     0.27628,     0.27728,     0.27828,     0.27928,     0.28028,     0.28128,     0.28228,     0.28328,     0.28428,     0.28529,     0.28629,     0.28729,\n",
      "           0.28829,     0.28929,     0.29029,     0.29129,     0.29229,     0.29329,     0.29429,      0.2953,      0.2963,      0.2973,      0.2983,      0.2993,      0.3003,      0.3013,      0.3023,      0.3033,      0.3043,     0.30531,     0.30631,     0.30731,     0.30831,     0.30931,     0.31031,     0.31131,\n",
      "           0.31231,     0.31331,     0.31431,     0.31532,     0.31632,     0.31732,     0.31832,     0.31932,     0.32032,     0.32132,     0.32232,     0.32332,     0.32432,     0.32533,     0.32633,     0.32733,     0.32833,     0.32933,     0.33033,     0.33133,     0.33233,     0.33333,     0.33433,     0.33534,\n",
      "           0.33634,     0.33734,     0.33834,     0.33934,     0.34034,     0.34134,     0.34234,     0.34334,     0.34434,     0.34535,     0.34635,     0.34735,     0.34835,     0.34935,     0.35035,     0.35135,     0.35235,     0.35335,     0.35435,     0.35536,     0.35636,     0.35736,     0.35836,     0.35936,\n",
      "           0.36036,     0.36136,     0.36236,     0.36336,     0.36436,     0.36537,     0.36637,     0.36737,     0.36837,     0.36937,     0.37037,     0.37137,     0.37237,     0.37337,     0.37437,     0.37538,     0.37638,     0.37738,     0.37838,     0.37938,     0.38038,     0.38138,     0.38238,     0.38338,\n",
      "           0.38438,     0.38539,     0.38639,     0.38739,     0.38839,     0.38939,     0.39039,     0.39139,     0.39239,     0.39339,     0.39439,      0.3954,      0.3964,      0.3974,      0.3984,      0.3994,      0.4004,      0.4014,      0.4024,      0.4034,      0.4044,     0.40541,     0.40641,     0.40741,\n",
      "           0.40841,     0.40941,     0.41041,     0.41141,     0.41241,     0.41341,     0.41441,     0.41542,     0.41642,     0.41742,     0.41842,     0.41942,     0.42042,     0.42142,     0.42242,     0.42342,     0.42442,     0.42543,     0.42643,     0.42743,     0.42843,     0.42943,     0.43043,     0.43143,\n",
      "           0.43243,     0.43343,     0.43443,     0.43544,     0.43644,     0.43744,     0.43844,     0.43944,     0.44044,     0.44144,     0.44244,     0.44344,     0.44444,     0.44545,     0.44645,     0.44745,     0.44845,     0.44945,     0.45045,     0.45145,     0.45245,     0.45345,     0.45445,     0.45546,\n",
      "           0.45646,     0.45746,     0.45846,     0.45946,     0.46046,     0.46146,     0.46246,     0.46346,     0.46446,     0.46547,     0.46647,     0.46747,     0.46847,     0.46947,     0.47047,     0.47147,     0.47247,     0.47347,     0.47447,     0.47548,     0.47648,     0.47748,     0.47848,     0.47948,\n",
      "           0.48048,     0.48148,     0.48248,     0.48348,     0.48448,     0.48549,     0.48649,     0.48749,     0.48849,     0.48949,     0.49049,     0.49149,     0.49249,     0.49349,     0.49449,      0.4955,      0.4965,      0.4975,      0.4985,      0.4995,      0.5005,      0.5015,      0.5025,      0.5035,\n",
      "            0.5045,     0.50551,     0.50651,     0.50751,     0.50851,     0.50951,     0.51051,     0.51151,     0.51251,     0.51351,     0.51451,     0.51552,     0.51652,     0.51752,     0.51852,     0.51952,     0.52052,     0.52152,     0.52252,     0.52352,     0.52452,     0.52553,     0.52653,     0.52753,\n",
      "           0.52853,     0.52953,     0.53053,     0.53153,     0.53253,     0.53353,     0.53453,     0.53554,     0.53654,     0.53754,     0.53854,     0.53954,     0.54054,     0.54154,     0.54254,     0.54354,     0.54454,     0.54555,     0.54655,     0.54755,     0.54855,     0.54955,     0.55055,     0.55155,\n",
      "           0.55255,     0.55355,     0.55455,     0.55556,     0.55656,     0.55756,     0.55856,     0.55956,     0.56056,     0.56156,     0.56256,     0.56356,     0.56456,     0.56557,     0.56657,     0.56757,     0.56857,     0.56957,     0.57057,     0.57157,     0.57257,     0.57357,     0.57457,     0.57558,\n",
      "           0.57658,     0.57758,     0.57858,     0.57958,     0.58058,     0.58158,     0.58258,     0.58358,     0.58458,     0.58559,     0.58659,     0.58759,     0.58859,     0.58959,     0.59059,     0.59159,     0.59259,     0.59359,     0.59459,      0.5956,      0.5966,      0.5976,      0.5986,      0.5996,\n",
      "            0.6006,      0.6016,      0.6026,      0.6036,      0.6046,     0.60561,     0.60661,     0.60761,     0.60861,     0.60961,     0.61061,     0.61161,     0.61261,     0.61361,     0.61461,     0.61562,     0.61662,     0.61762,     0.61862,     0.61962,     0.62062,     0.62162,     0.62262,     0.62362,\n",
      "           0.62462,     0.62563,     0.62663,     0.62763,     0.62863,     0.62963,     0.63063,     0.63163,     0.63263,     0.63363,     0.63463,     0.63564,     0.63664,     0.63764,     0.63864,     0.63964,     0.64064,     0.64164,     0.64264,     0.64364,     0.64464,     0.64565,     0.64665,     0.64765,\n",
      "           0.64865,     0.64965,     0.65065,     0.65165,     0.65265,     0.65365,     0.65465,     0.65566,     0.65666,     0.65766,     0.65866,     0.65966,     0.66066,     0.66166,     0.66266,     0.66366,     0.66466,     0.66567,     0.66667,     0.66767,     0.66867,     0.66967,     0.67067,     0.67167,\n",
      "           0.67267,     0.67367,     0.67467,     0.67568,     0.67668,     0.67768,     0.67868,     0.67968,     0.68068,     0.68168,     0.68268,     0.68368,     0.68468,     0.68569,     0.68669,     0.68769,     0.68869,     0.68969,     0.69069,     0.69169,     0.69269,     0.69369,     0.69469,      0.6957,\n",
      "            0.6967,      0.6977,      0.6987,      0.6997,      0.7007,      0.7017,      0.7027,      0.7037,      0.7047,     0.70571,     0.70671,     0.70771,     0.70871,     0.70971,     0.71071,     0.71171,     0.71271,     0.71371,     0.71471,     0.71572,     0.71672,     0.71772,     0.71872,     0.71972,\n",
      "           0.72072,     0.72172,     0.72272,     0.72372,     0.72472,     0.72573,     0.72673,     0.72773,     0.72873,     0.72973,     0.73073,     0.73173,     0.73273,     0.73373,     0.73473,     0.73574,     0.73674,     0.73774,     0.73874,     0.73974,     0.74074,     0.74174,     0.74274,     0.74374,\n",
      "           0.74474,     0.74575,     0.74675,     0.74775,     0.74875,     0.74975,     0.75075,     0.75175,     0.75275,     0.75375,     0.75475,     0.75576,     0.75676,     0.75776,     0.75876,     0.75976,     0.76076,     0.76176,     0.76276,     0.76376,     0.76476,     0.76577,     0.76677,     0.76777,\n",
      "           0.76877,     0.76977,     0.77077,     0.77177,     0.77277,     0.77377,     0.77477,     0.77578,     0.77678,     0.77778,     0.77878,     0.77978,     0.78078,     0.78178,     0.78278,     0.78378,     0.78478,     0.78579,     0.78679,     0.78779,     0.78879,     0.78979,     0.79079,     0.79179,\n",
      "           0.79279,     0.79379,     0.79479,      0.7958,      0.7968,      0.7978,      0.7988,      0.7998,      0.8008,      0.8018,      0.8028,      0.8038,      0.8048,     0.80581,     0.80681,     0.80781,     0.80881,     0.80981,     0.81081,     0.81181,     0.81281,     0.81381,     0.81481,     0.81582,\n",
      "           0.81682,     0.81782,     0.81882,     0.81982,     0.82082,     0.82182,     0.82282,     0.82382,     0.82482,     0.82583,     0.82683,     0.82783,     0.82883,     0.82983,     0.83083,     0.83183,     0.83283,     0.83383,     0.83483,     0.83584,     0.83684,     0.83784,     0.83884,     0.83984,\n",
      "           0.84084,     0.84184,     0.84284,     0.84384,     0.84484,     0.84585,     0.84685,     0.84785,     0.84885,     0.84985,     0.85085,     0.85185,     0.85285,     0.85385,     0.85485,     0.85586,     0.85686,     0.85786,     0.85886,     0.85986,     0.86086,     0.86186,     0.86286,     0.86386,\n",
      "           0.86486,     0.86587,     0.86687,     0.86787,     0.86887,     0.86987,     0.87087,     0.87187,     0.87287,     0.87387,     0.87487,     0.87588,     0.87688,     0.87788,     0.87888,     0.87988,     0.88088,     0.88188,     0.88288,     0.88388,     0.88488,     0.88589,     0.88689,     0.88789,\n",
      "           0.88889,     0.88989,     0.89089,     0.89189,     0.89289,     0.89389,     0.89489,      0.8959,      0.8969,      0.8979,      0.8989,      0.8999,      0.9009,      0.9019,      0.9029,      0.9039,      0.9049,     0.90591,     0.90691,     0.90791,     0.90891,     0.90991,     0.91091,     0.91191,\n",
      "           0.91291,     0.91391,     0.91491,     0.91592,     0.91692,     0.91792,     0.91892,     0.91992,     0.92092,     0.92192,     0.92292,     0.92392,     0.92492,     0.92593,     0.92693,     0.92793,     0.92893,     0.92993,     0.93093,     0.93193,     0.93293,     0.93393,     0.93493,     0.93594,\n",
      "           0.93694,     0.93794,     0.93894,     0.93994,     0.94094,     0.94194,     0.94294,     0.94394,     0.94494,     0.94595,     0.94695,     0.94795,     0.94895,     0.94995,     0.95095,     0.95195,     0.95295,     0.95395,     0.95495,     0.95596,     0.95696,     0.95796,     0.95896,     0.95996,\n",
      "           0.96096,     0.96196,     0.96296,     0.96396,     0.96496,     0.96597,     0.96697,     0.96797,     0.96897,     0.96997,     0.97097,     0.97197,     0.97297,     0.97397,     0.97497,     0.97598,     0.97698,     0.97798,     0.97898,     0.97998,     0.98098,     0.98198,     0.98298,     0.98398,\n",
      "           0.98498,     0.98599,     0.98699,     0.98799,     0.98899,     0.98999,     0.99099,     0.99199,     0.99299,     0.99399,     0.99499,       0.996,       0.997,       0.998,       0.999,           1]), array([[   0.031453,    0.031464,    0.040534, ...,           1,           1,           1],\n",
      "       [   0.027268,    0.027268,     0.03343, ...,           1,           1,           1],\n",
      "       [   0.076534,    0.076534,    0.096339, ...,           1,           1,           1],\n",
      "       ...,\n",
      "       [    0.02002,     0.02002,    0.027016, ...,           1,           1,           1],\n",
      "       [   0.032173,    0.032181,    0.041998, ...,           1,           1,           1],\n",
      "       [    0.02108,     0.02108,    0.029366, ...,     0.97385,     0.98731,           1]]), 'Confidence', 'Precision'], [array([          0,    0.001001,    0.002002,    0.003003,    0.004004,    0.005005,    0.006006,    0.007007,    0.008008,    0.009009,     0.01001,    0.011011,    0.012012,    0.013013,    0.014014,    0.015015,    0.016016,    0.017017,    0.018018,    0.019019,     0.02002,    0.021021,    0.022022,    0.023023,\n",
      "          0.024024,    0.025025,    0.026026,    0.027027,    0.028028,    0.029029,     0.03003,    0.031031,    0.032032,    0.033033,    0.034034,    0.035035,    0.036036,    0.037037,    0.038038,    0.039039,     0.04004,    0.041041,    0.042042,    0.043043,    0.044044,    0.045045,    0.046046,    0.047047,\n",
      "          0.048048,    0.049049,     0.05005,    0.051051,    0.052052,    0.053053,    0.054054,    0.055055,    0.056056,    0.057057,    0.058058,    0.059059,     0.06006,    0.061061,    0.062062,    0.063063,    0.064064,    0.065065,    0.066066,    0.067067,    0.068068,    0.069069,     0.07007,    0.071071,\n",
      "          0.072072,    0.073073,    0.074074,    0.075075,    0.076076,    0.077077,    0.078078,    0.079079,     0.08008,    0.081081,    0.082082,    0.083083,    0.084084,    0.085085,    0.086086,    0.087087,    0.088088,    0.089089,     0.09009,    0.091091,    0.092092,    0.093093,    0.094094,    0.095095,\n",
      "          0.096096,    0.097097,    0.098098,    0.099099,      0.1001,      0.1011,      0.1021,      0.1031,      0.1041,     0.10511,     0.10611,     0.10711,     0.10811,     0.10911,     0.11011,     0.11111,     0.11211,     0.11311,     0.11411,     0.11512,     0.11612,     0.11712,     0.11812,     0.11912,\n",
      "           0.12012,     0.12112,     0.12212,     0.12312,     0.12412,     0.12513,     0.12613,     0.12713,     0.12813,     0.12913,     0.13013,     0.13113,     0.13213,     0.13313,     0.13413,     0.13514,     0.13614,     0.13714,     0.13814,     0.13914,     0.14014,     0.14114,     0.14214,     0.14314,\n",
      "           0.14414,     0.14515,     0.14615,     0.14715,     0.14815,     0.14915,     0.15015,     0.15115,     0.15215,     0.15315,     0.15415,     0.15516,     0.15616,     0.15716,     0.15816,     0.15916,     0.16016,     0.16116,     0.16216,     0.16316,     0.16416,     0.16517,     0.16617,     0.16717,\n",
      "           0.16817,     0.16917,     0.17017,     0.17117,     0.17217,     0.17317,     0.17417,     0.17518,     0.17618,     0.17718,     0.17818,     0.17918,     0.18018,     0.18118,     0.18218,     0.18318,     0.18418,     0.18519,     0.18619,     0.18719,     0.18819,     0.18919,     0.19019,     0.19119,\n",
      "           0.19219,     0.19319,     0.19419,      0.1952,      0.1962,      0.1972,      0.1982,      0.1992,      0.2002,      0.2012,      0.2022,      0.2032,      0.2042,     0.20521,     0.20621,     0.20721,     0.20821,     0.20921,     0.21021,     0.21121,     0.21221,     0.21321,     0.21421,     0.21522,\n",
      "           0.21622,     0.21722,     0.21822,     0.21922,     0.22022,     0.22122,     0.22222,     0.22322,     0.22422,     0.22523,     0.22623,     0.22723,     0.22823,     0.22923,     0.23023,     0.23123,     0.23223,     0.23323,     0.23423,     0.23524,     0.23624,     0.23724,     0.23824,     0.23924,\n",
      "           0.24024,     0.24124,     0.24224,     0.24324,     0.24424,     0.24525,     0.24625,     0.24725,     0.24825,     0.24925,     0.25025,     0.25125,     0.25225,     0.25325,     0.25425,     0.25526,     0.25626,     0.25726,     0.25826,     0.25926,     0.26026,     0.26126,     0.26226,     0.26326,\n",
      "           0.26426,     0.26527,     0.26627,     0.26727,     0.26827,     0.26927,     0.27027,     0.27127,     0.27227,     0.27327,     0.27427,     0.27528,     0.27628,     0.27728,     0.27828,     0.27928,     0.28028,     0.28128,     0.28228,     0.28328,     0.28428,     0.28529,     0.28629,     0.28729,\n",
      "           0.28829,     0.28929,     0.29029,     0.29129,     0.29229,     0.29329,     0.29429,      0.2953,      0.2963,      0.2973,      0.2983,      0.2993,      0.3003,      0.3013,      0.3023,      0.3033,      0.3043,     0.30531,     0.30631,     0.30731,     0.30831,     0.30931,     0.31031,     0.31131,\n",
      "           0.31231,     0.31331,     0.31431,     0.31532,     0.31632,     0.31732,     0.31832,     0.31932,     0.32032,     0.32132,     0.32232,     0.32332,     0.32432,     0.32533,     0.32633,     0.32733,     0.32833,     0.32933,     0.33033,     0.33133,     0.33233,     0.33333,     0.33433,     0.33534,\n",
      "           0.33634,     0.33734,     0.33834,     0.33934,     0.34034,     0.34134,     0.34234,     0.34334,     0.34434,     0.34535,     0.34635,     0.34735,     0.34835,     0.34935,     0.35035,     0.35135,     0.35235,     0.35335,     0.35435,     0.35536,     0.35636,     0.35736,     0.35836,     0.35936,\n",
      "           0.36036,     0.36136,     0.36236,     0.36336,     0.36436,     0.36537,     0.36637,     0.36737,     0.36837,     0.36937,     0.37037,     0.37137,     0.37237,     0.37337,     0.37437,     0.37538,     0.37638,     0.37738,     0.37838,     0.37938,     0.38038,     0.38138,     0.38238,     0.38338,\n",
      "           0.38438,     0.38539,     0.38639,     0.38739,     0.38839,     0.38939,     0.39039,     0.39139,     0.39239,     0.39339,     0.39439,      0.3954,      0.3964,      0.3974,      0.3984,      0.3994,      0.4004,      0.4014,      0.4024,      0.4034,      0.4044,     0.40541,     0.40641,     0.40741,\n",
      "           0.40841,     0.40941,     0.41041,     0.41141,     0.41241,     0.41341,     0.41441,     0.41542,     0.41642,     0.41742,     0.41842,     0.41942,     0.42042,     0.42142,     0.42242,     0.42342,     0.42442,     0.42543,     0.42643,     0.42743,     0.42843,     0.42943,     0.43043,     0.43143,\n",
      "           0.43243,     0.43343,     0.43443,     0.43544,     0.43644,     0.43744,     0.43844,     0.43944,     0.44044,     0.44144,     0.44244,     0.44344,     0.44444,     0.44545,     0.44645,     0.44745,     0.44845,     0.44945,     0.45045,     0.45145,     0.45245,     0.45345,     0.45445,     0.45546,\n",
      "           0.45646,     0.45746,     0.45846,     0.45946,     0.46046,     0.46146,     0.46246,     0.46346,     0.46446,     0.46547,     0.46647,     0.46747,     0.46847,     0.46947,     0.47047,     0.47147,     0.47247,     0.47347,     0.47447,     0.47548,     0.47648,     0.47748,     0.47848,     0.47948,\n",
      "           0.48048,     0.48148,     0.48248,     0.48348,     0.48448,     0.48549,     0.48649,     0.48749,     0.48849,     0.48949,     0.49049,     0.49149,     0.49249,     0.49349,     0.49449,      0.4955,      0.4965,      0.4975,      0.4985,      0.4995,      0.5005,      0.5015,      0.5025,      0.5035,\n",
      "            0.5045,     0.50551,     0.50651,     0.50751,     0.50851,     0.50951,     0.51051,     0.51151,     0.51251,     0.51351,     0.51451,     0.51552,     0.51652,     0.51752,     0.51852,     0.51952,     0.52052,     0.52152,     0.52252,     0.52352,     0.52452,     0.52553,     0.52653,     0.52753,\n",
      "           0.52853,     0.52953,     0.53053,     0.53153,     0.53253,     0.53353,     0.53453,     0.53554,     0.53654,     0.53754,     0.53854,     0.53954,     0.54054,     0.54154,     0.54254,     0.54354,     0.54454,     0.54555,     0.54655,     0.54755,     0.54855,     0.54955,     0.55055,     0.55155,\n",
      "           0.55255,     0.55355,     0.55455,     0.55556,     0.55656,     0.55756,     0.55856,     0.55956,     0.56056,     0.56156,     0.56256,     0.56356,     0.56456,     0.56557,     0.56657,     0.56757,     0.56857,     0.56957,     0.57057,     0.57157,     0.57257,     0.57357,     0.57457,     0.57558,\n",
      "           0.57658,     0.57758,     0.57858,     0.57958,     0.58058,     0.58158,     0.58258,     0.58358,     0.58458,     0.58559,     0.58659,     0.58759,     0.58859,     0.58959,     0.59059,     0.59159,     0.59259,     0.59359,     0.59459,      0.5956,      0.5966,      0.5976,      0.5986,      0.5996,\n",
      "            0.6006,      0.6016,      0.6026,      0.6036,      0.6046,     0.60561,     0.60661,     0.60761,     0.60861,     0.60961,     0.61061,     0.61161,     0.61261,     0.61361,     0.61461,     0.61562,     0.61662,     0.61762,     0.61862,     0.61962,     0.62062,     0.62162,     0.62262,     0.62362,\n",
      "           0.62462,     0.62563,     0.62663,     0.62763,     0.62863,     0.62963,     0.63063,     0.63163,     0.63263,     0.63363,     0.63463,     0.63564,     0.63664,     0.63764,     0.63864,     0.63964,     0.64064,     0.64164,     0.64264,     0.64364,     0.64464,     0.64565,     0.64665,     0.64765,\n",
      "           0.64865,     0.64965,     0.65065,     0.65165,     0.65265,     0.65365,     0.65465,     0.65566,     0.65666,     0.65766,     0.65866,     0.65966,     0.66066,     0.66166,     0.66266,     0.66366,     0.66466,     0.66567,     0.66667,     0.66767,     0.66867,     0.66967,     0.67067,     0.67167,\n",
      "           0.67267,     0.67367,     0.67467,     0.67568,     0.67668,     0.67768,     0.67868,     0.67968,     0.68068,     0.68168,     0.68268,     0.68368,     0.68468,     0.68569,     0.68669,     0.68769,     0.68869,     0.68969,     0.69069,     0.69169,     0.69269,     0.69369,     0.69469,      0.6957,\n",
      "            0.6967,      0.6977,      0.6987,      0.6997,      0.7007,      0.7017,      0.7027,      0.7037,      0.7047,     0.70571,     0.70671,     0.70771,     0.70871,     0.70971,     0.71071,     0.71171,     0.71271,     0.71371,     0.71471,     0.71572,     0.71672,     0.71772,     0.71872,     0.71972,\n",
      "           0.72072,     0.72172,     0.72272,     0.72372,     0.72472,     0.72573,     0.72673,     0.72773,     0.72873,     0.72973,     0.73073,     0.73173,     0.73273,     0.73373,     0.73473,     0.73574,     0.73674,     0.73774,     0.73874,     0.73974,     0.74074,     0.74174,     0.74274,     0.74374,\n",
      "           0.74474,     0.74575,     0.74675,     0.74775,     0.74875,     0.74975,     0.75075,     0.75175,     0.75275,     0.75375,     0.75475,     0.75576,     0.75676,     0.75776,     0.75876,     0.75976,     0.76076,     0.76176,     0.76276,     0.76376,     0.76476,     0.76577,     0.76677,     0.76777,\n",
      "           0.76877,     0.76977,     0.77077,     0.77177,     0.77277,     0.77377,     0.77477,     0.77578,     0.77678,     0.77778,     0.77878,     0.77978,     0.78078,     0.78178,     0.78278,     0.78378,     0.78478,     0.78579,     0.78679,     0.78779,     0.78879,     0.78979,     0.79079,     0.79179,\n",
      "           0.79279,     0.79379,     0.79479,      0.7958,      0.7968,      0.7978,      0.7988,      0.7998,      0.8008,      0.8018,      0.8028,      0.8038,      0.8048,     0.80581,     0.80681,     0.80781,     0.80881,     0.80981,     0.81081,     0.81181,     0.81281,     0.81381,     0.81481,     0.81582,\n",
      "           0.81682,     0.81782,     0.81882,     0.81982,     0.82082,     0.82182,     0.82282,     0.82382,     0.82482,     0.82583,     0.82683,     0.82783,     0.82883,     0.82983,     0.83083,     0.83183,     0.83283,     0.83383,     0.83483,     0.83584,     0.83684,     0.83784,     0.83884,     0.83984,\n",
      "           0.84084,     0.84184,     0.84284,     0.84384,     0.84484,     0.84585,     0.84685,     0.84785,     0.84885,     0.84985,     0.85085,     0.85185,     0.85285,     0.85385,     0.85485,     0.85586,     0.85686,     0.85786,     0.85886,     0.85986,     0.86086,     0.86186,     0.86286,     0.86386,\n",
      "           0.86486,     0.86587,     0.86687,     0.86787,     0.86887,     0.86987,     0.87087,     0.87187,     0.87287,     0.87387,     0.87487,     0.87588,     0.87688,     0.87788,     0.87888,     0.87988,     0.88088,     0.88188,     0.88288,     0.88388,     0.88488,     0.88589,     0.88689,     0.88789,\n",
      "           0.88889,     0.88989,     0.89089,     0.89189,     0.89289,     0.89389,     0.89489,      0.8959,      0.8969,      0.8979,      0.8989,      0.8999,      0.9009,      0.9019,      0.9029,      0.9039,      0.9049,     0.90591,     0.90691,     0.90791,     0.90891,     0.90991,     0.91091,     0.91191,\n",
      "           0.91291,     0.91391,     0.91491,     0.91592,     0.91692,     0.91792,     0.91892,     0.91992,     0.92092,     0.92192,     0.92292,     0.92392,     0.92492,     0.92593,     0.92693,     0.92793,     0.92893,     0.92993,     0.93093,     0.93193,     0.93293,     0.93393,     0.93493,     0.93594,\n",
      "           0.93694,     0.93794,     0.93894,     0.93994,     0.94094,     0.94194,     0.94294,     0.94394,     0.94494,     0.94595,     0.94695,     0.94795,     0.94895,     0.94995,     0.95095,     0.95195,     0.95295,     0.95395,     0.95495,     0.95596,     0.95696,     0.95796,     0.95896,     0.95996,\n",
      "           0.96096,     0.96196,     0.96296,     0.96396,     0.96496,     0.96597,     0.96697,     0.96797,     0.96897,     0.96997,     0.97097,     0.97197,     0.97297,     0.97397,     0.97497,     0.97598,     0.97698,     0.97798,     0.97898,     0.97998,     0.98098,     0.98198,     0.98298,     0.98398,\n",
      "           0.98498,     0.98599,     0.98699,     0.98799,     0.98899,     0.98999,     0.99099,     0.99199,     0.99299,     0.99399,     0.99499,       0.996,       0.997,       0.998,       0.999,           1]), array([[          1,           1,           1, ...,           0,           0,           0],\n",
      "       [          1,           1,           1, ...,    0.079601,    0.059494,           0],\n",
      "       [          1,           1,           1, ...,     0.20119,      0.1738,           0],\n",
      "       ...,\n",
      "       [          1,           1,           1, ...,           0,           0,           0],\n",
      "       [          1,           1,           1, ...,           0,           0,           0],\n",
      "       [          1,           1,           1, ...,       0.375,       0.375,           0]]), 'Confidence', 'Recall']]\n",
      "fitness: 0.504581091668364\n",
      "keys: ['metrics/precision(B)', 'metrics/recall(B)', 'metrics/mAP50(B)', 'metrics/mAP50-95(B)']\n",
      "maps: array([    0.39388,     0.68553,     0.79702,     0.18331,     0.39799,     0.55712,     0.65974,     0.47148,     0.19461,     0.81222,     0.66777,     0.44464,      0.6758,     0.40732,     0.29309,     0.31262,     0.14786,      0.1294,     0.18668,     0.77439,     0.53851,     0.53196,     0.64734,     0.43296,\n",
      "           0.54499,     0.32167,     0.74949,     0.21924,     0.58412,     0.55819,     0.66966,     0.10842,     0.57851,     0.50904,     0.38389,     0.75796,     0.37316,     0.39764,     0.36245,     0.73625,     0.61531,     0.38603,     0.68718,     0.57024,     0.23687,     0.72963,     0.46138,     0.78308,\n",
      "           0.36402,     0.77425,     0.33167,     0.48954,     0.67561,     0.37198,     0.35108,     0.16954,     0.62986,     0.35402,     0.57378,     0.76255,     0.40559,     0.48814,     0.63043])\n",
      "names: {0: '100000', 1: '010100', 2: '110100', 3: '001100', 4: '101100', 5: '011100', 6: '111100', 7: '000010', 8: '100010', 9: '010010', 10: '110010', 11: '010000', 12: '001010', 13: '101010', 14: '011010', 15: '111010', 16: '000110', 17: '100110', 18: '010110', 19: '110110', 20: '001110', 21: '101110', 22: '110000', 23: '011110', 24: '111110', 25: '000001', 26: '100001', 27: '010001', 28: '110001', 29: '001001', 30: '101001', 31: '011001', 32: '111001', 33: '001000', 34: '000101', 35: '100101', 36: '010101', 37: '110101', 38: '001101', 39: '101101', 40: '011101', 41: '111101', 42: '000011', 43: '100011', 44: '101000', 45: '010011', 46: '110011', 47: '001011', 48: '101011', 49: '011011', 50: '111011', 51: '000111', 52: '100111', 53: '010111', 54: '110111', 55: '011000', 56: '001111', 57: '101111', 58: '011111', 59: '111111', 60: '111000', 61: '000100', 62: '100100'}\n",
      "plot: True\n",
      "results_dict: {'metrics/precision(B)': 0.4816312493575386, 'metrics/recall(B)': 0.8089801690921408, 'metrics/mAP50(B)': 0.6115646706701634, 'metrics/mAP50-95(B)': 0.4926940273348307, 'fitness': 0.504581091668364}\n",
      "save_dir: PosixPath('runs/detect/val4')\n",
      "speed: {'preprocess': 0.2630719060115434, 'inference': 6.817824031719876, 'loss': 0.00046732156081104494, 'postprocess': 1.5867512400557355}\n",
      "task: 'detect'\n",
      "\n",
      "image 1/18 /home2/kimmg/alpha/dataset/braille_hangle.v2/test/images/-2023-09-10-4-06-36_png.rf.50e72d967242ce2033dfa300eb5ef511.jpg: 448x640 1 110000, 1 000011, 1 111111, 29.9ms\n",
      "image 2/18 /home2/kimmg/alpha/dataset/braille_hangle.v2/test/images/-2023-09-10-4-37-45_png.rf.e90873889ea865d40b304aec15206e45.jpg: 448x640 2 110000s, 1 000011, 5.4ms\n",
      "image 3/18 /home2/kimmg/alpha/dataset/braille_hangle.v2/test/images/-2023-09-10-4-42-09_png.rf.247d0fc6ef5260d2bd20ab87a66ab7ce.jpg: 448x640 1 110000, 1 000011, 1 111111, 5.2ms\n",
      "image 4/18 /home2/kimmg/alpha/dataset/braille_hangle.v2/test/images/-2023-09-10-4-42-36_png.rf.9f654947272a3a6baf80235511952259.jpg: 448x640 2 110000s, 1 000011, 2 111111s, 5.2ms\n",
      "image 5/18 /home2/kimmg/alpha/dataset/braille_hangle.v2/test/images/-2023-09-10-4-43-08_png.rf.4ebd584de065a2b0f60ef4e9432b6166.jpg: 448x640 1 110000, 1 000011, 1 111111, 5.2ms\n",
      "image 6/18 /home2/kimmg/alpha/dataset/braille_hangle.v2/test/images/-2023-09-10-4-44-02_png.rf.53e82f9c679d63232aacd92ad613b414.jpg: 448x640 1 000011, 2 111111s, 5.2ms\n",
      "image 7/18 /home2/kimmg/alpha/dataset/braille_hangle.v2/test/images/-2023-09-18-7-14-20_png.rf.02aac4877633d8cfd09a7a953355c758.jpg: 448x640 2 110110s, 2 111111s, 5.2ms\n",
      "image 8/18 /home2/kimmg/alpha/dataset/braille_hangle.v2/test/images/-2023-09-18-7-17-03_png.rf.dda03b871c5257c667c43336a848e228.jpg: 448x640 2 110110s, 2 111111s, 5.1ms\n",
      "image 9/18 /home2/kimmg/alpha/dataset/braille_hangle.v2/test/images/-2023-09-18-7-17-27_png.rf.6804885492e212ad02d307bdfccef15e.jpg: 448x640 2 110110s, 2 111111s, 5.1ms\n",
      "image 10/18 /home2/kimmg/alpha/dataset/braille_hangle.v2/test/images/-2023-09-18-7-19-24_png.rf.cdfb925a9df41b95c80c1687d53732d5.jpg: 448x640 1 010010, 2 110110s, 1 101101, 2 111111s, 5.1ms\n",
      "image 11/18 /home2/kimmg/alpha/dataset/braille_hangle.v2/test/images/-2023-09-18-7-19-27_png.rf.ce2571516e380493e19066fd43c11c14.jpg: 448x640 2 110110s, 2 101001s, 1 101101, 2 111111s, 5.3ms\n",
      "image 12/18 /home2/kimmg/alpha/dataset/braille_hangle.v2/test/images/-2023-09-18-7-20-02_png.rf.b1a46443d9ffa140b20fe8eedb77419c.jpg: 448x640 1 010010, 1 110000, 2 110011s, 5.3ms\n",
      "image 13/18 /home2/kimmg/alpha/dataset/braille_hangle.v2/test/images/-2023-10-22-1-35-52_png.rf.f1b0dd8be1b41dcecc8d7dbcdeab379e.jpg: 448x640 5 111111s, 5.1ms\n",
      "image 14/18 /home2/kimmg/alpha/dataset/braille_hangle.v2/test/images/-2023-10-22-1-37-00_png.rf.ae98b9040997e5c0684f01a92b4d316d.jpg: 448x640 2 110110s, 5 111111s, 5.1ms\n",
      "image 15/18 /home2/kimmg/alpha/dataset/braille_hangle.v2/test/images/-2023-10-22-1-37-26_png.rf.677ac6e5147752c65b61d94af46abe91.jpg: 448x640 1 111110, 1 101101, 5.2ms\n",
      "image 16/18 /home2/kimmg/alpha/dataset/braille_hangle.v2/test/images/IMG_4036_JPG.rf.3573c9ba385e582081309e287fc9827b.jpg: 448x640 1 101010, 1 101101, 3 000011s, 1 110011, 5.4ms\n",
      "image 17/18 /home2/kimmg/alpha/dataset/braille_hangle.v2/test/images/IMG_4047_JPG.rf.137c085dcabb86c09a36480ae3b2b9e9.jpg: 448x640 4 010010s, 1 101101, 1 000011, 2 011011s, 5.1ms\n",
      "image 18/18 /home2/kimmg/alpha/dataset/braille_hangle.v2/test/images/IMG_4070_JPG.rf.5ead2bcd32e3b8ed8cd2039808828397.jpg: 448x640 1 110110, 2 000011s, 2 001011s, 5.2ms\n",
      "Speed: 1.7ms preprocess, 6.6ms inference, 0.9ms postprocess per image at shape (1, 3, 448, 640)\n",
      "Results saved to \u001b[1mruns/detect/predict4\u001b[0m\n",
      "Test results saved in: [ultralytics.engine.results.Results object with attributes:\n",
      "\n",
      "boxes: ultralytics.engine.results.Boxes object\n",
      "keypoints: None\n",
      "masks: None\n",
      "names: {0: '100000', 1: '010100', 2: '110100', 3: '001100', 4: '101100', 5: '011100', 6: '111100', 7: '000010', 8: '100010', 9: '010010', 10: '110010', 11: '010000', 12: '001010', 13: '101010', 14: '011010', 15: '111010', 16: '000110', 17: '100110', 18: '010110', 19: '110110', 20: '001110', 21: '101110', 22: '110000', 23: '011110', 24: '111110', 25: '000001', 26: '100001', 27: '010001', 28: '110001', 29: '001001', 30: '101001', 31: '011001', 32: '111001', 33: '001000', 34: '000101', 35: '100101', 36: '010101', 37: '110101', 38: '001101', 39: '101101', 40: '011101', 41: '111101', 42: '000011', 43: '100011', 44: '101000', 45: '010011', 46: '110011', 47: '001011', 48: '101011', 49: '011011', 50: '111011', 51: '000111', 52: '100111', 53: '010111', 54: '110111', 55: '011000', 56: '001111', 57: '101111', 58: '011111', 59: '111111', 60: '111000', 61: '000100', 62: '100100'}\n",
      "obb: None\n",
      "orig_img: array([[[254, 254, 254],\n",
      "        [255, 255, 255],\n",
      "        [255, 255, 255],\n",
      "        ...,\n",
      "        [254, 255, 253],\n",
      "        [252, 253, 251],\n",
      "        [251, 252, 250]],\n",
      "\n",
      "       [[253, 253, 253],\n",
      "        [254, 254, 254],\n",
      "        [255, 255, 255],\n",
      "        ...,\n",
      "        [255, 255, 254],\n",
      "        [254, 255, 253],\n",
      "        [252, 253, 251]],\n",
      "\n",
      "       [[253, 253, 253],\n",
      "        [253, 253, 253],\n",
      "        [254, 254, 254],\n",
      "        ...,\n",
      "        [254, 255, 253],\n",
      "        [252, 253, 251],\n",
      "        [251, 252, 250]],\n",
      "\n",
      "       ...,\n",
      "\n",
      "       [[255, 253, 252],\n",
      "        [255, 253, 252],\n",
      "        [255, 254, 253],\n",
      "        ...,\n",
      "        [254, 255, 253],\n",
      "        [251, 252, 250],\n",
      "        [249, 250, 248]],\n",
      "\n",
      "       [[241, 239, 238],\n",
      "        [241, 239, 238],\n",
      "        [241, 239, 238],\n",
      "        ...,\n",
      "        [242, 240, 239],\n",
      "        [240, 238, 237],\n",
      "        [237, 235, 234]],\n",
      "\n",
      "       [[219, 217, 216],\n",
      "        [219, 217, 216],\n",
      "        [220, 218, 217],\n",
      "        ...,\n",
      "        [220, 218, 217],\n",
      "        [218, 216, 215],\n",
      "        [216, 214, 213]]], dtype=uint8)\n",
      "orig_shape: (600, 900)\n",
      "path: '/home2/kimmg/alpha/dataset/braille_hangle.v2/test/images/-2023-09-10-4-06-36_png.rf.50e72d967242ce2033dfa300eb5ef511.jpg'\n",
      "probs: None\n",
      "save_dir: 'runs/detect/predict4'\n",
      "speed: {'preprocess': 2.1038055419921875, 'inference': 29.861927032470703, 'postprocess': 1.6319751739501953}, ultralytics.engine.results.Results object with attributes:\n",
      "\n",
      "boxes: ultralytics.engine.results.Boxes object\n",
      "keypoints: None\n",
      "masks: None\n",
      "names: {0: '100000', 1: '010100', 2: '110100', 3: '001100', 4: '101100', 5: '011100', 6: '111100', 7: '000010', 8: '100010', 9: '010010', 10: '110010', 11: '010000', 12: '001010', 13: '101010', 14: '011010', 15: '111010', 16: '000110', 17: '100110', 18: '010110', 19: '110110', 20: '001110', 21: '101110', 22: '110000', 23: '011110', 24: '111110', 25: '000001', 26: '100001', 27: '010001', 28: '110001', 29: '001001', 30: '101001', 31: '011001', 32: '111001', 33: '001000', 34: '000101', 35: '100101', 36: '010101', 37: '110101', 38: '001101', 39: '101101', 40: '011101', 41: '111101', 42: '000011', 43: '100011', 44: '101000', 45: '010011', 46: '110011', 47: '001011', 48: '101011', 49: '011011', 50: '111011', 51: '000111', 52: '100111', 53: '010111', 54: '110111', 55: '011000', 56: '001111', 57: '101111', 58: '011111', 59: '111111', 60: '111000', 61: '000100', 62: '100100'}\n",
      "obb: None\n",
      "orig_img: array([[[251, 252, 250],\n",
      "        [251, 252, 250],\n",
      "        [251, 252, 250],\n",
      "        ...,\n",
      "        [244, 242, 241],\n",
      "        [234, 232, 231],\n",
      "        [228, 226, 225]],\n",
      "\n",
      "       [[254, 255, 253],\n",
      "        [254, 255, 253],\n",
      "        [254, 255, 253],\n",
      "        ...,\n",
      "        [247, 245, 244],\n",
      "        [237, 235, 234],\n",
      "        [231, 229, 228]],\n",
      "\n",
      "       [[255, 255, 254],\n",
      "        [255, 255, 254],\n",
      "        [255, 255, 254],\n",
      "        ...,\n",
      "        [248, 246, 245],\n",
      "        [238, 236, 235],\n",
      "        [232, 230, 229]],\n",
      "\n",
      "       ...,\n",
      "\n",
      "       [[250, 251, 249],\n",
      "        [250, 251, 249],\n",
      "        [250, 251, 249],\n",
      "        ...,\n",
      "        [244, 240, 239],\n",
      "        [234, 230, 229],\n",
      "        [228, 224, 223]],\n",
      "\n",
      "       [[252, 253, 251],\n",
      "        [252, 253, 251],\n",
      "        [252, 253, 251],\n",
      "        ...,\n",
      "        [246, 242, 241],\n",
      "        [236, 232, 231],\n",
      "        [231, 227, 226]],\n",
      "\n",
      "       [[254, 255, 253],\n",
      "        [254, 255, 253],\n",
      "        [254, 255, 253],\n",
      "        ...,\n",
      "        [248, 244, 243],\n",
      "        [238, 234, 233],\n",
      "        [233, 229, 228]]], dtype=uint8)\n",
      "orig_shape: (600, 900)\n",
      "path: '/home2/kimmg/alpha/dataset/braille_hangle.v2/test/images/-2023-09-10-4-37-45_png.rf.e90873889ea865d40b304aec15206e45.jpg'\n",
      "probs: None\n",
      "save_dir: 'runs/detect/predict4'\n",
      "speed: {'preprocess': 1.7066001892089844, 'inference': 5.356550216674805, 'postprocess': 0.9970664978027344}, ultralytics.engine.results.Results object with attributes:\n",
      "\n",
      "boxes: ultralytics.engine.results.Boxes object\n",
      "keypoints: None\n",
      "masks: None\n",
      "names: {0: '100000', 1: '010100', 2: '110100', 3: '001100', 4: '101100', 5: '011100', 6: '111100', 7: '000010', 8: '100010', 9: '010010', 10: '110010', 11: '010000', 12: '001010', 13: '101010', 14: '011010', 15: '111010', 16: '000110', 17: '100110', 18: '010110', 19: '110110', 20: '001110', 21: '101110', 22: '110000', 23: '011110', 24: '111110', 25: '000001', 26: '100001', 27: '010001', 28: '110001', 29: '001001', 30: '101001', 31: '011001', 32: '111001', 33: '001000', 34: '000101', 35: '100101', 36: '010101', 37: '110101', 38: '001101', 39: '101101', 40: '011101', 41: '111101', 42: '000011', 43: '100011', 44: '101000', 45: '010011', 46: '110011', 47: '001011', 48: '101011', 49: '011011', 50: '111011', 51: '000111', 52: '100111', 53: '010111', 54: '110111', 55: '011000', 56: '001111', 57: '101111', 58: '011111', 59: '111111', 60: '111000', 61: '000100', 62: '100100'}\n",
      "obb: None\n",
      "orig_img: array([[[253, 254, 252],\n",
      "        [254, 255, 253],\n",
      "        [255, 255, 254],\n",
      "        ...,\n",
      "        [255, 255, 254],\n",
      "        [255, 255, 254],\n",
      "        [255, 255, 254]],\n",
      "\n",
      "       [[252, 253, 251],\n",
      "        [253, 254, 252],\n",
      "        [255, 255, 254],\n",
      "        ...,\n",
      "        [255, 255, 254],\n",
      "        [255, 254, 253],\n",
      "        [255, 254, 253]],\n",
      "\n",
      "       [[251, 252, 250],\n",
      "        [252, 253, 251],\n",
      "        [254, 255, 253],\n",
      "        ...,\n",
      "        [255, 254, 253],\n",
      "        [255, 253, 252],\n",
      "        [254, 252, 251]],\n",
      "\n",
      "       ...,\n",
      "\n",
      "       [[252, 252, 252],\n",
      "        [253, 253, 253],\n",
      "        [253, 253, 253],\n",
      "        ...,\n",
      "        [254, 254, 254],\n",
      "        [253, 253, 253],\n",
      "        [253, 253, 253]],\n",
      "\n",
      "       [[254, 254, 254],\n",
      "        [254, 254, 254],\n",
      "        [254, 254, 254],\n",
      "        ...,\n",
      "        [255, 255, 255],\n",
      "        [255, 255, 255],\n",
      "        [255, 255, 255]],\n",
      "\n",
      "       [[255, 255, 255],\n",
      "        [255, 255, 255],\n",
      "        [255, 255, 255],\n",
      "        ...,\n",
      "        [255, 255, 255],\n",
      "        [255, 255, 255],\n",
      "        [255, 255, 255]]], dtype=uint8)\n",
      "orig_shape: (600, 900)\n",
      "path: '/home2/kimmg/alpha/dataset/braille_hangle.v2/test/images/-2023-09-10-4-42-09_png.rf.247d0fc6ef5260d2bd20ab87a66ab7ce.jpg'\n",
      "probs: None\n",
      "save_dir: 'runs/detect/predict4'\n",
      "speed: {'preprocess': 1.6388893127441406, 'inference': 5.218029022216797, 'postprocess': 0.9069442749023438}, ultralytics.engine.results.Results object with attributes:\n",
      "\n",
      "boxes: ultralytics.engine.results.Boxes object\n",
      "keypoints: None\n",
      "masks: None\n",
      "names: {0: '100000', 1: '010100', 2: '110100', 3: '001100', 4: '101100', 5: '011100', 6: '111100', 7: '000010', 8: '100010', 9: '010010', 10: '110010', 11: '010000', 12: '001010', 13: '101010', 14: '011010', 15: '111010', 16: '000110', 17: '100110', 18: '010110', 19: '110110', 20: '001110', 21: '101110', 22: '110000', 23: '011110', 24: '111110', 25: '000001', 26: '100001', 27: '010001', 28: '110001', 29: '001001', 30: '101001', 31: '011001', 32: '111001', 33: '001000', 34: '000101', 35: '100101', 36: '010101', 37: '110101', 38: '001101', 39: '101101', 40: '011101', 41: '111101', 42: '000011', 43: '100011', 44: '101000', 45: '010011', 46: '110011', 47: '001011', 48: '101011', 49: '011011', 50: '111011', 51: '000111', 52: '100111', 53: '010111', 54: '110111', 55: '011000', 56: '001111', 57: '101111', 58: '011111', 59: '111111', 60: '111000', 61: '000100', 62: '100100'}\n",
      "obb: None\n",
      "orig_img: array([[[255, 255, 254],\n",
      "        [254, 255, 253],\n",
      "        [253, 254, 252],\n",
      "        ...,\n",
      "        [254, 254, 254],\n",
      "        [254, 254, 254],\n",
      "        [255, 255, 255]],\n",
      "\n",
      "       [[255, 255, 254],\n",
      "        [255, 255, 254],\n",
      "        [254, 255, 253],\n",
      "        ...,\n",
      "        [254, 254, 254],\n",
      "        [254, 254, 254],\n",
      "        [255, 255, 255]],\n",
      "\n",
      "       [[255, 255, 254],\n",
      "        [255, 255, 254],\n",
      "        [255, 255, 254],\n",
      "        ...,\n",
      "        [254, 254, 254],\n",
      "        [254, 254, 254],\n",
      "        [254, 254, 254]],\n",
      "\n",
      "       ...,\n",
      "\n",
      "       [[255, 253, 252],\n",
      "        [254, 252, 251],\n",
      "        [253, 251, 250],\n",
      "        ...,\n",
      "        [254, 255, 253],\n",
      "        [253, 254, 252],\n",
      "        [252, 253, 251]],\n",
      "\n",
      "       [[255, 253, 252],\n",
      "        [254, 252, 251],\n",
      "        [253, 251, 250],\n",
      "        ...,\n",
      "        [254, 255, 253],\n",
      "        [253, 254, 252],\n",
      "        [252, 253, 251]],\n",
      "\n",
      "       [[255, 253, 252],\n",
      "        [254, 252, 251],\n",
      "        [253, 251, 250],\n",
      "        ...,\n",
      "        [254, 255, 253],\n",
      "        [253, 254, 252],\n",
      "        [252, 253, 251]]], dtype=uint8)\n",
      "orig_shape: (600, 900)\n",
      "path: '/home2/kimmg/alpha/dataset/braille_hangle.v2/test/images/-2023-09-10-4-42-36_png.rf.9f654947272a3a6baf80235511952259.jpg'\n",
      "probs: None\n",
      "save_dir: 'runs/detect/predict4'\n",
      "speed: {'preprocess': 1.623392105102539, 'inference': 5.196571350097656, 'postprocess': 0.8676052093505859}, ultralytics.engine.results.Results object with attributes:\n",
      "\n",
      "boxes: ultralytics.engine.results.Boxes object\n",
      "keypoints: None\n",
      "masks: None\n",
      "names: {0: '100000', 1: '010100', 2: '110100', 3: '001100', 4: '101100', 5: '011100', 6: '111100', 7: '000010', 8: '100010', 9: '010010', 10: '110010', 11: '010000', 12: '001010', 13: '101010', 14: '011010', 15: '111010', 16: '000110', 17: '100110', 18: '010110', 19: '110110', 20: '001110', 21: '101110', 22: '110000', 23: '011110', 24: '111110', 25: '000001', 26: '100001', 27: '010001', 28: '110001', 29: '001001', 30: '101001', 31: '011001', 32: '111001', 33: '001000', 34: '000101', 35: '100101', 36: '010101', 37: '110101', 38: '001101', 39: '101101', 40: '011101', 41: '111101', 42: '000011', 43: '100011', 44: '101000', 45: '010011', 46: '110011', 47: '001011', 48: '101011', 49: '011011', 50: '111011', 51: '000111', 52: '100111', 53: '010111', 54: '110111', 55: '011000', 56: '001111', 57: '101111', 58: '011111', 59: '111111', 60: '111000', 61: '000100', 62: '100100'}\n",
      "obb: None\n",
      "orig_img: array([[[206, 204, 203],\n",
      "        [206, 204, 203],\n",
      "        [205, 203, 202],\n",
      "        ...,\n",
      "        [203, 203, 203],\n",
      "        [203, 203, 203],\n",
      "        [203, 203, 203]],\n",
      "\n",
      "       [[226, 224, 223],\n",
      "        [226, 224, 223],\n",
      "        [225, 223, 222],\n",
      "        ...,\n",
      "        [225, 225, 225],\n",
      "        [225, 225, 225],\n",
      "        [225, 225, 225]],\n",
      "\n",
      "       [[248, 246, 245],\n",
      "        [247, 245, 244],\n",
      "        [247, 245, 244],\n",
      "        ...,\n",
      "        [245, 245, 245],\n",
      "        [245, 245, 245],\n",
      "        [245, 245, 245]],\n",
      "\n",
      "       ...,\n",
      "\n",
      "       [[255, 254, 253],\n",
      "        [255, 255, 254],\n",
      "        [255, 255, 254],\n",
      "        ...,\n",
      "        [255, 255, 254],\n",
      "        [255, 255, 254],\n",
      "        [255, 255, 254]],\n",
      "\n",
      "       [[255, 253, 252],\n",
      "        [255, 253, 252],\n",
      "        [254, 252, 251],\n",
      "        ...,\n",
      "        [254, 252, 251],\n",
      "        [254, 252, 251],\n",
      "        [254, 252, 251]],\n",
      "\n",
      "       [[252, 250, 249],\n",
      "        [251, 249, 248],\n",
      "        [250, 248, 247],\n",
      "        ...,\n",
      "        [248, 246, 245],\n",
      "        [248, 246, 245],\n",
      "        [248, 246, 245]]], dtype=uint8)\n",
      "orig_shape: (600, 900)\n",
      "path: '/home2/kimmg/alpha/dataset/braille_hangle.v2/test/images/-2023-09-10-4-43-08_png.rf.4ebd584de065a2b0f60ef4e9432b6166.jpg'\n",
      "probs: None\n",
      "save_dir: 'runs/detect/predict4'\n",
      "speed: {'preprocess': 1.6489028930664062, 'inference': 5.217790603637695, 'postprocess': 0.8568763732910156}, ultralytics.engine.results.Results object with attributes:\n",
      "\n",
      "boxes: ultralytics.engine.results.Boxes object\n",
      "keypoints: None\n",
      "masks: None\n",
      "names: {0: '100000', 1: '010100', 2: '110100', 3: '001100', 4: '101100', 5: '011100', 6: '111100', 7: '000010', 8: '100010', 9: '010010', 10: '110010', 11: '010000', 12: '001010', 13: '101010', 14: '011010', 15: '111010', 16: '000110', 17: '100110', 18: '010110', 19: '110110', 20: '001110', 21: '101110', 22: '110000', 23: '011110', 24: '111110', 25: '000001', 26: '100001', 27: '010001', 28: '110001', 29: '001001', 30: '101001', 31: '011001', 32: '111001', 33: '001000', 34: '000101', 35: '100101', 36: '010101', 37: '110101', 38: '001101', 39: '101101', 40: '011101', 41: '111101', 42: '000011', 43: '100011', 44: '101000', 45: '010011', 46: '110011', 47: '001011', 48: '101011', 49: '011011', 50: '111011', 51: '000111', 52: '100111', 53: '010111', 54: '110111', 55: '011000', 56: '001111', 57: '101111', 58: '011111', 59: '111111', 60: '111000', 61: '000100', 62: '100100'}\n",
      "obb: None\n",
      "orig_img: array([[[240, 238, 237],\n",
      "        [245, 243, 242],\n",
      "        [253, 251, 250],\n",
      "        ...,\n",
      "        [254, 252, 251],\n",
      "        [254, 252, 251],\n",
      "        [254, 252, 251]],\n",
      "\n",
      "       [[240, 238, 237],\n",
      "        [245, 243, 242],\n",
      "        [252, 250, 249],\n",
      "        ...,\n",
      "        [255, 255, 254],\n",
      "        [255, 255, 254],\n",
      "        [255, 255, 254]],\n",
      "\n",
      "       [[239, 237, 236],\n",
      "        [244, 242, 241],\n",
      "        [252, 250, 249],\n",
      "        ...,\n",
      "        [255, 255, 254],\n",
      "        [255, 255, 254],\n",
      "        [255, 255, 254]],\n",
      "\n",
      "       ...,\n",
      "\n",
      "       [[240, 238, 237],\n",
      "        [246, 244, 243],\n",
      "        [253, 251, 250],\n",
      "        ...,\n",
      "        [255, 255, 254],\n",
      "        [255, 255, 254],\n",
      "        [255, 255, 254]],\n",
      "\n",
      "       [[237, 235, 234],\n",
      "        [242, 240, 239],\n",
      "        [249, 247, 246],\n",
      "        ...,\n",
      "        [250, 251, 249],\n",
      "        [250, 251, 249],\n",
      "        [250, 251, 249]],\n",
      "\n",
      "       [[231, 229, 228],\n",
      "        [236, 234, 233],\n",
      "        [243, 241, 240],\n",
      "        ...,\n",
      "        [241, 242, 240],\n",
      "        [241, 242, 240],\n",
      "        [241, 242, 240]]], dtype=uint8)\n",
      "orig_shape: (600, 900)\n",
      "path: '/home2/kimmg/alpha/dataset/braille_hangle.v2/test/images/-2023-09-10-4-44-02_png.rf.53e82f9c679d63232aacd92ad613b414.jpg'\n",
      "probs: None\n",
      "save_dir: 'runs/detect/predict4'\n",
      "speed: {'preprocess': 1.6460418701171875, 'inference': 5.213260650634766, 'postprocess': 0.8461475372314453}, ultralytics.engine.results.Results object with attributes:\n",
      "\n",
      "boxes: ultralytics.engine.results.Boxes object\n",
      "keypoints: None\n",
      "masks: None\n",
      "names: {0: '100000', 1: '010100', 2: '110100', 3: '001100', 4: '101100', 5: '011100', 6: '111100', 7: '000010', 8: '100010', 9: '010010', 10: '110010', 11: '010000', 12: '001010', 13: '101010', 14: '011010', 15: '111010', 16: '000110', 17: '100110', 18: '010110', 19: '110110', 20: '001110', 21: '101110', 22: '110000', 23: '011110', 24: '111110', 25: '000001', 26: '100001', 27: '010001', 28: '110001', 29: '001001', 30: '101001', 31: '011001', 32: '111001', 33: '001000', 34: '000101', 35: '100101', 36: '010101', 37: '110101', 38: '001101', 39: '101101', 40: '011101', 41: '111101', 42: '000011', 43: '100011', 44: '101000', 45: '010011', 46: '110011', 47: '001011', 48: '101011', 49: '011011', 50: '111011', 51: '000111', 52: '100111', 53: '010111', 54: '110111', 55: '011000', 56: '001111', 57: '101111', 58: '011111', 59: '111111', 60: '111000', 61: '000100', 62: '100100'}\n",
      "obb: None\n",
      "orig_img: array([[[255, 255, 255],\n",
      "        [255, 255, 255],\n",
      "        [255, 255, 255],\n",
      "        ...,\n",
      "        [255, 255, 255],\n",
      "        [255, 255, 255],\n",
      "        [255, 255, 255]],\n",
      "\n",
      "       [[255, 255, 255],\n",
      "        [255, 255, 255],\n",
      "        [255, 255, 255],\n",
      "        ...,\n",
      "        [255, 255, 255],\n",
      "        [255, 255, 255],\n",
      "        [255, 255, 255]],\n",
      "\n",
      "       [[255, 255, 255],\n",
      "        [255, 255, 255],\n",
      "        [255, 255, 255],\n",
      "        ...,\n",
      "        [255, 255, 255],\n",
      "        [255, 255, 255],\n",
      "        [255, 255, 255]],\n",
      "\n",
      "       ...,\n",
      "\n",
      "       [[244, 251, 246],\n",
      "        [244, 251, 246],\n",
      "        [244, 251, 246],\n",
      "        ...,\n",
      "        [244, 251, 246],\n",
      "        [244, 251, 246],\n",
      "        [244, 251, 246]],\n",
      "\n",
      "       [[244, 251, 246],\n",
      "        [244, 251, 246],\n",
      "        [244, 251, 246],\n",
      "        ...,\n",
      "        [244, 251, 246],\n",
      "        [244, 251, 246],\n",
      "        [244, 251, 246]],\n",
      "\n",
      "       [[244, 251, 246],\n",
      "        [244, 251, 246],\n",
      "        [244, 251, 246],\n",
      "        ...,\n",
      "        [244, 251, 246],\n",
      "        [244, 251, 246],\n",
      "        [244, 251, 246]]], dtype=uint8)\n",
      "orig_shape: (600, 900)\n",
      "path: '/home2/kimmg/alpha/dataset/braille_hangle.v2/test/images/-2023-09-18-7-14-20_png.rf.02aac4877633d8cfd09a7a953355c758.jpg'\n",
      "probs: None\n",
      "save_dir: 'runs/detect/predict4'\n",
      "speed: {'preprocess': 1.6274452209472656, 'inference': 5.247354507446289, 'postprocess': 0.8826255798339844}, ultralytics.engine.results.Results object with attributes:\n",
      "\n",
      "boxes: ultralytics.engine.results.Boxes object\n",
      "keypoints: None\n",
      "masks: None\n",
      "names: {0: '100000', 1: '010100', 2: '110100', 3: '001100', 4: '101100', 5: '011100', 6: '111100', 7: '000010', 8: '100010', 9: '010010', 10: '110010', 11: '010000', 12: '001010', 13: '101010', 14: '011010', 15: '111010', 16: '000110', 17: '100110', 18: '010110', 19: '110110', 20: '001110', 21: '101110', 22: '110000', 23: '011110', 24: '111110', 25: '000001', 26: '100001', 27: '010001', 28: '110001', 29: '001001', 30: '101001', 31: '011001', 32: '111001', 33: '001000', 34: '000101', 35: '100101', 36: '010101', 37: '110101', 38: '001101', 39: '101101', 40: '011101', 41: '111101', 42: '000011', 43: '100011', 44: '101000', 45: '010011', 46: '110011', 47: '001011', 48: '101011', 49: '011011', 50: '111011', 51: '000111', 52: '100111', 53: '010111', 54: '110111', 55: '011000', 56: '001111', 57: '101111', 58: '011111', 59: '111111', 60: '111000', 61: '000100', 62: '100100'}\n",
      "obb: None\n",
      "orig_img: array([[[255, 255, 255],\n",
      "        [255, 255, 255],\n",
      "        [255, 255, 255],\n",
      "        ...,\n",
      "        [255, 255, 255],\n",
      "        [255, 255, 255],\n",
      "        [255, 255, 255]],\n",
      "\n",
      "       [[255, 255, 255],\n",
      "        [255, 255, 255],\n",
      "        [255, 255, 255],\n",
      "        ...,\n",
      "        [255, 255, 255],\n",
      "        [255, 255, 255],\n",
      "        [255, 255, 255]],\n",
      "\n",
      "       [[255, 255, 255],\n",
      "        [255, 255, 255],\n",
      "        [255, 255, 255],\n",
      "        ...,\n",
      "        [255, 255, 255],\n",
      "        [255, 255, 255],\n",
      "        [255, 255, 255]],\n",
      "\n",
      "       ...,\n",
      "\n",
      "       [[244, 251, 246],\n",
      "        [244, 251, 246],\n",
      "        [244, 251, 246],\n",
      "        ...,\n",
      "        [245, 252, 249],\n",
      "        [245, 252, 249],\n",
      "        [245, 252, 249]],\n",
      "\n",
      "       [[244, 251, 246],\n",
      "        [244, 251, 246],\n",
      "        [244, 251, 246],\n",
      "        ...,\n",
      "        [245, 252, 249],\n",
      "        [245, 252, 249],\n",
      "        [245, 252, 249]],\n",
      "\n",
      "       [[244, 251, 246],\n",
      "        [244, 251, 246],\n",
      "        [244, 251, 246],\n",
      "        ...,\n",
      "        [245, 252, 249],\n",
      "        [245, 252, 249],\n",
      "        [245, 252, 249]]], dtype=uint8)\n",
      "orig_shape: (600, 900)\n",
      "path: '/home2/kimmg/alpha/dataset/braille_hangle.v2/test/images/-2023-09-18-7-17-03_png.rf.dda03b871c5257c667c43336a848e228.jpg'\n",
      "probs: None\n",
      "save_dir: 'runs/detect/predict4'\n",
      "speed: {'preprocess': 1.6107559204101562, 'inference': 5.105495452880859, 'postprocess': 0.8518695831298828}, ultralytics.engine.results.Results object with attributes:\n",
      "\n",
      "boxes: ultralytics.engine.results.Boxes object\n",
      "keypoints: None\n",
      "masks: None\n",
      "names: {0: '100000', 1: '010100', 2: '110100', 3: '001100', 4: '101100', 5: '011100', 6: '111100', 7: '000010', 8: '100010', 9: '010010', 10: '110010', 11: '010000', 12: '001010', 13: '101010', 14: '011010', 15: '111010', 16: '000110', 17: '100110', 18: '010110', 19: '110110', 20: '001110', 21: '101110', 22: '110000', 23: '011110', 24: '111110', 25: '000001', 26: '100001', 27: '010001', 28: '110001', 29: '001001', 30: '101001', 31: '011001', 32: '111001', 33: '001000', 34: '000101', 35: '100101', 36: '010101', 37: '110101', 38: '001101', 39: '101101', 40: '011101', 41: '111101', 42: '000011', 43: '100011', 44: '101000', 45: '010011', 46: '110011', 47: '001011', 48: '101011', 49: '011011', 50: '111011', 51: '000111', 52: '100111', 53: '010111', 54: '110111', 55: '011000', 56: '001111', 57: '101111', 58: '011111', 59: '111111', 60: '111000', 61: '000100', 62: '100100'}\n",
      "obb: None\n",
      "orig_img: array([[[255, 255, 255],\n",
      "        [255, 255, 255],\n",
      "        [255, 255, 255],\n",
      "        ...,\n",
      "        [255, 255, 255],\n",
      "        [255, 255, 255],\n",
      "        [255, 255, 255]],\n",
      "\n",
      "       [[255, 255, 255],\n",
      "        [255, 255, 255],\n",
      "        [255, 255, 255],\n",
      "        ...,\n",
      "        [255, 255, 255],\n",
      "        [255, 255, 255],\n",
      "        [255, 255, 255]],\n",
      "\n",
      "       [[255, 255, 255],\n",
      "        [255, 255, 255],\n",
      "        [255, 255, 255],\n",
      "        ...,\n",
      "        [255, 255, 255],\n",
      "        [255, 255, 255],\n",
      "        [255, 255, 255]],\n",
      "\n",
      "       ...,\n",
      "\n",
      "       [[244, 251, 246],\n",
      "        [244, 251, 246],\n",
      "        [244, 251, 246],\n",
      "        ...,\n",
      "        [244, 251, 246],\n",
      "        [244, 251, 246],\n",
      "        [244, 251, 246]],\n",
      "\n",
      "       [[244, 251, 246],\n",
      "        [244, 251, 246],\n",
      "        [244, 251, 246],\n",
      "        ...,\n",
      "        [244, 251, 246],\n",
      "        [244, 251, 246],\n",
      "        [244, 251, 246]],\n",
      "\n",
      "       [[244, 251, 246],\n",
      "        [244, 251, 246],\n",
      "        [244, 251, 246],\n",
      "        ...,\n",
      "        [244, 251, 246],\n",
      "        [244, 251, 246],\n",
      "        [244, 251, 246]]], dtype=uint8)\n",
      "orig_shape: (600, 900)\n",
      "path: '/home2/kimmg/alpha/dataset/braille_hangle.v2/test/images/-2023-09-18-7-17-27_png.rf.6804885492e212ad02d307bdfccef15e.jpg'\n",
      "probs: None\n",
      "save_dir: 'runs/detect/predict4'\n",
      "speed: {'preprocess': 1.6427040100097656, 'inference': 5.101442337036133, 'postprocess': 0.8568763732910156}, ultralytics.engine.results.Results object with attributes:\n",
      "\n",
      "boxes: ultralytics.engine.results.Boxes object\n",
      "keypoints: None\n",
      "masks: None\n",
      "names: {0: '100000', 1: '010100', 2: '110100', 3: '001100', 4: '101100', 5: '011100', 6: '111100', 7: '000010', 8: '100010', 9: '010010', 10: '110010', 11: '010000', 12: '001010', 13: '101010', 14: '011010', 15: '111010', 16: '000110', 17: '100110', 18: '010110', 19: '110110', 20: '001110', 21: '101110', 22: '110000', 23: '011110', 24: '111110', 25: '000001', 26: '100001', 27: '010001', 28: '110001', 29: '001001', 30: '101001', 31: '011001', 32: '111001', 33: '001000', 34: '000101', 35: '100101', 36: '010101', 37: '110101', 38: '001101', 39: '101101', 40: '011101', 41: '111101', 42: '000011', 43: '100011', 44: '101000', 45: '010011', 46: '110011', 47: '001011', 48: '101011', 49: '011011', 50: '111011', 51: '000111', 52: '100111', 53: '010111', 54: '110111', 55: '011000', 56: '001111', 57: '101111', 58: '011111', 59: '111111', 60: '111000', 61: '000100', 62: '100100'}\n",
      "obb: None\n",
      "orig_img: array([[[255, 255, 255],\n",
      "        [255, 255, 255],\n",
      "        [255, 255, 255],\n",
      "        ...,\n",
      "        [255, 255, 255],\n",
      "        [255, 255, 255],\n",
      "        [255, 255, 255]],\n",
      "\n",
      "       [[255, 255, 255],\n",
      "        [255, 255, 255],\n",
      "        [255, 255, 255],\n",
      "        ...,\n",
      "        [255, 255, 255],\n",
      "        [255, 255, 255],\n",
      "        [255, 255, 255]],\n",
      "\n",
      "       [[255, 255, 255],\n",
      "        [255, 255, 255],\n",
      "        [255, 255, 255],\n",
      "        ...,\n",
      "        [255, 255, 255],\n",
      "        [255, 255, 255],\n",
      "        [255, 255, 255]],\n",
      "\n",
      "       ...,\n",
      "\n",
      "       [[244, 251, 246],\n",
      "        [244, 251, 246],\n",
      "        [244, 251, 246],\n",
      "        ...,\n",
      "        [244, 251, 248],\n",
      "        [244, 251, 248],\n",
      "        [244, 251, 248]],\n",
      "\n",
      "       [[244, 251, 246],\n",
      "        [244, 251, 246],\n",
      "        [244, 251, 246],\n",
      "        ...,\n",
      "        [244, 251, 248],\n",
      "        [244, 251, 248],\n",
      "        [244, 251, 248]],\n",
      "\n",
      "       [[244, 251, 246],\n",
      "        [244, 251, 246],\n",
      "        [244, 251, 246],\n",
      "        ...,\n",
      "        [243, 250, 247],\n",
      "        [243, 250, 247],\n",
      "        [243, 250, 247]]], dtype=uint8)\n",
      "orig_shape: (600, 900)\n",
      "path: '/home2/kimmg/alpha/dataset/braille_hangle.v2/test/images/-2023-09-18-7-19-24_png.rf.cdfb925a9df41b95c80c1687d53732d5.jpg'\n",
      "probs: None\n",
      "save_dir: 'runs/detect/predict4'\n",
      "speed: {'preprocess': 1.6589164733886719, 'inference': 5.106925964355469, 'postprocess': 0.8559226989746094}, ultralytics.engine.results.Results object with attributes:\n",
      "\n",
      "boxes: ultralytics.engine.results.Boxes object\n",
      "keypoints: None\n",
      "masks: None\n",
      "names: {0: '100000', 1: '010100', 2: '110100', 3: '001100', 4: '101100', 5: '011100', 6: '111100', 7: '000010', 8: '100010', 9: '010010', 10: '110010', 11: '010000', 12: '001010', 13: '101010', 14: '011010', 15: '111010', 16: '000110', 17: '100110', 18: '010110', 19: '110110', 20: '001110', 21: '101110', 22: '110000', 23: '011110', 24: '111110', 25: '000001', 26: '100001', 27: '010001', 28: '110001', 29: '001001', 30: '101001', 31: '011001', 32: '111001', 33: '001000', 34: '000101', 35: '100101', 36: '010101', 37: '110101', 38: '001101', 39: '101101', 40: '011101', 41: '111101', 42: '000011', 43: '100011', 44: '101000', 45: '010011', 46: '110011', 47: '001011', 48: '101011', 49: '011011', 50: '111011', 51: '000111', 52: '100111', 53: '010111', 54: '110111', 55: '011000', 56: '001111', 57: '101111', 58: '011111', 59: '111111', 60: '111000', 61: '000100', 62: '100100'}\n",
      "obb: None\n",
      "orig_img: array([[[255, 255, 255],\n",
      "        [255, 255, 255],\n",
      "        [255, 255, 255],\n",
      "        ...,\n",
      "        [255, 255, 255],\n",
      "        [255, 255, 255],\n",
      "        [255, 255, 255]],\n",
      "\n",
      "       [[255, 255, 255],\n",
      "        [255, 255, 255],\n",
      "        [255, 255, 255],\n",
      "        ...,\n",
      "        [255, 255, 255],\n",
      "        [255, 255, 255],\n",
      "        [255, 255, 255]],\n",
      "\n",
      "       [[255, 255, 255],\n",
      "        [255, 255, 255],\n",
      "        [255, 255, 255],\n",
      "        ...,\n",
      "        [255, 255, 255],\n",
      "        [255, 255, 255],\n",
      "        [255, 255, 255]],\n",
      "\n",
      "       ...,\n",
      "\n",
      "       [[244, 251, 246],\n",
      "        [244, 251, 246],\n",
      "        [244, 251, 246],\n",
      "        ...,\n",
      "        [245, 252, 249],\n",
      "        [245, 252, 249],\n",
      "        [245, 252, 249]],\n",
      "\n",
      "       [[244, 251, 246],\n",
      "        [244, 251, 246],\n",
      "        [244, 251, 246],\n",
      "        ...,\n",
      "        [245, 252, 249],\n",
      "        [245, 252, 249],\n",
      "        [245, 252, 249]],\n",
      "\n",
      "       [[244, 251, 246],\n",
      "        [244, 251, 246],\n",
      "        [244, 251, 246],\n",
      "        ...,\n",
      "        [245, 252, 249],\n",
      "        [245, 252, 249],\n",
      "        [245, 252, 249]]], dtype=uint8)\n",
      "orig_shape: (600, 900)\n",
      "path: '/home2/kimmg/alpha/dataset/braille_hangle.v2/test/images/-2023-09-18-7-19-27_png.rf.ce2571516e380493e19066fd43c11c14.jpg'\n",
      "probs: None\n",
      "save_dir: 'runs/detect/predict4'\n",
      "speed: {'preprocess': 1.6300678253173828, 'inference': 5.343437194824219, 'postprocess': 0.934600830078125}, ultralytics.engine.results.Results object with attributes:\n",
      "\n",
      "boxes: ultralytics.engine.results.Boxes object\n",
      "keypoints: None\n",
      "masks: None\n",
      "names: {0: '100000', 1: '010100', 2: '110100', 3: '001100', 4: '101100', 5: '011100', 6: '111100', 7: '000010', 8: '100010', 9: '010010', 10: '110010', 11: '010000', 12: '001010', 13: '101010', 14: '011010', 15: '111010', 16: '000110', 17: '100110', 18: '010110', 19: '110110', 20: '001110', 21: '101110', 22: '110000', 23: '011110', 24: '111110', 25: '000001', 26: '100001', 27: '010001', 28: '110001', 29: '001001', 30: '101001', 31: '011001', 32: '111001', 33: '001000', 34: '000101', 35: '100101', 36: '010101', 37: '110101', 38: '001101', 39: '101101', 40: '011101', 41: '111101', 42: '000011', 43: '100011', 44: '101000', 45: '010011', 46: '110011', 47: '001011', 48: '101011', 49: '011011', 50: '111011', 51: '000111', 52: '100111', 53: '010111', 54: '110111', 55: '011000', 56: '001111', 57: '101111', 58: '011111', 59: '111111', 60: '111000', 61: '000100', 62: '100100'}\n",
      "obb: None\n",
      "orig_img: array([[[255, 255, 255],\n",
      "        [255, 255, 255],\n",
      "        [255, 255, 255],\n",
      "        ...,\n",
      "        [255, 255, 255],\n",
      "        [255, 255, 255],\n",
      "        [255, 255, 255]],\n",
      "\n",
      "       [[255, 255, 255],\n",
      "        [255, 255, 255],\n",
      "        [255, 255, 255],\n",
      "        ...,\n",
      "        [255, 255, 255],\n",
      "        [255, 255, 255],\n",
      "        [255, 255, 255]],\n",
      "\n",
      "       [[255, 255, 255],\n",
      "        [255, 255, 255],\n",
      "        [255, 255, 255],\n",
      "        ...,\n",
      "        [255, 255, 255],\n",
      "        [255, 255, 255],\n",
      "        [255, 255, 255]],\n",
      "\n",
      "       ...,\n",
      "\n",
      "       [[244, 251, 246],\n",
      "        [244, 251, 246],\n",
      "        [244, 251, 246],\n",
      "        ...,\n",
      "        [233, 240, 235],\n",
      "        [233, 240, 235],\n",
      "        [233, 240, 235]],\n",
      "\n",
      "       [[244, 251, 246],\n",
      "        [244, 251, 246],\n",
      "        [244, 251, 246],\n",
      "        ...,\n",
      "        [233, 240, 235],\n",
      "        [233, 240, 235],\n",
      "        [233, 240, 235]],\n",
      "\n",
      "       [[244, 251, 246],\n",
      "        [244, 251, 246],\n",
      "        [244, 251, 246],\n",
      "        ...,\n",
      "        [233, 240, 235],\n",
      "        [233, 240, 235],\n",
      "        [233, 240, 235]]], dtype=uint8)\n",
      "orig_shape: (600, 900)\n",
      "path: '/home2/kimmg/alpha/dataset/braille_hangle.v2/test/images/-2023-09-18-7-20-02_png.rf.b1a46443d9ffa140b20fe8eedb77419c.jpg'\n",
      "probs: None\n",
      "save_dir: 'runs/detect/predict4'\n",
      "speed: {'preprocess': 1.6295909881591797, 'inference': 5.3119659423828125, 'postprocess': 0.9021759033203125}, ultralytics.engine.results.Results object with attributes:\n",
      "\n",
      "boxes: ultralytics.engine.results.Boxes object\n",
      "keypoints: None\n",
      "masks: None\n",
      "names: {0: '100000', 1: '010100', 2: '110100', 3: '001100', 4: '101100', 5: '011100', 6: '111100', 7: '000010', 8: '100010', 9: '010010', 10: '110010', 11: '010000', 12: '001010', 13: '101010', 14: '011010', 15: '111010', 16: '000110', 17: '100110', 18: '010110', 19: '110110', 20: '001110', 21: '101110', 22: '110000', 23: '011110', 24: '111110', 25: '000001', 26: '100001', 27: '010001', 28: '110001', 29: '001001', 30: '101001', 31: '011001', 32: '111001', 33: '001000', 34: '000101', 35: '100101', 36: '010101', 37: '110101', 38: '001101', 39: '101101', 40: '011101', 41: '111101', 42: '000011', 43: '100011', 44: '101000', 45: '010011', 46: '110011', 47: '001011', 48: '101011', 49: '011011', 50: '111011', 51: '000111', 52: '100111', 53: '010111', 54: '110111', 55: '011000', 56: '001111', 57: '101111', 58: '011111', 59: '111111', 60: '111000', 61: '000100', 62: '100100'}\n",
      "obb: None\n",
      "orig_img: array([[[255, 255, 255],\n",
      "        [255, 255, 255],\n",
      "        [255, 255, 255],\n",
      "        ...,\n",
      "        [255, 255, 255],\n",
      "        [255, 255, 255],\n",
      "        [255, 255, 255]],\n",
      "\n",
      "       [[255, 255, 255],\n",
      "        [255, 255, 255],\n",
      "        [255, 255, 255],\n",
      "        ...,\n",
      "        [255, 255, 255],\n",
      "        [255, 255, 255],\n",
      "        [255, 255, 255]],\n",
      "\n",
      "       [[255, 255, 255],\n",
      "        [255, 255, 255],\n",
      "        [255, 255, 255],\n",
      "        ...,\n",
      "        [255, 255, 255],\n",
      "        [255, 255, 255],\n",
      "        [255, 255, 255]],\n",
      "\n",
      "       ...,\n",
      "\n",
      "       [[255, 255, 255],\n",
      "        [255, 255, 255],\n",
      "        [255, 255, 255],\n",
      "        ...,\n",
      "        [255, 255, 255],\n",
      "        [255, 255, 255],\n",
      "        [255, 255, 255]],\n",
      "\n",
      "       [[255, 255, 255],\n",
      "        [255, 255, 255],\n",
      "        [255, 255, 255],\n",
      "        ...,\n",
      "        [255, 255, 255],\n",
      "        [255, 255, 255],\n",
      "        [255, 255, 255]],\n",
      "\n",
      "       [[255, 255, 255],\n",
      "        [255, 255, 255],\n",
      "        [255, 255, 255],\n",
      "        ...,\n",
      "        [255, 255, 255],\n",
      "        [255, 255, 255],\n",
      "        [255, 255, 255]]], dtype=uint8)\n",
      "orig_shape: (600, 900)\n",
      "path: '/home2/kimmg/alpha/dataset/braille_hangle.v2/test/images/-2023-10-22-1-35-52_png.rf.f1b0dd8be1b41dcecc8d7dbcdeab379e.jpg'\n",
      "probs: None\n",
      "save_dir: 'runs/detect/predict4'\n",
      "speed: {'preprocess': 1.6207695007324219, 'inference': 5.120992660522461, 'postprocess': 0.8540153503417969}, ultralytics.engine.results.Results object with attributes:\n",
      "\n",
      "boxes: ultralytics.engine.results.Boxes object\n",
      "keypoints: None\n",
      "masks: None\n",
      "names: {0: '100000', 1: '010100', 2: '110100', 3: '001100', 4: '101100', 5: '011100', 6: '111100', 7: '000010', 8: '100010', 9: '010010', 10: '110010', 11: '010000', 12: '001010', 13: '101010', 14: '011010', 15: '111010', 16: '000110', 17: '100110', 18: '010110', 19: '110110', 20: '001110', 21: '101110', 22: '110000', 23: '011110', 24: '111110', 25: '000001', 26: '100001', 27: '010001', 28: '110001', 29: '001001', 30: '101001', 31: '011001', 32: '111001', 33: '001000', 34: '000101', 35: '100101', 36: '010101', 37: '110101', 38: '001101', 39: '101101', 40: '011101', 41: '111101', 42: '000011', 43: '100011', 44: '101000', 45: '010011', 46: '110011', 47: '001011', 48: '101011', 49: '011011', 50: '111011', 51: '000111', 52: '100111', 53: '010111', 54: '110111', 55: '011000', 56: '001111', 57: '101111', 58: '011111', 59: '111111', 60: '111000', 61: '000100', 62: '100100'}\n",
      "obb: None\n",
      "orig_img: array([[[255, 255, 255],\n",
      "        [255, 255, 255],\n",
      "        [255, 255, 255],\n",
      "        ...,\n",
      "        [255, 255, 255],\n",
      "        [255, 255, 255],\n",
      "        [255, 255, 255]],\n",
      "\n",
      "       [[255, 255, 255],\n",
      "        [255, 255, 255],\n",
      "        [255, 255, 255],\n",
      "        ...,\n",
      "        [255, 255, 255],\n",
      "        [255, 255, 255],\n",
      "        [255, 255, 255]],\n",
      "\n",
      "       [[255, 255, 255],\n",
      "        [255, 255, 255],\n",
      "        [255, 255, 255],\n",
      "        ...,\n",
      "        [255, 255, 255],\n",
      "        [255, 255, 255],\n",
      "        [255, 255, 255]],\n",
      "\n",
      "       ...,\n",
      "\n",
      "       [[255, 255, 255],\n",
      "        [255, 255, 255],\n",
      "        [255, 255, 255],\n",
      "        ...,\n",
      "        [255, 255, 255],\n",
      "        [255, 255, 255],\n",
      "        [255, 255, 255]],\n",
      "\n",
      "       [[255, 255, 255],\n",
      "        [255, 255, 255],\n",
      "        [255, 255, 255],\n",
      "        ...,\n",
      "        [255, 255, 255],\n",
      "        [255, 255, 255],\n",
      "        [255, 255, 255]],\n",
      "\n",
      "       [[255, 255, 255],\n",
      "        [255, 255, 255],\n",
      "        [255, 255, 255],\n",
      "        ...,\n",
      "        [255, 255, 255],\n",
      "        [255, 255, 255],\n",
      "        [255, 255, 255]]], dtype=uint8)\n",
      "orig_shape: (600, 900)\n",
      "path: '/home2/kimmg/alpha/dataset/braille_hangle.v2/test/images/-2023-10-22-1-37-00_png.rf.ae98b9040997e5c0684f01a92b4d316d.jpg'\n",
      "probs: None\n",
      "save_dir: 'runs/detect/predict4'\n",
      "speed: {'preprocess': 1.646280288696289, 'inference': 5.136013031005859, 'postprocess': 0.8585453033447266}, ultralytics.engine.results.Results object with attributes:\n",
      "\n",
      "boxes: ultralytics.engine.results.Boxes object\n",
      "keypoints: None\n",
      "masks: None\n",
      "names: {0: '100000', 1: '010100', 2: '110100', 3: '001100', 4: '101100', 5: '011100', 6: '111100', 7: '000010', 8: '100010', 9: '010010', 10: '110010', 11: '010000', 12: '001010', 13: '101010', 14: '011010', 15: '111010', 16: '000110', 17: '100110', 18: '010110', 19: '110110', 20: '001110', 21: '101110', 22: '110000', 23: '011110', 24: '111110', 25: '000001', 26: '100001', 27: '010001', 28: '110001', 29: '001001', 30: '101001', 31: '011001', 32: '111001', 33: '001000', 34: '000101', 35: '100101', 36: '010101', 37: '110101', 38: '001101', 39: '101101', 40: '011101', 41: '111101', 42: '000011', 43: '100011', 44: '101000', 45: '010011', 46: '110011', 47: '001011', 48: '101011', 49: '011011', 50: '111011', 51: '000111', 52: '100111', 53: '010111', 54: '110111', 55: '011000', 56: '001111', 57: '101111', 58: '011111', 59: '111111', 60: '111000', 61: '000100', 62: '100100'}\n",
      "obb: None\n",
      "orig_img: array([[[255, 255, 255],\n",
      "        [255, 255, 255],\n",
      "        [255, 255, 255],\n",
      "        ...,\n",
      "        [255, 255, 255],\n",
      "        [255, 255, 255],\n",
      "        [255, 255, 255]],\n",
      "\n",
      "       [[255, 255, 255],\n",
      "        [255, 255, 255],\n",
      "        [255, 255, 255],\n",
      "        ...,\n",
      "        [255, 255, 255],\n",
      "        [255, 255, 255],\n",
      "        [255, 255, 255]],\n",
      "\n",
      "       [[255, 255, 255],\n",
      "        [255, 255, 255],\n",
      "        [255, 255, 255],\n",
      "        ...,\n",
      "        [255, 255, 255],\n",
      "        [255, 255, 255],\n",
      "        [255, 255, 255]],\n",
      "\n",
      "       ...,\n",
      "\n",
      "       [[255, 255, 255],\n",
      "        [255, 255, 255],\n",
      "        [255, 255, 255],\n",
      "        ...,\n",
      "        [255, 255, 255],\n",
      "        [255, 255, 255],\n",
      "        [255, 255, 255]],\n",
      "\n",
      "       [[255, 255, 255],\n",
      "        [255, 255, 255],\n",
      "        [255, 255, 255],\n",
      "        ...,\n",
      "        [255, 255, 255],\n",
      "        [255, 255, 255],\n",
      "        [255, 255, 255]],\n",
      "\n",
      "       [[255, 255, 255],\n",
      "        [255, 255, 255],\n",
      "        [255, 255, 255],\n",
      "        ...,\n",
      "        [255, 255, 255],\n",
      "        [255, 255, 255],\n",
      "        [255, 255, 255]]], dtype=uint8)\n",
      "orig_shape: (600, 900)\n",
      "path: '/home2/kimmg/alpha/dataset/braille_hangle.v2/test/images/-2023-10-22-1-37-26_png.rf.677ac6e5147752c65b61d94af46abe91.jpg'\n",
      "probs: None\n",
      "save_dir: 'runs/detect/predict4'\n",
      "speed: {'preprocess': 1.6510486602783203, 'inference': 5.167484283447266, 'postprocess': 0.8471012115478516}, ultralytics.engine.results.Results object with attributes:\n",
      "\n",
      "boxes: ultralytics.engine.results.Boxes object\n",
      "keypoints: None\n",
      "masks: None\n",
      "names: {0: '100000', 1: '010100', 2: '110100', 3: '001100', 4: '101100', 5: '011100', 6: '111100', 7: '000010', 8: '100010', 9: '010010', 10: '110010', 11: '010000', 12: '001010', 13: '101010', 14: '011010', 15: '111010', 16: '000110', 17: '100110', 18: '010110', 19: '110110', 20: '001110', 21: '101110', 22: '110000', 23: '011110', 24: '111110', 25: '000001', 26: '100001', 27: '010001', 28: '110001', 29: '001001', 30: '101001', 31: '011001', 32: '111001', 33: '001000', 34: '000101', 35: '100101', 36: '010101', 37: '110101', 38: '001101', 39: '101101', 40: '011101', 41: '111101', 42: '000011', 43: '100011', 44: '101000', 45: '010011', 46: '110011', 47: '001011', 48: '101011', 49: '011011', 50: '111011', 51: '000111', 52: '100111', 53: '010111', 54: '110111', 55: '011000', 56: '001111', 57: '101111', 58: '011111', 59: '111111', 60: '111000', 61: '000100', 62: '100100'}\n",
      "obb: None\n",
      "orig_img: array([[[207, 203, 198],\n",
      "        [206, 202, 197],\n",
      "        [206, 202, 197],\n",
      "        ...,\n",
      "        [198, 195, 191],\n",
      "        [198, 195, 191],\n",
      "        [198, 195, 191]],\n",
      "\n",
      "       [[206, 202, 197],\n",
      "        [205, 201, 196],\n",
      "        [204, 200, 195],\n",
      "        ...,\n",
      "        [198, 195, 191],\n",
      "        [198, 195, 191],\n",
      "        [198, 195, 191]],\n",
      "\n",
      "       [[204, 200, 195],\n",
      "        [204, 200, 195],\n",
      "        [203, 199, 194],\n",
      "        ...,\n",
      "        [198, 195, 191],\n",
      "        [198, 195, 191],\n",
      "        [197, 194, 190]],\n",
      "\n",
      "       ...,\n",
      "\n",
      "       [[200, 196, 195],\n",
      "        [200, 196, 195],\n",
      "        [198, 194, 193],\n",
      "        ...,\n",
      "        [189, 186, 182],\n",
      "        [190, 187, 183],\n",
      "        [191, 188, 184]],\n",
      "\n",
      "       [[201, 197, 196],\n",
      "        [201, 197, 196],\n",
      "        [198, 194, 193],\n",
      "        ...,\n",
      "        [191, 188, 184],\n",
      "        [192, 189, 185],\n",
      "        [194, 191, 187]],\n",
      "\n",
      "       [[202, 198, 197],\n",
      "        [202, 198, 197],\n",
      "        [199, 195, 194],\n",
      "        ...,\n",
      "        [192, 189, 185],\n",
      "        [194, 191, 187],\n",
      "        [195, 192, 188]]], dtype=uint8)\n",
      "orig_shape: (600, 900)\n",
      "path: '/home2/kimmg/alpha/dataset/braille_hangle.v2/test/images/IMG_4036_JPG.rf.3573c9ba385e582081309e287fc9827b.jpg'\n",
      "probs: None\n",
      "save_dir: 'runs/detect/predict4'\n",
      "speed: {'preprocess': 1.9140243530273438, 'inference': 5.394220352172852, 'postprocess': 0.9033679962158203}, ultralytics.engine.results.Results object with attributes:\n",
      "\n",
      "boxes: ultralytics.engine.results.Boxes object\n",
      "keypoints: None\n",
      "masks: None\n",
      "names: {0: '100000', 1: '010100', 2: '110100', 3: '001100', 4: '101100', 5: '011100', 6: '111100', 7: '000010', 8: '100010', 9: '010010', 10: '110010', 11: '010000', 12: '001010', 13: '101010', 14: '011010', 15: '111010', 16: '000110', 17: '100110', 18: '010110', 19: '110110', 20: '001110', 21: '101110', 22: '110000', 23: '011110', 24: '111110', 25: '000001', 26: '100001', 27: '010001', 28: '110001', 29: '001001', 30: '101001', 31: '011001', 32: '111001', 33: '001000', 34: '000101', 35: '100101', 36: '010101', 37: '110101', 38: '001101', 39: '101101', 40: '011101', 41: '111101', 42: '000011', 43: '100011', 44: '101000', 45: '010011', 46: '110011', 47: '001011', 48: '101011', 49: '011011', 50: '111011', 51: '000111', 52: '100111', 53: '010111', 54: '110111', 55: '011000', 56: '001111', 57: '101111', 58: '011111', 59: '111111', 60: '111000', 61: '000100', 62: '100100'}\n",
      "obb: None\n",
      "orig_img: array([[[212, 210, 209],\n",
      "        [209, 207, 206],\n",
      "        [206, 204, 203],\n",
      "        ...,\n",
      "        [189, 188, 184],\n",
      "        [192, 191, 187],\n",
      "        [195, 194, 190]],\n",
      "\n",
      "       [[200, 198, 197],\n",
      "        [200, 198, 197],\n",
      "        [202, 200, 199],\n",
      "        ...,\n",
      "        [204, 203, 199],\n",
      "        [206, 205, 201],\n",
      "        [209, 208, 204]],\n",
      "\n",
      "       [[165, 163, 162],\n",
      "        [164, 162, 161],\n",
      "        [162, 160, 159],\n",
      "        ...,\n",
      "        [208, 207, 203],\n",
      "        [210, 209, 205],\n",
      "        [212, 211, 207]],\n",
      "\n",
      "       ...,\n",
      "\n",
      "       [[169, 168, 164],\n",
      "        [175, 174, 170],\n",
      "        [186, 185, 181],\n",
      "        ...,\n",
      "        [207, 208, 206],\n",
      "        [218, 219, 217],\n",
      "        [221, 222, 220]],\n",
      "\n",
      "       [[165, 164, 160],\n",
      "        [172, 171, 167],\n",
      "        [184, 183, 179],\n",
      "        ...,\n",
      "        [208, 209, 207],\n",
      "        [221, 222, 220],\n",
      "        [225, 226, 224]],\n",
      "\n",
      "       [[165, 164, 160],\n",
      "        [172, 171, 167],\n",
      "        [185, 184, 180],\n",
      "        ...,\n",
      "        [205, 206, 204],\n",
      "        [220, 221, 219],\n",
      "        [225, 226, 224]]], dtype=uint8)\n",
      "orig_shape: (600, 900)\n",
      "path: '/home2/kimmg/alpha/dataset/braille_hangle.v2/test/images/IMG_4047_JPG.rf.137c085dcabb86c09a36480ae3b2b9e9.jpg'\n",
      "probs: None\n",
      "save_dir: 'runs/detect/predict4'\n",
      "speed: {'preprocess': 1.9731521606445312, 'inference': 5.149602890014648, 'postprocess': 0.8487701416015625}, ultralytics.engine.results.Results object with attributes:\n",
      "\n",
      "boxes: ultralytics.engine.results.Boxes object\n",
      "keypoints: None\n",
      "masks: None\n",
      "names: {0: '100000', 1: '010100', 2: '110100', 3: '001100', 4: '101100', 5: '011100', 6: '111100', 7: '000010', 8: '100010', 9: '010010', 10: '110010', 11: '010000', 12: '001010', 13: '101010', 14: '011010', 15: '111010', 16: '000110', 17: '100110', 18: '010110', 19: '110110', 20: '001110', 21: '101110', 22: '110000', 23: '011110', 24: '111110', 25: '000001', 26: '100001', 27: '010001', 28: '110001', 29: '001001', 30: '101001', 31: '011001', 32: '111001', 33: '001000', 34: '000101', 35: '100101', 36: '010101', 37: '110101', 38: '001101', 39: '101101', 40: '011101', 41: '111101', 42: '000011', 43: '100011', 44: '101000', 45: '010011', 46: '110011', 47: '001011', 48: '101011', 49: '011011', 50: '111011', 51: '000111', 52: '100111', 53: '010111', 54: '110111', 55: '011000', 56: '001111', 57: '101111', 58: '011111', 59: '111111', 60: '111000', 61: '000100', 62: '100100'}\n",
      "obb: None\n",
      "orig_img: array([[[201, 202, 198],\n",
      "        [201, 202, 198],\n",
      "        [200, 201, 197],\n",
      "        ...,\n",
      "        [194, 198, 193],\n",
      "        [195, 199, 194],\n",
      "        [197, 201, 196]],\n",
      "\n",
      "       [[203, 204, 200],\n",
      "        [202, 203, 199],\n",
      "        [201, 202, 198],\n",
      "        ...,\n",
      "        [194, 198, 193],\n",
      "        [195, 199, 194],\n",
      "        [197, 201, 196]],\n",
      "\n",
      "       [[203, 204, 200],\n",
      "        [202, 203, 199],\n",
      "        [201, 202, 198],\n",
      "        ...,\n",
      "        [193, 197, 192],\n",
      "        [194, 198, 193],\n",
      "        [195, 199, 194]],\n",
      "\n",
      "       ...,\n",
      "\n",
      "       [[203, 204, 200],\n",
      "        [203, 204, 200],\n",
      "        [202, 203, 199],\n",
      "        ...,\n",
      "        [192, 193, 191],\n",
      "        [192, 193, 191],\n",
      "        [193, 194, 192]],\n",
      "\n",
      "       [[201, 202, 198],\n",
      "        [201, 202, 198],\n",
      "        [201, 202, 198],\n",
      "        ...,\n",
      "        [192, 193, 191],\n",
      "        [192, 193, 191],\n",
      "        [191, 192, 190]],\n",
      "\n",
      "       [[199, 200, 196],\n",
      "        [199, 200, 196],\n",
      "        [199, 200, 196],\n",
      "        ...,\n",
      "        [194, 195, 193],\n",
      "        [193, 194, 192],\n",
      "        [192, 193, 191]]], dtype=uint8)\n",
      "orig_shape: (600, 900)\n",
      "path: '/home2/kimmg/alpha/dataset/braille_hangle.v2/test/images/IMG_4070_JPG.rf.5ead2bcd32e3b8ed8cd2039808828397.jpg'\n",
      "probs: None\n",
      "save_dir: 'runs/detect/predict4'\n",
      "speed: {'preprocess': 1.8794536590576172, 'inference': 5.157470703125, 'postprocess': 0.8461475372314453}]\n"
     ]
    }
   ],
   "source": [
    "from ultralytics import YOLO\n",
    "\n",
    "model = YOLO('/home2/kimmg/alpha/runs/detect/yolo_braille_hangeul_mkdata_only500e/weights/best.pt')  # 학습된 모델 경로 - best model로 테스트\n",
    "data_yaml = '/home2/kimmg/alpha/dataset/testmk2datset/data.yaml'\n",
    "val_results = model.val(data=data_yaml, batch=16, imgsz=640)  # 검증\n",
    "\n",
    "print(f\"Validation Results: {val_results}\")\n",
    "\n",
    "test_results = model.predict(source='/home2/kimmg/alpha/dataset/braille_hangle.v2/test/images', save=True, imgsz=640)  # test data path\n",
    "\n",
    "print(f\"Test results saved in: {test_results}\")"
   ]
  },
  {
   "cell_type": "code",
   "execution_count": 4,
   "metadata": {},
   "outputs": [
    {
     "name": "stdout",
     "output_type": "stream",
     "text": [
      "\n",
      "0: 128x640 1 000010, 1 110010, 1 001010, 1 101010, 1 010001, 1 001000, 1 000101, 1 010101, 2 101000s, 1 011011, 1 001111, 1 100100, 6.6ms\n",
      "Speed: 0.5ms preprocess, 6.6ms inference, 1.1ms postprocess per image at shape (1, 3, 128, 640)\n",
      "Predicted Classes: [         33           7          10          36          49          44          13          62          12          44          56          27          34]\n",
      "Confidence Scores: [    0.91924     0.90686      0.7816     0.67607     0.63022     0.62689     0.60958     0.56465     0.55645     0.53567     0.39059      0.3599     0.26136]\n"
     ]
    }
   ],
   "source": [
    "import os\n",
    "import cv2\n",
    "import torch\n",
    "from ultralytics import YOLO\n",
    "\n",
    "# 모델을 학습할 때 저장된 경로를 명시 (여기서는 best.pt를 사용)\n",
    "model_path = '/home2/kimmg/alpha/runs/detect/yolo_braille_hangeul_mkdata_only500e/weights/best.pt'\n",
    "\n",
    "model = YOLO(model_path)  # 학습된 YOLO 모델 불러오기\n",
    "\n",
    "# 예시 이미지 경로\n",
    "image_path = \"/home2/kimmg/alpha/test_image/qn.png\"\n",
    "image = cv2.imread(image_path)\n",
    "\n",
    "# 3. 모델을 사용하여 이미지 예측\n",
    "results = model(image)\n",
    "\n",
    "# 예측 결과 확인\n",
    "# 예측된 바운딩 박스, 클래스 등의 정보를 확인\n",
    "# results[0].boxes.xyxy는 바운딩 박스 좌표, results[0].boxes.conf는 confidence score\n",
    "# results[0].boxes.cls는 클래스 예측\n",
    "boxes = results[0].boxes.xyxy.cpu().numpy()  # 바운딩 박스 좌표\n",
    "scores = results[0].boxes.conf.cpu().numpy()  # confidence score\n",
    "classes = results[0].boxes.cls.cpu().numpy()  # 클래스\n",
    "\n",
    "# 예측 결과 이미지 위에 표시\n",
    "binary_output = []\n",
    "for box, score, cls in zip(boxes, scores, classes):\n",
    "    if score > 0.28:\n",
    "        x1, y1, x2, y2 = map(int, box)\n",
    "        label = f\"{model.names[int(cls)]}: {score:.2f}\"\n",
    "        cv2.rectangle(image, (x1, y1), (x2, y2), (255, 0, 0), 2)  # 바운딩 박스 그리기\n",
    "        cv2.putText(image, label, (x1, y1 - 10), cv2.FONT_HERSHEY_SIMPLEX, 0.5, (255, 0, 0), 2)\n",
    "\n",
    "        binary_output.append((x1, model.names[int(cls)]))\n",
    "\n",
    "binary = []\n",
    "\n",
    "binary_output.sort(key=lambda x:x[0]) # x1값을 기준으로 오름차순 sorting\n",
    "for _,b in binary_output:\n",
    "    binary.append(b)\n",
    "\n",
    "\n",
    "#예측 결과 이미지 저장\n",
    "output_image_path = \"/home2/kimmg/alpha/test_output/qn.jpg\"\n",
    "cv2.imwrite(output_image_path, image)\n",
    "\n",
    "#예측 결과 출력\n",
    "print(f\"Predicted Classes: {classes}\")\n",
    "print(f\"Confidence Scores: {scores}\")"
   ]
  },
  {
   "cell_type": "code",
   "execution_count": 5,
   "metadata": {},
   "outputs": [],
   "source": [
    "binary_output.sort(key=lambda x:x[0])"
   ]
  },
  {
   "cell_type": "code",
   "execution_count": 6,
   "metadata": {},
   "outputs": [
    {
     "name": "stdout",
     "output_type": "stream",
     "text": [
      "[(7, '100100'), (34, '001010'), (34, '010001'), (60, '101000'), (88, '110010'), (116, '001111'), (142, '101000'), (170, '011011'), (197, '001000'), (225, '010101'), (225, '101010'), (252, '000010')]\n"
     ]
    }
   ],
   "source": [
    "print(binary_output)"
   ]
  },
  {
   "cell_type": "code",
   "execution_count": 34,
   "metadata": {},
   "outputs": [],
   "source": [
    "binary = []\n",
    "for _,b in binary_output:\n",
    "    binary.append(b)\n"
   ]
  },
  {
   "cell_type": "code",
   "execution_count": 35,
   "metadata": {},
   "outputs": [
    {
     "name": "stdout",
     "output_type": "stream",
     "text": [
      "['100100', '001010', '010001', '000010', '100011', '110010', '001111', '111001', '101000', '011011', '010101', '101010', '000010', '010000']\n"
     ]
    }
   ],
   "source": [
    "print(binary)"
   ]
  }
 ],
 "metadata": {
  "kernelspec": {
   "display_name": "test",
   "language": "python",
   "name": "python3"
  },
  "language_info": {
   "codemirror_mode": {
    "name": "ipython",
    "version": 3
   },
   "file_extension": ".py",
   "mimetype": "text/x-python",
   "name": "python",
   "nbconvert_exporter": "python",
   "pygments_lexer": "ipython3",
   "version": "3.11.9"
  }
 },
 "nbformat": 4,
 "nbformat_minor": 2
}
