{
 "cells": [
  {
   "cell_type": "code",
   "execution_count": 1,
   "metadata": {},
   "outputs": [],
   "source": [
    "import re\n",
    "\n",
    "from utils.jaso_complition import join_jamos\n",
    "\n",
    "CHOSEONG = {\n",
    "    '000100': 'ㄱ', '100100': 'ㄴ', '010100': 'ㄷ', \n",
    "    '000010': 'ㄹ', '100010': 'ㅁ', '000110': 'ㅂ', '000001': 'ㅅ',\n",
    "    '110110': 'ㅇ', '000101': 'ㅈ', '000011': 'ㅊ',\n",
    "    '110100': 'ㅋ', '110010': 'ㅌ', '100110': 'ㅍ', '010110': 'ㅎ'\n",
    "}\n",
    "\n",
    "DOUBLE = {\n",
    "    '000100': 'ㄲ', '010100': 'ㄸ', '000110': 'ㅃ', '000001': 'ㅆ', '000101': 'ㅉ'\n",
    "}\n",
    "\n",
    "SHORT_WORD = { # 뒤에 오는 자소(자음 혹은 모음)에 따라 약자로 Mapping될 수 있다. 초성입력시 뒤에 SHORTWORD내부에 있는지 체크하고 뒤에 있는 거까지 window로 묶어 초성+초성, 초성+종성-> ShortWord로 처리 \n",
    "    '110101': ['ㄱ','ㅏ'], '100100': ['ㄴ','ㅏ'], '010100': ['ㄷ','ㅏ'], '100010': ['ㅁ','ㅏ'], '000110': ['ㅂ','ㅏ'], '111000': ['ㅅ','ㅏ'], '000101': ['ㅈ','ㅏ'],\n",
    "    '110100': ['ㅋ','ㅏ'], '110010': ['ㅌ','ㅏ'], '100110': ['ㅍ','ㅏ'], '010110': ['ㅎ','ㅏ']\n",
    "}\n",
    "SHORT_DIRECT_MAPPING = {    \n",
    "    '100111': ['ㅓ','ㄱ'], '011111': ['ㅓ','ㄴ'], '011110': ['ㅓ','ㄹ'], \n",
    "    '100001': ['ㅕ','ㄴ'], '110011': ['ㅕ','ㄹ'], '110111': ['ㅕ','ㅇ'], '101101': ['ㅗ','ㄱ'], '111011': ['ㅗ','ㄴ'], '111111': ['ㅗ','ㅇ'], '110110': ['ㅜ','ㄴ'], '111101': ['ㅜ','ㄹ'],\n",
    "    '101011': ['ㅡ','ㄴ'], '011101': ['ㅡ','ㄹ'], '111110': ['ㅣ','ㄴ'], '000111': ['것']\n",
    "}\n",
    "\n",
    "JUNGSEONG = {\n",
    "    '110001': 'ㅏ', '001110': 'ㅑ', '011100': 'ㅓ', '100011': 'ㅕ', '101001': 'ㅗ',\n",
    "    '001101': 'ㅛ', '101100': 'ㅜ', '100101': 'ㅠ', '010101': 'ㅡ', '101010': 'ㅣ',\n",
    "    '111010': 'ㅐ', '101110': 'ㅔ', '001100': 'ㅖ', '101111': 'ㅚ',\n",
    "    '111001': 'ㅘ', '111100': 'ㅝ', '010111': 'ㅢ'\n",
    "}\n",
    "######## \n",
    "DOUBLE_JUNGSUNG = { # Double Jungsung에 포함된 자소 -> 뒤에 ㅣ (101010) 가 온다면 아래와 같이 매핑후 같이 처리\n",
    "    '111001': 'ㅙ',\n",
    "    '001110': 'ㅒ',\n",
    "    '111100': 'ㅞ',\n",
    "    '101100': 'ㅟ',\n",
    "}\n",
    "\n",
    "JONGSEONG = {\n",
    "    '100000': 'ㄱ', '010010': 'ㄴ', '001010': 'ㄷ', '010000': 'ㄹ', '010001': 'ㅁ', '110000': 'ㅂ', '001000': 'ㅅ',\n",
    "    '011011': 'ㅇ', '101000': 'ㅈ', '011000': 'ㅊ', '011010': 'ㅋ', '011001': 'ㅌ', '010011': 'ㅍ', '001011': 'ㅎ'\n",
    "}\n",
    "\n",
    "DOUBLE_JONGSUNG = {\n",
    "    '100000100000': 'ㄲ', '100000001000' : 'ㄳ', '010010101000' : 'ㄵ', '010010001011' : 'ㄶ', '010000100000':'ㄺ', '010000010001':'ㄻ', '010000110000':'ㄼ', '010000001000':'ㄽ', '01000011001':'ㄾ', \n",
    "    '010000010011':'ㄿ', '010000001011':'ㅀ', '110000001000':'ㅄ', '001000001000':'ㅆ'\n",
    "}\n",
    "\n",
    "UNG = {\n",
    "    '셩': '성', '쎵': '썽', '졍': '정', '쪙': '쩡', '쳥': '청'\n",
    "}\n",
    "\n",
    "# 초성, 중성, 종성의 유니코드 매핑\n",
    "CHOSEONG_MAP = {'ㄱ': 0, 'ㄲ': 1, 'ㄴ': 2, 'ㄷ': 3, 'ㄸ': 4, 'ㄹ': 5, 'ㅁ': 6, 'ㅂ': 7, 'ㅃ': 8, 'ㅅ': 9, 'ㅆ': 10, 'ㅇ': 11, 'ㅈ': 12, 'ㅉ': 13, 'ㅊ': 14, 'ㅋ': 15, 'ㅌ': 16, 'ㅍ': 17, 'ㅎ': 18}\n",
    "JUNGSEONG_MAP = {'ㅏ': 0, 'ㅐ': 1, 'ㅑ': 2, 'ㅒ': 3, 'ㅓ': 4, 'ㅔ': 5, 'ㅕ': 6, 'ㅖ': 7, 'ㅗ': 8, 'ㅘ': 9, 'ㅙ': 10, 'ㅚ': 11, 'ㅛ': 12, 'ㅜ': 13, 'ㅝ': 14, 'ㅞ': 15, 'ㅟ': 16, 'ㅠ': 17, 'ㅡ': 18, 'ㅢ': 19, 'ㅣ': 20}\n",
    "JONGSEONG_MAP = {' ': 0, 'ㄱ': 1, 'ㄲ': 2, 'ㄳ': 3, 'ㄴ': 4, 'ㄵ': 5, 'ㄶ': 6, 'ㄷ': 7, 'ㄹ': 8, 'ㄺ': 9, 'ㄻ': 10, 'ㄼ': 11, 'ㄽ': 12, 'ㄾ': 13, 'ㄿ': 14, 'ㅀ': 15, 'ㅁ': 16, 'ㅂ': 17, 'ㅄ': 18, 'ㅅ': 19, 'ㅆ': 20, 'ㅇ': 21, 'ㅈ': 22, 'ㅊ': 23, 'ㅋ': 24, 'ㅌ': 25, 'ㅍ': 26, 'ㅎ': 27}\n",
    "\n"
   ]
  },
  {
   "cell_type": "code",
   "execution_count": 2,
   "metadata": {},
   "outputs": [],
   "source": [
    "toilet = \"100100 010001 000101 010110 111001 000101 011011 000001 101010 010000\".split() # 남자화장실 (약어)\n",
    "\n",
    "chicken_skewd = '010100 010000 100000 000001 000100 101001 000011 101010'.split() # 닭꼬치\n",
    "\n",
    "pretty = '001100 000001 000110 101011 101010'.split() # 예쁜이\n",
    "\n"
   ]
  },
  {
   "cell_type": "code",
   "execution_count": 16,
   "metadata": {},
   "outputs": [
    {
     "name": "stdout",
     "output_type": "stream",
     "text": [
      "['100100', '010001', '000101', '010110', '111001', '000101', '011011', '000001', '101010', '010000']\n"
     ]
    }
   ],
   "source": [
    "result = []\n",
    "l = toilet\n",
    "skip_next = False  # 다음 원소를 건너뛸지 여부를 저장하는 플래그\n",
    "print(l)\n",
    "for m in range(len(l)):\n",
    "    if skip_next:\n",
    "        skip_next = False  # 이전에 m+1을 건너뛰기로 했으면 이번 루프는 처리하지 않고 넘김\n",
    "        continue\n",
    "\n",
    "    if l[m] in CHOSEONG:\n",
    "        if m + 1 < len(l) and l[m] == '000001' and l[m+1] in CHOSEONG:\n",
    "            result.append(DOUBLE[l[m+1]])\n",
    "            skip_next = True  # 다음 원소를 건너뛰기 위해 플래그 설정\n",
    "        elif m + 1 < len(l) and l[m+1] in DOUBLE:  # 된소리(초성) 처리\n",
    "            combined_s = l[m]  \n",
    "            result.append(DOUBLE[combined_s])  \n",
    "            skip_next = True  # 다음 원소를 건너뛰기 위해 플래그 설정\n",
    "            \n",
    "        elif m + 1 < len(l) and l[m] in SHORT_WORD and (l[m+1] in JONGSEONG or l[m+1] in CHOSEONG):  # 약어 처리\n",
    "            short_word = l[m]\n",
    "            result += SHORT_WORD[short_word]\n",
    "        else:\n",
    "            result.append(CHOSEONG[l[m]])\n",
    "\n",
    "    elif l[m] in JUNGSEONG:\n",
    "        if (0 < m - 1 or m == 0 )and l[m-1] not in CHOSEONG: # 'ㅇ' 이 초성으로 올경우 추가 처리\n",
    "            result.append('ㅇ')\n",
    "        \n",
    "        if m + 1 < len(l) and l[m+1] == '111010':  # 이중 모음 체크\n",
    "            result.append(DOUBLE_JUNGSUNG[l[m]])\n",
    "            skip_next = True  # 다음 원소를 건너뛰기 위해 플래그 설정\n",
    "        else:\n",
    "            result.append(JUNGSEONG[l[m]])\n",
    "\n",
    "    elif l[m] in JONGSEONG:\n",
    "        if m + 1 < len(l) and l[m+1] in JONGSEONG:\n",
    "            combined_e = l[m] + l[m+1]\n",
    "\n",
    "            result.append(DOUBLE_JONGSUNG[combined_e])\n",
    "            skip_next = True  # 다음 원소를 건너뛰기 위해 플래그 설정\n",
    "        else:\n",
    "            result.append(JONGSEONG[l[m]])\n",
    "\n",
    "    elif l[m] in SHORT_DIRECT_MAPPING:\n",
    "        result += SHORT_DIRECT_MAPPING[l[m]]"
   ]
  },
  {
   "cell_type": "code",
   "execution_count": 12,
   "metadata": {},
   "outputs": [
    {
     "name": "stdout",
     "output_type": "stream",
     "text": [
      "['100100', '010001', '000101', '010110', '111001', '000101', '011011', '000001', '101010', '010000']\n"
     ]
    }
   ],
   "source": [
    "from utils.binary_to_jaso import jaso2char\n",
    "result = jaso2char(toilet) "
   ]
  },
  {
   "cell_type": "code",
   "execution_count": 13,
   "metadata": {},
   "outputs": [
    {
     "data": {
      "text/plain": [
       "['ㄴ', 'ㅏ', 'ㅁ', 'ㅈ', 'ㅏ', 'ㅎ', 'ㅘ', 'ㅈ', 'ㅏ', 'ㅇ', 'ㅅ', 'ㅣ', 'ㄹ']"
      ]
     },
     "execution_count": 13,
     "metadata": {},
     "output_type": "execute_result"
    }
   ],
   "source": [
    "result"
   ]
  },
  {
   "cell_type": "code",
   "execution_count": 8,
   "metadata": {},
   "outputs": [
    {
     "data": {
      "text/plain": [
       "['ㄷ', 'ㅏ', 'ㄺ', 'ㄲ', 'ㅗ', 'ㅊ', 'ㅣ']"
      ]
     },
     "execution_count": 8,
     "metadata": {},
     "output_type": "execute_result"
    }
   ],
   "source": [
    "result"
   ]
  },
  {
   "cell_type": "code",
   "execution_count": 9,
   "metadata": {},
   "outputs": [
    {
     "name": "stdout",
     "output_type": "stream",
     "text": [
      "닭꼬치\n"
     ]
    }
   ],
   "source": [
    "from utils.jaso_complition import join_jamos\n",
    "\n",
    "print(join_jamos(result))"
   ]
  },
  {
   "cell_type": "code",
   "execution_count": null,
   "metadata": {},
   "outputs": [],
   "source": []
  }
 ],
 "metadata": {
  "kernelspec": {
   "display_name": "searchagent",
   "language": "python",
   "name": "python3"
  },
  "language_info": {
   "codemirror_mode": {
    "name": "ipython",
    "version": 3
   },
   "file_extension": ".py",
   "mimetype": "text/x-python",
   "name": "python",
   "nbconvert_exporter": "python",
   "pygments_lexer": "ipython3",
   "version": "3.9.20"
  }
 },
 "nbformat": 4,
 "nbformat_minor": 2
}
